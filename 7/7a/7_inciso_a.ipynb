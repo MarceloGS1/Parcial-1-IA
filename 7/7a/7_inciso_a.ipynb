{
  "nbformat": 4,
  "nbformat_minor": 0,
  "metadata": {
    "colab": {
      "provenance": []
    },
    "kernelspec": {
      "name": "python3",
      "display_name": "Python 3"
    },
    "language_info": {
      "name": "python"
    }
  },
  "cells": [
    {
      "cell_type": "code",
      "execution_count": 86,
      "metadata": {
        "colab": {
          "base_uri": "https://localhost:8080/"
        },
        "id": "LnKEPiyg-_6R",
        "outputId": "219cc94e-79e7-4a13-83b9-402772c051fb"
      },
      "outputs": [
        {
          "output_type": "stream",
          "name": "stdout",
          "text": [
            "gen\tnevals\t avg      \t std      \t min \t max       \n",
            "0  \t300   \t1.0877e+34\t4.4331e+34\t0    \t1.91751e+35\n",
            "1  \t178   \t3.19849e+34\t7.14496e+34\t0    \t1.91751e+35\n",
            "2  \t184   \t7.80228e+34\t9.41539e+34\t728  \t1.91751e+35\n",
            "3  \t185   \t1.43838e+35\t8.29872e+34\t1e+20\t1.91751e+35\n",
            "[Individual('b', [1, 1, 1, 1]), Individual('b', [1, 1, 1, 1]), Individual('b', [1, 1, 1, 1]), Individual('b', [0, 1, 1, 1]), Individual('b', [1, 1, 1, 1]), Individual('b', [1, 1, 1, 1]), Individual('b', [0, 1, 1, 1]), Individual('b', [1, 1, 1, 1]), Individual('b', [0, 1, 1, 1]), Individual('b', [1, 1, 1, 1]), Individual('b', [0, 1, 1, 1]), Individual('b', [1, 1, 1, 1]), Individual('b', [1, 1, 1, 1]), Individual('b', [1, 1, 1, 1]), Individual('b', [1, 1, 1, 1]), Individual('b', [1, 1, 1, 1]), Individual('b', [1, 1, 1, 1]), Individual('b', [1, 1, 1, 1]), Individual('b', [1, 1, 1, 1]), Individual('b', [1, 1, 1, 1]), Individual('b', [1, 1, 1, 1]), Individual('b', [1, 1, 1, 1]), Individual('b', [1, 1, 1, 1]), Individual('b', [1, 1, 1, 1]), Individual('b', [1, 1, 1, 1]), Individual('b', [1, 1, 1, 1]), Individual('b', [0, 1, 1, 1]), Individual('b', [1, 1, 1, 1]), Individual('b', [1, 1, 1, 1]), Individual('b', [1, 1, 1, 1]), Individual('b', [0, 1, 1, 1]), Individual('b', [1, 1, 1, 1]), Individual('b', [1, 1, 1, 1]), Individual('b', [1, 1, 1, 1]), Individual('b', [0, 1, 1, 1]), Individual('b', [1, 1, 1, 1]), Individual('b', [1, 1, 1, 1]), Individual('b', [1, 0, 1, 1]), Individual('b', [1, 1, 1, 1]), Individual('b', [1, 1, 1, 1]), Individual('b', [1, 1, 1, 1]), Individual('b', [1, 1, 1, 1]), Individual('b', [1, 1, 1, 1]), Individual('b', [1, 1, 1, 1]), Individual('b', [1, 1, 1, 1]), Individual('b', [0, 1, 1, 1]), Individual('b', [0, 1, 1, 1]), Individual('b', [1, 1, 1, 1]), Individual('b', [0, 1, 1, 1]), Individual('b', [1, 1, 1, 1]), Individual('b', [0, 1, 1, 1]), Individual('b', [1, 1, 1, 1]), Individual('b', [0, 1, 1, 1]), Individual('b', [0, 1, 1, 1]), Individual('b', [1, 1, 1, 1]), Individual('b', [1, 1, 1, 1]), Individual('b', [0, 1, 1, 1]), Individual('b', [1, 1, 1, 1]), Individual('b', [0, 1, 1, 1]), Individual('b', [0, 1, 1, 1]), Individual('b', [1, 1, 1, 1]), Individual('b', [1, 1, 1, 1]), Individual('b', [1, 1, 1, 1]), Individual('b', [1, 1, 1, 1]), Individual('b', [0, 1, 1, 1]), Individual('b', [0, 1, 1, 1]), Individual('b', [0, 1, 1, 1]), Individual('b', [1, 1, 1, 1]), Individual('b', [1, 1, 1, 1]), Individual('b', [1, 1, 1, 1]), Individual('b', [1, 1, 1, 1]), Individual('b', [0, 1, 1, 1]), Individual('b', [0, 1, 1, 1]), Individual('b', [1, 1, 1, 1]), Individual('b', [1, 1, 1, 1]), Individual('b', [1, 1, 1, 1]), Individual('b', [1, 0, 1, 1]), Individual('b', [1, 1, 1, 1]), Individual('b', [1, 1, 1, 1]), Individual('b', [1, 1, 1, 1]), Individual('b', [0, 1, 1, 1]), Individual('b', [1, 1, 1, 1]), Individual('b', [1, 1, 1, 1]), Individual('b', [1, 1, 1, 1]), Individual('b', [1, 1, 1, 1]), Individual('b', [1, 1, 1, 1]), Individual('b', [1, 1, 1, 1]), Individual('b', [1, 1, 1, 1]), Individual('b', [1, 1, 1, 1]), Individual('b', [1, 1, 1, 1]), Individual('b', [1, 1, 1, 1]), Individual('b', [1, 1, 1, 1]), Individual('b', [1, 1, 1, 1]), Individual('b', [1, 1, 1, 1]), Individual('b', [1, 1, 1, 1]), Individual('b', [1, 1, 1, 1]), Individual('b', [1, 1, 1, 1]), Individual('b', [1, 1, 1, 1]), Individual('b', [1, 1, 1, 1]), Individual('b', [1, 1, 1, 1]), Individual('b', [1, 1, 1, 1]), Individual('b', [1, 1, 1, 1]), Individual('b', [0, 1, 1, 1]), Individual('b', [1, 1, 1, 1]), Individual('b', [1, 1, 1, 1]), Individual('b', [1, 0, 1, 1]), Individual('b', [1, 1, 1, 1]), Individual('b', [0, 1, 1, 1]), Individual('b', [1, 1, 1, 1]), Individual('b', [1, 1, 1, 1]), Individual('b', [1, 1, 1, 1]), Individual('b', [1, 1, 1, 1]), Individual('b', [1, 1, 1, 1]), Individual('b', [1, 1, 1, 1]), Individual('b', [1, 1, 1, 1]), Individual('b', [1, 1, 1, 1]), Individual('b', [1, 1, 1, 1]), Individual('b', [1, 1, 1, 1]), Individual('b', [1, 1, 1, 1]), Individual('b', [0, 1, 1, 1]), Individual('b', [1, 1, 1, 1]), Individual('b', [1, 1, 1, 1]), Individual('b', [1, 1, 1, 1]), Individual('b', [1, 1, 1, 1]), Individual('b', [1, 1, 1, 1]), Individual('b', [1, 1, 1, 1]), Individual('b', [1, 1, 1, 1]), Individual('b', [1, 1, 1, 1]), Individual('b', [1, 1, 1, 1]), Individual('b', [1, 1, 1, 1]), Individual('b', [1, 1, 1, 1]), Individual('b', [1, 1, 1, 1]), Individual('b', [0, 1, 1, 1]), Individual('b', [0, 1, 1, 1]), Individual('b', [0, 1, 1, 1]), Individual('b', [1, 1, 1, 1]), Individual('b', [0, 1, 1, 1]), Individual('b', [0, 1, 1, 1]), Individual('b', [1, 1, 1, 1]), Individual('b', [0, 1, 1, 1]), Individual('b', [1, 1, 0, 1]), Individual('b', [1, 1, 1, 1]), Individual('b', [1, 1, 1, 1]), Individual('b', [1, 1, 1, 1]), Individual('b', [1, 1, 1, 1]), Individual('b', [0, 1, 1, 1]), Individual('b', [0, 0, 1, 1]), Individual('b', [1, 1, 1, 1]), Individual('b', [1, 1, 1, 1]), Individual('b', [0, 1, 0, 1]), Individual('b', [1, 1, 1, 1]), Individual('b', [1, 1, 1, 1]), Individual('b', [1, 1, 1, 1]), Individual('b', [1, 1, 1, 1]), Individual('b', [0, 1, 1, 1]), Individual('b', [1, 1, 1, 1]), Individual('b', [0, 1, 1, 1]), Individual('b', [1, 1, 1, 1]), Individual('b', [1, 1, 1, 1]), Individual('b', [1, 1, 1, 1]), Individual('b', [1, 1, 1, 1]), Individual('b', [1, 1, 1, 1]), Individual('b', [1, 1, 1, 1]), Individual('b', [1, 0, 1, 1]), Individual('b', [1, 1, 1, 1]), Individual('b', [1, 1, 1, 1]), Individual('b', [1, 1, 1, 1]), Individual('b', [1, 1, 1, 1]), Individual('b', [1, 1, 1, 1]), Individual('b', [1, 1, 1, 1]), Individual('b', [1, 1, 1, 1]), Individual('b', [1, 1, 1, 1]), Individual('b', [1, 1, 1, 1]), Individual('b', [1, 1, 1, 1]), Individual('b', [0, 1, 1, 1]), Individual('b', [1, 1, 1, 1]), Individual('b', [1, 1, 1, 1]), Individual('b', [1, 1, 1, 1]), Individual('b', [1, 1, 1, 1]), Individual('b', [0, 1, 1, 1]), Individual('b', [1, 1, 1, 1]), Individual('b', [0, 1, 1, 1]), Individual('b', [1, 1, 0, 1]), Individual('b', [0, 1, 1, 1]), Individual('b', [1, 1, 1, 1]), Individual('b', [1, 1, 1, 1]), Individual('b', [1, 1, 1, 1]), Individual('b', [1, 1, 1, 1]), Individual('b', [1, 1, 1, 1]), Individual('b', [1, 1, 1, 1]), Individual('b', [1, 1, 1, 1]), Individual('b', [1, 1, 1, 1]), Individual('b', [1, 1, 1, 1]), Individual('b', [1, 1, 1, 1]), Individual('b', [1, 1, 1, 1]), Individual('b', [0, 1, 1, 1]), Individual('b', [1, 1, 1, 1]), Individual('b', [0, 1, 1, 1]), Individual('b', [1, 1, 1, 1]), Individual('b', [1, 1, 1, 1]), Individual('b', [1, 1, 1, 1]), Individual('b', [1, 1, 1, 1]), Individual('b', [1, 1, 1, 1]), Individual('b', [0, 1, 1, 1]), Individual('b', [1, 1, 1, 1]), Individual('b', [1, 1, 1, 1]), Individual('b', [1, 1, 1, 1]), Individual('b', [0, 1, 1, 1]), Individual('b', [1, 1, 1, 1]), Individual('b', [1, 1, 0, 1]), Individual('b', [0, 1, 1, 1]), Individual('b', [1, 1, 1, 1]), Individual('b', [1, 1, 1, 1]), Individual('b', [1, 1, 1, 1]), Individual('b', [0, 1, 1, 1]), Individual('b', [1, 1, 1, 1]), Individual('b', [0, 1, 1, 1]), Individual('b', [1, 1, 1, 1]), Individual('b', [1, 1, 1, 1]), Individual('b', [1, 1, 1, 1]), Individual('b', [0, 1, 1, 1]), Individual('b', [0, 1, 1, 1]), Individual('b', [1, 1, 1, 1]), Individual('b', [1, 1, 1, 1]), Individual('b', [1, 1, 0, 1]), Individual('b', [1, 1, 1, 1]), Individual('b', [0, 1, 1, 1]), Individual('b', [1, 1, 1, 1]), Individual('b', [1, 1, 1, 1]), Individual('b', [1, 1, 1, 1]), Individual('b', [1, 1, 1, 1]), Individual('b', [0, 1, 1, 1]), Individual('b', [1, 1, 1, 1]), Individual('b', [1, 1, 1, 1]), Individual('b', [1, 1, 1, 1]), Individual('b', [1, 1, 1, 1]), Individual('b', [1, 1, 1, 1]), Individual('b', [1, 1, 1, 1]), Individual('b', [1, 1, 1, 1]), Individual('b', [0, 1, 1, 1]), Individual('b', [1, 0, 1, 1]), Individual('b', [1, 1, 1, 1]), Individual('b', [1, 1, 1, 1]), Individual('b', [1, 1, 1, 1]), Individual('b', [1, 1, 1, 1]), Individual('b', [1, 1, 1, 1]), Individual('b', [1, 1, 1, 1]), Individual('b', [0, 1, 1, 1]), Individual('b', [1, 0, 1, 1]), Individual('b', [1, 1, 1, 1]), Individual('b', [1, 1, 1, 1]), Individual('b', [1, 1, 1, 1]), Individual('b', [1, 1, 1, 1]), Individual('b', [1, 1, 1, 1]), Individual('b', [1, 1, 1, 1]), Individual('b', [1, 1, 1, 1]), Individual('b', [1, 1, 1, 1]), Individual('b', [0, 1, 1, 1]), Individual('b', [1, 1, 1, 1]), Individual('b', [1, 1, 1, 1]), Individual('b', [1, 1, 1, 1]), Individual('b', [1, 1, 1, 1]), Individual('b', [0, 1, 1, 1]), Individual('b', [1, 1, 1, 1]), Individual('b', [0, 1, 1, 1]), Individual('b', [1, 1, 1, 1]), Individual('b', [1, 1, 1, 1]), Individual('b', [1, 1, 1, 1]), Individual('b', [0, 1, 1, 1]), Individual('b', [0, 1, 1, 1]), Individual('b', [0, 1, 1, 1]), Individual('b', [1, 1, 1, 1]), Individual('b', [1, 1, 1, 1]), Individual('b', [1, 1, 1, 1]), Individual('b', [0, 1, 1, 1]), Individual('b', [1, 1, 1, 1]), Individual('b', [1, 1, 1, 1]), Individual('b', [1, 1, 1, 1]), Individual('b', [1, 1, 1, 1]), Individual('b', [0, 1, 1, 1]), Individual('b', [1, 1, 1, 1]), Individual('b', [0, 1, 1, 1]), Individual('b', [1, 1, 1, 1]), Individual('b', [1, 1, 1, 1]), Individual('b', [1, 1, 1, 1]), Individual('b', [1, 1, 1, 1]), Individual('b', [1, 1, 1, 1]), Individual('b', [1, 1, 1, 1]), Individual('b', [1, 1, 1, 1]), Individual('b', [1, 1, 1, 1]), Individual('b', [1, 1, 1, 1]), Individual('b', [1, 1, 1, 1]), Individual('b', [1, 1, 1, 1]), Individual('b', [1, 1, 1, 1]), Individual('b', [0, 1, 1, 1]), Individual('b', [1, 1, 1, 1]), Individual('b', [1, 1, 1, 1]), Individual('b', [1, 0, 1, 1]), Individual('b', [0, 1, 0, 1]), Individual('b', [1, 1, 1, 1])]\n",
            "----------------\n",
            "[Individual('b', [1, 1, 1, 1])]\n",
            "----------------\n"
          ]
        }
      ],
      "source": [
        "import array\n",
        "import random\n",
        "import math\n",
        "import numpy\n",
        "\n",
        "from deap import algorithms\n",
        "from deap import base\n",
        "from deap import creator\n",
        "from deap import tools\n",
        "\n",
        "creator.create(\"FitnessMax\", base.Fitness, weights=(1.0,))\n",
        "creator.create(\"Individual\", array.array,typecode='b', fitness=creator.FitnessMax)\n",
        "\n",
        "toolbox = base.Toolbox()\n",
        "\n",
        "#atribute generator\n",
        "toolbox.register(\"attr_bool\", random.randint, 0, 1)\n",
        "\n",
        "toolbox.register(\"individual\", tools.initRepeat, creator.Individual, toolbox.attr_bool, 4 );\n",
        "toolbox.register(\"population\", tools.initRepeat, list, toolbox.individual);\n",
        "\n",
        "def evalOneMax(individual):\n",
        "  return sum(individual),\n",
        "\n",
        "def funcionEvaluacion(individual):\n",
        "  individuo = individual\n",
        "  eleva = 0\n",
        "  x = 0\n",
        "  for i in individuo:\n",
        "    x = x+i*math.pow(2, eleva)\n",
        "    eleva = eleva + 1\n",
        "  #f(x)=x^(x*2)-1\n",
        "  resultado  = math.pow(x,(2*x))-1\n",
        "  return resultado,\n",
        "\n",
        "\n",
        "\n",
        "\n",
        "toolbox.register(\"evaluate\",funcionEvaluacion)\n",
        "toolbox.register(\"mate\",tools.cxTwoPoint)\n",
        "toolbox.register(\"mutate\",tools.mutFlipBit, indpb=0.05)\n",
        "toolbox.register(\"select\",tools.selTournament, tournsize=3)\n",
        "\n",
        "def main():\n",
        "  random.seed(64)\n",
        "\n",
        "  pop = toolbox.population(n=300)\n",
        "  hof = tools.HallOfFame(1)\n",
        "  stats = tools.Statistics(lambda ind: ind.fitness.values)\n",
        "  stats.register(\" avg \", numpy.mean)\n",
        "  stats.register(\" std \", numpy.std)\n",
        "  stats.register(\" min \", numpy.min)\n",
        "  stats.register(\" max \", numpy.max)\n",
        "\n",
        "  pop, log = algorithms.eaSimple(pop, toolbox, cxpb=0.5, mutpb=0.2, ngen=3, stats=stats, halloffame=hof, verbose=True)\n",
        "\n",
        "  return pop,log,hof\n",
        "\n",
        "if __name__ == \"__main__\":\n",
        "  pop,log,hof = main()\n",
        "  print(pop)\n",
        "  print(\"----------------\")\n",
        "  print(hof)\n",
        "  print(\"----------------\")\n",
        "  #print(log)"
      ]
    },
    {
      "cell_type": "code",
      "source": [],
      "metadata": {
        "id": "4x_LTv0TT-0m"
      },
      "execution_count": null,
      "outputs": []
    },
    {
      "cell_type": "code",
      "source": [],
      "metadata": {
        "id": "b4zyAf4g_GnX"
      },
      "execution_count": null,
      "outputs": []
    }
  ]
}