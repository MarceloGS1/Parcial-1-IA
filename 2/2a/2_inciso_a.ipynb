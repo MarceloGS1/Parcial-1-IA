{
  "nbformat": 4,
  "nbformat_minor": 0,
  "metadata": {
    "colab": {
      "provenance": []
    },
    "kernelspec": {
      "name": "python3",
      "display_name": "Python 3"
    },
    "language_info": {
      "name": "python"
    }
  },
  "cells": [
    {
      "cell_type": "code",
      "execution_count": 4,
      "metadata": {
        "id": "jDF7KtOsAEdm"
      },
      "outputs": [],
      "source": [
        "#Percentil sin librerias\n",
        "def ordenamientoBurbuja(lista):\n",
        "    n = len(lista)\n",
        "    for i in range(n):\n",
        "        for j in range(0, n-i-1):\n",
        "            if lista[j] > lista[j+1]:\n",
        "                lista[j], lista[j+1] = lista[j+1], lista[j]\n",
        "    return lista\n",
        "\n",
        "def calculoPercentil(datosNumericos, k):\n",
        "    #Ordenar los datos y obtienen la longitud de la lista\n",
        "    datosOrdenados = ordenamientoBurbuja(datosNumericos)\n",
        "    cantidadDatos = len(datosNumericos)\n",
        "\n",
        "    # fomula del percentil Pk = (k/100)*(n-1)\n",
        "    pos = k / 100 * (cantidadDatos - 1)\n",
        "\n",
        "    #Determinar el percentil\n",
        "    if pos.is_integer():\n",
        "        return datosOrdenados[int(pos)]\n",
        "    else:\n",
        "        # Interpolación, en caso que el numero no sea entero\n",
        "        # obtiene el valor entero ejemplo: si es 3.7 obtiene solo el 3\n",
        "        indice_de_abajo = int(pos)\n",
        "        # le suma 1 para obtener el indice superior\n",
        "        indide_de_arriba = indice_de_abajo + 1\n",
        "        parte_fraccional = pos - indice_de_abajo\n",
        "        datoInterpolado = datosOrdenados[indice_de_abajo] + parte_fraccional * (datosOrdenados[indide_de_arriba] - datosOrdenados[indice_de_abajo])\n",
        "\n",
        "        return datoInterpolado\n"
      ]
    },
    {
      "cell_type": "code",
      "source": [
        "from google.colab import drive\n",
        "\n",
        "# Montar Google Drive\n",
        "drive.mount('/content/drive')"
      ],
      "metadata": {
        "colab": {
          "base_uri": "https://localhost:8080/"
        },
        "id": "WgnHYHawAM9y",
        "outputId": "6b0bd260-92f6-430f-e756-499828e6504b"
      },
      "execution_count": 1,
      "outputs": [
        {
          "output_type": "stream",
          "name": "stdout",
          "text": [
            "Mounted at /content/drive\n"
          ]
        }
      ]
    },
    {
      "cell_type": "code",
      "source": [
        "import pandas as pd\n",
        "\n",
        "df = pd.read_csv(\"/content/drive/MyDrive/Dataset_Spotify/Spotify_Most_Streamed_Songs.csv\")\n",
        "# Mostrar las primeras filas del csv\n",
        "df.head()"
      ],
      "metadata": {
        "colab": {
          "base_uri": "https://localhost:8080/",
          "height": 342
        },
        "id": "4Uy1Xn8BA-_t",
        "outputId": "d700e1f9-34d5-4dff-a518-05ec35aab192"
      },
      "execution_count": 15,
      "outputs": [
        {
          "output_type": "execute_result",
          "data": {
            "text/plain": [
              "                              track_name      artist(s)_name  artist_count  \\\n",
              "0  'Seven (feat. Latto) (Explicit Ver.)'  'Latto  Jung Kook'             2   \n",
              "1                                 'LALA'       'Myke Towers'             1   \n",
              "2                              'vampire'    'Olivia Rodrigo'             1   \n",
              "3                         'Cruel Summer'      'Taylor Swift'             1   \n",
              "4                       'WHERE SHE GOES'         'Bad Bunny'             1   \n",
              "\n",
              "   released_year  released_month  released_day  in_spotify_playlists  \\\n",
              "0           2023               7            14                   553   \n",
              "1           2023               3            23                  1474   \n",
              "2           2023               6            30                  1397   \n",
              "3           2019               8            23                  7858   \n",
              "4           2023               5            18                  3133   \n",
              "\n",
              "   in_spotify_charts    streams  in_apple_playlists  ...   key  \\\n",
              "0                147  141381703                  43  ...   'B'   \n",
              "1                 48  133716286                  48  ...  'C#'   \n",
              "2                113  140003974                  94  ...   'F'   \n",
              "3                100  800840817                 116  ...   'A'   \n",
              "4                 50  303236322                  84  ...   'A'   \n",
              "\n",
              "   danceability_%  valence_%  energy_%  acousticness_% instrumentalness_%  \\\n",
              "0              80         89        83              31                  0   \n",
              "1              71         61        74               7                  0   \n",
              "2              51         32        53              17                  0   \n",
              "3              55         58        72              11                  0   \n",
              "4              65         23        80              14                 63   \n",
              "\n",
              "   liveness_%  speechiness_%  \\\n",
              "0           8              4   \n",
              "1          10              4   \n",
              "2          31              6   \n",
              "3          11             15   \n",
              "4          11              6   \n",
              "\n",
              "                                           cover_url   mode  \n",
              "0                                        'Not Found'  Major  \n",
              "1  'https://i.scdn.co/image/ab67616d0000b2730656d...  Major  \n",
              "2  'https://i.scdn.co/image/ab67616d0000b273e8525...  Major  \n",
              "3  'https://i.scdn.co/image/ab67616d0000b273e787c...  Major  \n",
              "4  'https://i.scdn.co/image/ab67616d0000b273ab5c9...  Minor  \n",
              "\n",
              "[5 rows x 25 columns]"
            ],
            "text/html": [
              "\n",
              "  <div id=\"df-6980b313-4ca8-4eb4-9ec7-252a4066301a\" class=\"colab-df-container\">\n",
              "    <div>\n",
              "<style scoped>\n",
              "    .dataframe tbody tr th:only-of-type {\n",
              "        vertical-align: middle;\n",
              "    }\n",
              "\n",
              "    .dataframe tbody tr th {\n",
              "        vertical-align: top;\n",
              "    }\n",
              "\n",
              "    .dataframe thead th {\n",
              "        text-align: right;\n",
              "    }\n",
              "</style>\n",
              "<table border=\"1\" class=\"dataframe\">\n",
              "  <thead>\n",
              "    <tr style=\"text-align: right;\">\n",
              "      <th></th>\n",
              "      <th>track_name</th>\n",
              "      <th>artist(s)_name</th>\n",
              "      <th>artist_count</th>\n",
              "      <th>released_year</th>\n",
              "      <th>released_month</th>\n",
              "      <th>released_day</th>\n",
              "      <th>in_spotify_playlists</th>\n",
              "      <th>in_spotify_charts</th>\n",
              "      <th>streams</th>\n",
              "      <th>in_apple_playlists</th>\n",
              "      <th>...</th>\n",
              "      <th>key</th>\n",
              "      <th>danceability_%</th>\n",
              "      <th>valence_%</th>\n",
              "      <th>energy_%</th>\n",
              "      <th>acousticness_%</th>\n",
              "      <th>instrumentalness_%</th>\n",
              "      <th>liveness_%</th>\n",
              "      <th>speechiness_%</th>\n",
              "      <th>cover_url</th>\n",
              "      <th>mode</th>\n",
              "    </tr>\n",
              "  </thead>\n",
              "  <tbody>\n",
              "    <tr>\n",
              "      <th>0</th>\n",
              "      <td>'Seven (feat. Latto) (Explicit Ver.)'</td>\n",
              "      <td>'Latto  Jung Kook'</td>\n",
              "      <td>2</td>\n",
              "      <td>2023</td>\n",
              "      <td>7</td>\n",
              "      <td>14</td>\n",
              "      <td>553</td>\n",
              "      <td>147</td>\n",
              "      <td>141381703</td>\n",
              "      <td>43</td>\n",
              "      <td>...</td>\n",
              "      <td>'B'</td>\n",
              "      <td>80</td>\n",
              "      <td>89</td>\n",
              "      <td>83</td>\n",
              "      <td>31</td>\n",
              "      <td>0</td>\n",
              "      <td>8</td>\n",
              "      <td>4</td>\n",
              "      <td>'Not Found'</td>\n",
              "      <td>Major</td>\n",
              "    </tr>\n",
              "    <tr>\n",
              "      <th>1</th>\n",
              "      <td>'LALA'</td>\n",
              "      <td>'Myke Towers'</td>\n",
              "      <td>1</td>\n",
              "      <td>2023</td>\n",
              "      <td>3</td>\n",
              "      <td>23</td>\n",
              "      <td>1474</td>\n",
              "      <td>48</td>\n",
              "      <td>133716286</td>\n",
              "      <td>48</td>\n",
              "      <td>...</td>\n",
              "      <td>'C#'</td>\n",
              "      <td>71</td>\n",
              "      <td>61</td>\n",
              "      <td>74</td>\n",
              "      <td>7</td>\n",
              "      <td>0</td>\n",
              "      <td>10</td>\n",
              "      <td>4</td>\n",
              "      <td>'https://i.scdn.co/image/ab67616d0000b2730656d...</td>\n",
              "      <td>Major</td>\n",
              "    </tr>\n",
              "    <tr>\n",
              "      <th>2</th>\n",
              "      <td>'vampire'</td>\n",
              "      <td>'Olivia Rodrigo'</td>\n",
              "      <td>1</td>\n",
              "      <td>2023</td>\n",
              "      <td>6</td>\n",
              "      <td>30</td>\n",
              "      <td>1397</td>\n",
              "      <td>113</td>\n",
              "      <td>140003974</td>\n",
              "      <td>94</td>\n",
              "      <td>...</td>\n",
              "      <td>'F'</td>\n",
              "      <td>51</td>\n",
              "      <td>32</td>\n",
              "      <td>53</td>\n",
              "      <td>17</td>\n",
              "      <td>0</td>\n",
              "      <td>31</td>\n",
              "      <td>6</td>\n",
              "      <td>'https://i.scdn.co/image/ab67616d0000b273e8525...</td>\n",
              "      <td>Major</td>\n",
              "    </tr>\n",
              "    <tr>\n",
              "      <th>3</th>\n",
              "      <td>'Cruel Summer'</td>\n",
              "      <td>'Taylor Swift'</td>\n",
              "      <td>1</td>\n",
              "      <td>2019</td>\n",
              "      <td>8</td>\n",
              "      <td>23</td>\n",
              "      <td>7858</td>\n",
              "      <td>100</td>\n",
              "      <td>800840817</td>\n",
              "      <td>116</td>\n",
              "      <td>...</td>\n",
              "      <td>'A'</td>\n",
              "      <td>55</td>\n",
              "      <td>58</td>\n",
              "      <td>72</td>\n",
              "      <td>11</td>\n",
              "      <td>0</td>\n",
              "      <td>11</td>\n",
              "      <td>15</td>\n",
              "      <td>'https://i.scdn.co/image/ab67616d0000b273e787c...</td>\n",
              "      <td>Major</td>\n",
              "    </tr>\n",
              "    <tr>\n",
              "      <th>4</th>\n",
              "      <td>'WHERE SHE GOES'</td>\n",
              "      <td>'Bad Bunny'</td>\n",
              "      <td>1</td>\n",
              "      <td>2023</td>\n",
              "      <td>5</td>\n",
              "      <td>18</td>\n",
              "      <td>3133</td>\n",
              "      <td>50</td>\n",
              "      <td>303236322</td>\n",
              "      <td>84</td>\n",
              "      <td>...</td>\n",
              "      <td>'A'</td>\n",
              "      <td>65</td>\n",
              "      <td>23</td>\n",
              "      <td>80</td>\n",
              "      <td>14</td>\n",
              "      <td>63</td>\n",
              "      <td>11</td>\n",
              "      <td>6</td>\n",
              "      <td>'https://i.scdn.co/image/ab67616d0000b273ab5c9...</td>\n",
              "      <td>Minor</td>\n",
              "    </tr>\n",
              "  </tbody>\n",
              "</table>\n",
              "<p>5 rows × 25 columns</p>\n",
              "</div>\n",
              "    <div class=\"colab-df-buttons\">\n",
              "\n",
              "  <div class=\"colab-df-container\">\n",
              "    <button class=\"colab-df-convert\" onclick=\"convertToInteractive('df-6980b313-4ca8-4eb4-9ec7-252a4066301a')\"\n",
              "            title=\"Convert this dataframe to an interactive table.\"\n",
              "            style=\"display:none;\">\n",
              "\n",
              "  <svg xmlns=\"http://www.w3.org/2000/svg\" height=\"24px\" viewBox=\"0 -960 960 960\">\n",
              "    <path d=\"M120-120v-720h720v720H120Zm60-500h600v-160H180v160Zm220 220h160v-160H400v160Zm0 220h160v-160H400v160ZM180-400h160v-160H180v160Zm440 0h160v-160H620v160ZM180-180h160v-160H180v160Zm440 0h160v-160H620v160Z\"/>\n",
              "  </svg>\n",
              "    </button>\n",
              "\n",
              "  <style>\n",
              "    .colab-df-container {\n",
              "      display:flex;\n",
              "      gap: 12px;\n",
              "    }\n",
              "\n",
              "    .colab-df-convert {\n",
              "      background-color: #E8F0FE;\n",
              "      border: none;\n",
              "      border-radius: 50%;\n",
              "      cursor: pointer;\n",
              "      display: none;\n",
              "      fill: #1967D2;\n",
              "      height: 32px;\n",
              "      padding: 0 0 0 0;\n",
              "      width: 32px;\n",
              "    }\n",
              "\n",
              "    .colab-df-convert:hover {\n",
              "      background-color: #E2EBFA;\n",
              "      box-shadow: 0px 1px 2px rgba(60, 64, 67, 0.3), 0px 1px 3px 1px rgba(60, 64, 67, 0.15);\n",
              "      fill: #174EA6;\n",
              "    }\n",
              "\n",
              "    .colab-df-buttons div {\n",
              "      margin-bottom: 4px;\n",
              "    }\n",
              "\n",
              "    [theme=dark] .colab-df-convert {\n",
              "      background-color: #3B4455;\n",
              "      fill: #D2E3FC;\n",
              "    }\n",
              "\n",
              "    [theme=dark] .colab-df-convert:hover {\n",
              "      background-color: #434B5C;\n",
              "      box-shadow: 0px 1px 3px 1px rgba(0, 0, 0, 0.15);\n",
              "      filter: drop-shadow(0px 1px 2px rgba(0, 0, 0, 0.3));\n",
              "      fill: #FFFFFF;\n",
              "    }\n",
              "  </style>\n",
              "\n",
              "    <script>\n",
              "      const buttonEl =\n",
              "        document.querySelector('#df-6980b313-4ca8-4eb4-9ec7-252a4066301a button.colab-df-convert');\n",
              "      buttonEl.style.display =\n",
              "        google.colab.kernel.accessAllowed ? 'block' : 'none';\n",
              "\n",
              "      async function convertToInteractive(key) {\n",
              "        const element = document.querySelector('#df-6980b313-4ca8-4eb4-9ec7-252a4066301a');\n",
              "        const dataTable =\n",
              "          await google.colab.kernel.invokeFunction('convertToInteractive',\n",
              "                                                    [key], {});\n",
              "        if (!dataTable) return;\n",
              "\n",
              "        const docLinkHtml = 'Like what you see? Visit the ' +\n",
              "          '<a target=\"_blank\" href=https://colab.research.google.com/notebooks/data_table.ipynb>data table notebook</a>'\n",
              "          + ' to learn more about interactive tables.';\n",
              "        element.innerHTML = '';\n",
              "        dataTable['output_type'] = 'display_data';\n",
              "        await google.colab.output.renderOutput(dataTable, element);\n",
              "        const docLink = document.createElement('div');\n",
              "        docLink.innerHTML = docLinkHtml;\n",
              "        element.appendChild(docLink);\n",
              "      }\n",
              "    </script>\n",
              "  </div>\n",
              "\n",
              "\n",
              "<div id=\"df-60834a67-cea5-4573-8fcb-d9a1475df407\">\n",
              "  <button class=\"colab-df-quickchart\" onclick=\"quickchart('df-60834a67-cea5-4573-8fcb-d9a1475df407')\"\n",
              "            title=\"Suggest charts\"\n",
              "            style=\"display:none;\">\n",
              "\n",
              "<svg xmlns=\"http://www.w3.org/2000/svg\" height=\"24px\"viewBox=\"0 0 24 24\"\n",
              "     width=\"24px\">\n",
              "    <g>\n",
              "        <path d=\"M19 3H5c-1.1 0-2 .9-2 2v14c0 1.1.9 2 2 2h14c1.1 0 2-.9 2-2V5c0-1.1-.9-2-2-2zM9 17H7v-7h2v7zm4 0h-2V7h2v10zm4 0h-2v-4h2v4z\"/>\n",
              "    </g>\n",
              "</svg>\n",
              "  </button>\n",
              "\n",
              "<style>\n",
              "  .colab-df-quickchart {\n",
              "      --bg-color: #E8F0FE;\n",
              "      --fill-color: #1967D2;\n",
              "      --hover-bg-color: #E2EBFA;\n",
              "      --hover-fill-color: #174EA6;\n",
              "      --disabled-fill-color: #AAA;\n",
              "      --disabled-bg-color: #DDD;\n",
              "  }\n",
              "\n",
              "  [theme=dark] .colab-df-quickchart {\n",
              "      --bg-color: #3B4455;\n",
              "      --fill-color: #D2E3FC;\n",
              "      --hover-bg-color: #434B5C;\n",
              "      --hover-fill-color: #FFFFFF;\n",
              "      --disabled-bg-color: #3B4455;\n",
              "      --disabled-fill-color: #666;\n",
              "  }\n",
              "\n",
              "  .colab-df-quickchart {\n",
              "    background-color: var(--bg-color);\n",
              "    border: none;\n",
              "    border-radius: 50%;\n",
              "    cursor: pointer;\n",
              "    display: none;\n",
              "    fill: var(--fill-color);\n",
              "    height: 32px;\n",
              "    padding: 0;\n",
              "    width: 32px;\n",
              "  }\n",
              "\n",
              "  .colab-df-quickchart:hover {\n",
              "    background-color: var(--hover-bg-color);\n",
              "    box-shadow: 0 1px 2px rgba(60, 64, 67, 0.3), 0 1px 3px 1px rgba(60, 64, 67, 0.15);\n",
              "    fill: var(--button-hover-fill-color);\n",
              "  }\n",
              "\n",
              "  .colab-df-quickchart-complete:disabled,\n",
              "  .colab-df-quickchart-complete:disabled:hover {\n",
              "    background-color: var(--disabled-bg-color);\n",
              "    fill: var(--disabled-fill-color);\n",
              "    box-shadow: none;\n",
              "  }\n",
              "\n",
              "  .colab-df-spinner {\n",
              "    border: 2px solid var(--fill-color);\n",
              "    border-color: transparent;\n",
              "    border-bottom-color: var(--fill-color);\n",
              "    animation:\n",
              "      spin 1s steps(1) infinite;\n",
              "  }\n",
              "\n",
              "  @keyframes spin {\n",
              "    0% {\n",
              "      border-color: transparent;\n",
              "      border-bottom-color: var(--fill-color);\n",
              "      border-left-color: var(--fill-color);\n",
              "    }\n",
              "    20% {\n",
              "      border-color: transparent;\n",
              "      border-left-color: var(--fill-color);\n",
              "      border-top-color: var(--fill-color);\n",
              "    }\n",
              "    30% {\n",
              "      border-color: transparent;\n",
              "      border-left-color: var(--fill-color);\n",
              "      border-top-color: var(--fill-color);\n",
              "      border-right-color: var(--fill-color);\n",
              "    }\n",
              "    40% {\n",
              "      border-color: transparent;\n",
              "      border-right-color: var(--fill-color);\n",
              "      border-top-color: var(--fill-color);\n",
              "    }\n",
              "    60% {\n",
              "      border-color: transparent;\n",
              "      border-right-color: var(--fill-color);\n",
              "    }\n",
              "    80% {\n",
              "      border-color: transparent;\n",
              "      border-right-color: var(--fill-color);\n",
              "      border-bottom-color: var(--fill-color);\n",
              "    }\n",
              "    90% {\n",
              "      border-color: transparent;\n",
              "      border-bottom-color: var(--fill-color);\n",
              "    }\n",
              "  }\n",
              "</style>\n",
              "\n",
              "  <script>\n",
              "    async function quickchart(key) {\n",
              "      const quickchartButtonEl =\n",
              "        document.querySelector('#' + key + ' button');\n",
              "      quickchartButtonEl.disabled = true;  // To prevent multiple clicks.\n",
              "      quickchartButtonEl.classList.add('colab-df-spinner');\n",
              "      try {\n",
              "        const charts = await google.colab.kernel.invokeFunction(\n",
              "            'suggestCharts', [key], {});\n",
              "      } catch (error) {\n",
              "        console.error('Error during call to suggestCharts:', error);\n",
              "      }\n",
              "      quickchartButtonEl.classList.remove('colab-df-spinner');\n",
              "      quickchartButtonEl.classList.add('colab-df-quickchart-complete');\n",
              "    }\n",
              "    (() => {\n",
              "      let quickchartButtonEl =\n",
              "        document.querySelector('#df-60834a67-cea5-4573-8fcb-d9a1475df407 button');\n",
              "      quickchartButtonEl.style.display =\n",
              "        google.colab.kernel.accessAllowed ? 'block' : 'none';\n",
              "    })();\n",
              "  </script>\n",
              "</div>\n",
              "\n",
              "    </div>\n",
              "  </div>\n"
            ],
            "application/vnd.google.colaboratory.intrinsic+json": {
              "type": "dataframe",
              "variable_name": "df"
            }
          },
          "metadata": {},
          "execution_count": 15
        }
      ]
    },
    {
      "cell_type": "code",
      "source": [
        "#Para la columna cantidad de artistas en la cancion\n",
        "artist_count = df['artist_count']  #obtengo la columna del csv\n",
        "\n",
        "# Para convertir la serie en una lista.\n",
        "lista_datos = artist_count.tolist()\n",
        "\n",
        "print(lista_datos)\n",
        "#Percentil 90\n",
        "percentil_90 = calculoPercentil(lista_datos, 90)\n",
        "\n",
        "#Cuartiles 1,2,3 son los percentiles 25,50(mediana),75 respectivamente\n",
        "Q1 = calculoPercentil(lista_datos, 25)\n",
        "Q2 = calculoPercentil(lista_datos, 50)\n",
        "Q3 = calculoPercentil(lista_datos, 75)\n",
        "\n",
        "print(f\"Percentil 90: {percentil_90}\")\n",
        "\n",
        "print(f\"Cuartil 1: {Q1}\")\n",
        "print(f\"Cuartil 2: {Q2}\")\n",
        "print(f\"Cuartil 3: {Q3}\")\n",
        "\n"
      ],
      "metadata": {
        "colab": {
          "base_uri": "https://localhost:8080/"
        },
        "id": "8ELeEsrMCCFG",
        "outputId": "d4a7052d-10b7-433e-a84c-74a6c317d44f"
      },
      "execution_count": 5,
      "outputs": [
        {
          "output_type": "stream",
          "name": "stdout",
          "text": [
            "[2, 1, 1, 1, 1, 2, 2, 1, 1, 2, 2, 1, 1, 1, 1, 1, 1, 1, 2, 1, 3, 1, 1, 2, 3, 1, 2, 2, 1, 1, 1, 2, 3, 1, 2, 8, 2, 1, 1, 1, 2, 2, 2, 3, 3, 1, 1, 1, 2, 2, 3, 3, 1, 1, 1, 1, 1, 1, 1, 1, 2, 2, 3, 2, 2, 1, 1, 1, 1, 1, 2, 1, 1, 1, 2, 1, 1, 2, 2, 1, 1, 2, 2, 1, 2, 2, 1, 2, 1, 2, 1, 1, 2, 1, 1, 2, 1, 1, 1, 1, 1, 3, 1, 1, 1, 1, 3, 1, 1, 1, 2, 1, 2, 1, 1, 1, 1, 2, 3, 1, 2, 2, 1, 2, 1, 1, 3, 1, 2, 2, 1, 1, 1, 2, 1, 4, 3, 5, 1, 1, 1, 4, 2, 1, 3, 2, 2, 1, 1, 1, 1, 1, 2, 2, 1, 3, 2, 1, 1, 1, 2, 1, 3, 1, 1, 1, 1, 1, 2, 1, 1, 3, 1, 1, 1, 1, 1, 1, 1, 1, 1, 2, 1, 1, 1, 1, 1, 1, 1, 1, 2, 1, 1, 1, 1, 1, 1, 4, 1, 1, 4, 5, 1, 3, 3, 1, 1, 2, 2, 2, 2, 2, 2, 1, 3, 1, 2, 2, 2, 3, 2, 1, 2, 2, 1, 1, 2, 1, 2, 2, 1, 1, 2, 2, 2, 1, 2, 1, 5, 1, 1, 1, 1, 1, 1, 2, 1, 2, 2, 1, 1, 3, 1, 1, 3, 1, 2, 1, 2, 1, 1, 2, 1, 1, 1, 1, 2, 1, 1, 2, 1, 1, 2, 2, 1, 2, 2, 1, 1, 1, 3, 1, 1, 1, 1, 2, 2, 1, 2, 2, 1, 2, 1, 1, 2, 2, 1, 2, 3, 2, 1, 2, 2, 2, 2, 1, 1, 2, 1, 1, 2, 1, 1, 2, 1, 1, 1, 2, 1, 1, 2, 2, 1, 1, 1, 1, 1, 1, 5, 3, 1, 1, 2, 2, 1, 2, 1, 1, 3, 1, 1, 1, 1, 1, 2, 1, 2, 2, 1, 1, 1, 2, 1, 1, 2, 1, 1, 1, 1, 1, 1, 2, 1, 1, 2, 4, 1, 2, 2, 2, 1, 1, 1, 1, 1, 2, 1, 1, 2, 1, 1, 3, 1, 1, 1, 2, 1, 1, 1, 1, 2, 1, 1, 6, 2, 1, 3, 2, 3, 1, 1, 1, 6, 2, 1, 1, 3, 1, 1, 2, 2, 1, 1, 2, 3, 1, 1, 1, 1, 1, 3, 3, 1, 1, 1, 1, 1, 2, 2, 1, 1, 1, 1, 2, 1, 1, 2, 1, 3, 3, 2, 1, 1, 1, 1, 1, 1, 1, 1, 1, 1, 1, 1, 1, 1, 1, 1, 4, 2, 1, 1, 1, 1, 2, 1, 1, 2, 1, 2, 3, 1, 1, 1, 1, 1, 2, 3, 1, 2, 1, 1, 2, 1, 1, 1, 1, 2, 1, 4, 1, 2, 2, 2, 1, 2, 1, 1, 1, 2, 2, 1, 1, 1, 3, 1, 2, 7, 1, 1, 1, 1, 1, 1, 1, 3, 1, 2, 2, 1, 1, 1, 1, 1, 1, 1, 2, 1, 2, 3, 1, 2, 1, 2, 2, 1, 1, 3, 1, 1, 1, 4, 1, 1, 3, 1, 1, 1, 2, 1, 3, 3, 3, 1, 1, 3, 2, 2, 1, 3, 3, 1, 3, 1, 3, 2, 1, 1, 1, 2, 2, 3, 3, 3, 2, 1, 2, 3, 1, 1, 1, 1, 1, 2, 1, 2, 2, 1, 1, 1, 1, 1, 1, 1, 1, 1, 2, 1, 3, 1, 1, 1, 2, 1, 1, 2, 4, 1, 1, 1, 1, 1, 2, 1, 1, 1, 1, 1, 3, 1, 3, 1, 1, 2, 1, 1, 1, 2, 2, 1, 2, 1, 1, 3, 1, 2, 1, 2, 1, 4, 1, 2, 1, 8, 2, 2, 2, 2, 3, 2, 2, 1, 1, 2, 2, 1, 3, 2, 1, 1, 1, 1, 2, 1, 1, 1, 3, 1, 7, 3, 2, 2, 1, 1, 2, 2, 1, 1, 1, 2, 2, 2, 1, 1, 1, 1, 1, 1, 1, 2, 1, 2, 1, 2, 2, 2, 1, 2, 1, 2, 2, 1, 1, 1, 1, 1, 2, 1, 2, 1, 1, 1, 1, 1, 2, 2, 1, 1, 1, 1, 1, 1, 1, 1, 1, 2, 2, 1, 2, 2, 1, 1, 1, 2, 1, 1, 1, 1, 3, 1, 1, 2, 1, 3, 3, 1, 3, 1, 1, 1, 4, 1, 2, 1, 1, 1, 2, 1, 3, 1, 6, 1, 1, 1, 1, 1, 3, 1, 1, 1, 2, 1, 1, 2, 1, 2, 2, 1, 2, 1, 2, 3, 1, 2, 1, 1, 3, 1, 2, 1, 1, 2, 1, 1, 1, 2, 2, 1, 1, 1, 1, 1, 1, 1, 1, 1, 1, 2, 1, 2, 2, 2, 2, 2, 2, 1, 1, 1, 1, 1, 2, 1, 1, 1, 1, 1, 1, 1, 1, 1, 1, 1, 1, 1, 4, 3, 1, 1, 4, 2, 1, 1, 2, 1, 1, 1, 2, 1, 1, 2, 1, 1, 1, 2, 2, 1, 3, 1, 1, 1, 1, 1, 1, 1, 1, 5, 1, 1, 1, 1, 2, 1, 1, 1, 1, 1, 3, 3, 3, 1, 1, 3, 1, 3, 3, 1, 1, 1, 1, 1, 1, 1, 1, 2, 1, 4, 2, 2, 3, 3, 2, 1, 1, 1, 2, 1, 1, 1, 1, 1, 1, 1, 1, 1, 2, 1, 2, 1, 1, 1, 2, 4, 1, 1, 1, 1, 1, 1, 2, 1, 3, 3, 2, 3, 1, 1, 2, 1, 2, 1, 2, 1, 1, 2, 2, 1, 1, 2, 1, 1, 1, 2, 3, 1]\n",
            "Percentil 90: 3.0\n",
            "Cuartil 1: 1\n",
            "Cuartil 2: 1\n",
            "Cuartil 3: 2\n"
          ]
        }
      ]
    },
    {
      "cell_type": "code",
      "source": [
        "#Para la columna año de lanzamiento de una cancion\n",
        "released_year = df['released_year']  #obtengo la columna del csv\n",
        "\n",
        "# Para convertir la serie en una lista.\n",
        "lista_datos = released_year.tolist()\n",
        "\n",
        "print(lista_datos)\n",
        "#Percentil 90\n",
        "percentil_90 = calculoPercentil(lista_datos, 90)\n",
        "\n",
        "#Cuartiles 1,2,3 son los percentiles 25,50(mediana),75 respectivamente\n",
        "Q1 = calculoPercentil(lista_datos, 25)\n",
        "Q2 = calculoPercentil(lista_datos, 50)\n",
        "Q3 = calculoPercentil(lista_datos, 75)\n",
        "\n",
        "print(f\"Percentil 90: {percentil_90}\")\n",
        "\n",
        "print(f\"Cuartil 1: {Q1}\")\n",
        "print(f\"Cuartil 2: {Q2}\")\n",
        "print(f\"Cuartil 3: {Q3}\")\n"
      ],
      "metadata": {
        "colab": {
          "base_uri": "https://localhost:8080/"
        },
        "id": "GSZz5fmhDwDY",
        "outputId": "c4edc266-0af8-4d65-898f-7b32ab2ee4ab"
      },
      "execution_count": 6,
      "outputs": [
        {
          "output_type": "stream",
          "name": "stdout",
          "text": [
            "[2023, 2023, 2023, 2019, 2023, 2023, 2023, 2023, 2023, 2023, 2023, 2023, 2023, 2023, 2022, 2022, 2023, 2023, 2023, 2023, 2023, 2023, 2013, 2023, 2023, 2023, 2022, 2023, 2023, 2023, 2023, 2023, 2022, 2022, 2023, 2023, 2023, 2014, 2014, 2023, 2023, 2018, 2022, 2017, 2023, 2020, 2022, 2016, 2016, 2023, 2023, 2023, 2023, 2023, 2012, 2019, 2023, 2022, 2023, 2020, 2023, 2023, 2022, 2023, 2022, 1999, 2022, 2022, 2023, 2023, 2023, 2020, 2022, 2012, 2022, 2008, 2022, 2022, 2022, 2023, 1975, 2022, 2023, 2023, 2021, 2023, 2018, 2022, 2015, 2012, 2023, 2023, 2023, 2017, 2020, 2023, 2023, 2022, 2011, 2023, 2012, 2022, 2023, 2004, 2023, 2022, 2017, 2017, 2021, 2011, 2012, 2022, 2023, 2023, 1985, 2014, 2023, 2023, 2023, 2020, 2023, 2023, 2022, 2022, 2021, 2022, 2011, 2019, 2017, 2023, 2023, 2023, 2011, 2023, 2007, 2023, 2022, 2023, 2017, 2022, 2017, 2023, 2023, 2002, 2023, 2016, 2022, 2004, 2019, 2023, 2023, 2023, 2010, 2023, 2012, 2023, 2022, 2013, 2021, 2019, 2023, 2004, 2016, 2010, 2020, 2010, 1983, 2015, 2011, 2012, 2018, 2023, 2013, 2012, 2023, 2016, 2014, 2013, 2022, 2017, 2014, 2023, 1992, 2019, 2017, 2023, 2016, 2019, 2010, 2013, 2022, 2021, 2022, 2023, 2020, 1968, 2010, 2023, 2022, 1984, 2023, 2023, 2023, 2022, 2023, 2023, 2023, 2023, 2023, 2023, 2023, 2022, 2023, 2023, 2023, 2023, 2022, 2022, 2023, 2022, 2023, 2022, 2022, 2023, 2022, 2023, 2023, 2022, 2023, 2023, 2022, 2022, 2023, 2023, 2023, 2023, 2023, 2022, 2023, 2022, 2023, 2023, 2022, 2016, 2021, 2022, 2021, 2023, 2023, 2023, 2000, 2022, 2021, 2022, 2023, 2023, 2023, 2023, 2023, 2023, 2023, 2023, 2022, 2023, 2023, 1997, 2023, 2023, 2022, 2023, 2019, 2022, 2023, 2023, 2021, 2022, 2023, 2022, 2022, 2022, 2023, 2022, 2022, 2014, 2021, 2023, 2022, 2023, 2018, 2023, 2022, 2022, 2018, 2023, 2023, 2021, 2002, 2002, 2023, 2023, 2023, 2023, 2023, 2022, 2023, 2023, 2021, 2023, 2022, 2022, 2020, 2022, 2023, 2023, 2022, 2023, 2022, 2022, 2022, 2022, 1995, 2022, 2014, 2017, 2016, 2015, 2019, 2023, 2022, 2022, 2022, 2003, 2023, 2023, 2022, 2022, 2023, 2023, 2023, 2023, 2023, 2022, 2023, 2023, 2022, 2022, 2022, 2023, 2023, 2022, 2022, 2023, 2022, 2011, 2022, 2023, 2023, 2022, 2000, 2022, 2022, 2022, 2022, 2022, 2022, 2021, 2017, 2022, 2019, 2022, 2023, 2020, 2022, 2023, 2020, 2022, 2022, 2022, 2021, 2023, 2023, 2023, 2023, 2022, 2022, 2023, 2022, 2022, 2022, 2016, 2019, 2016, 2022, 2022, 2022, 2015, 2022, 2022, 2023, 2022, 2014, 2020, 2022, 2017, 2023, 2022, 2022, 2019, 2014, 2022, 2021, 2020, 2015, 2022, 2022, 2022, 2022, 2022, 2022, 2022, 2022, 2022, 2021, 2022, 1985, 1973, 2022, 2021, 2022, 2020, 2022, 2022, 2020, 2020, 2021, 2022, 2022, 2022, 2022, 1930, 2012, 1994, 1984, 1958, 1957, 2011, 2013, 1963, 1959, 2017, 2013, 1970, 2011, 2011, 1963, 2022, 2022, 1971, 2022, 1952, 1946, 1979, 1984, 2022, 2022, 1984, 1950, 2022, 2022, 1942, 1986, 1963, 2022, 2022, 2022, 2017, 1958, 2000, 2022, 2022, 2021, 2022, 2022, 1959, 2022, 2022, 2022, 2022, 2022, 2022, 2022, 2005, 2021, 2022, 2022, 1958, 1957, 2022, 2022, 2022, 2021, 2022, 2022, 2022, 2022, 2021, 2021, 2021, 2022, 2022, 2017, 2022, 2021, 2021, 2022, 2022, 2021, 2022, 2021, 2020, 2019, 2022, 2021, 2022, 2021, 2021, 2017, 2020, 2021, 2021, 2021, 2021, 2021, 2021, 2021, 2021, 2021, 2021, 2022, 2021, 2022, 2022, 2021, 2021, 2021, 2018, 2021, 2021, 2020, 2019, 2021, 2020, 2022, 2021, 2021, 2020, 2021, 2022, 2021, 2021, 2020, 2021, 2021, 2022, 2021, 2021, 2020, 2021, 2019, 2021, 2021, 2021, 2021, 2021, 1970, 2021, 2021, 2022, 2021, 2015, 2021, 2015, 2022, 2021, 2020, 2021, 2021, 2022, 2021, 2021, 2021, 2019, 2020, 2010, 2021, 2021, 2021, 2021, 2020, 2020, 2021, 2021, 2021, 2020, 2016, 2021, 2016, 2021, 2017, 2021, 2019, 2021, 2021, 2010, 2020, 2014, 2021, 2021, 2021, 2021, 2019, 2017, 2021, 2013, 1991, 2019, 2021, 2021, 2022, 2021, 2003, 2022, 2021, 2019, 2018, 2022, 2021, 2021, 2021, 2021, 2002, 2019, 2021, 2022, 2021, 2021, 2021, 2021, 2022, 1999, 2022, 2022, 2022, 1999, 2022, 2022, 2022, 2012, 2002, 2022, 2013, 2019, 2016, 2019, 2019, 2020, 2021, 2022, 1995, 1999, 2021, 2021, 2017, 1999, 2020, 2017, 2020, 2022, 2022, 2021, 2022, 2022, 2022, 2021, 2015, 2014, 2019, 2021, 2022, 2019, 2022, 2019, 2022, 2019, 2019, 2019, 2020, 1991, 2022, 2022, 2022, 2021, 2022, 2022, 2022, 2022, 2004, 2022, 2021, 2022, 2022, 2022, 2022, 2013, 2022, 2021, 2020, 1975, 2018, 2020, 2013, 2021, 2021, 2020, 2017, 2016, 2022, 2011, 2019, 2022, 2022, 2022, 2022, 2022, 2022, 2015, 2022, 2022, 2022, 2015, 2022, 2021, 2022, 2022, 2022, 2022, 2022, 2022, 2022, 2022, 2019, 1996, 2022, 2022, 2016, 2022, 2019, 2013, 2021, 2022, 2022, 2014, 2015, 2022, 2022, 2022, 2022, 2022, 2022, 2022, 2022, 2022, 2022, 2022, 2022, 2022, 2022, 2022, 2022, 2022, 2022, 2022, 2022, 2022, 2022, 2022, 2022, 2022, 2022, 2022, 2019, 2022, 2022, 2016, 2022, 2022, 2022, 2022, 2022, 2022, 2022, 2022, 2022, 2022, 2022, 2022, 2022, 2022, 2022, 2022, 2022, 2022, 2022, 2022, 2022, 2021, 2022, 2022, 2022, 2022, 1998, 2022, 2019, 2022, 2017, 2021, 2022, 2022, 2022, 2022, 2022, 2022, 2022, 2022, 2022, 2022, 2022, 2022, 2022, 2022, 1982, 2022, 2022, 2022, 2022, 2022, 2022, 2022, 2022, 2014, 2022, 2022, 2022, 2022, 2016, 2022, 2018, 2022, 2022, 2021, 2022, 2022, 1986, 2022, 2022, 2022, 2022, 2022, 2022, 2022, 2022, 1987, 2022, 2022, 2022, 2022, 2022, 2022, 2022, 2022, 2022, 2022, 2022, 2022, 2020, 2022, 2022, 2022, 2019, 2022, 2022, 2022, 2022, 2008, 2022, 2022, 2022, 2022, 2022, 2017, 2022, 2022, 2013, 2022, 2022, 2022, 2022, 2022, 2022, 2022, 2002, 2000, 2022, 2022, 2016, 2022, 2022, 2022, 2022, 2022, 2022, 2022, 1982, 2018, 2022, 2022, 2022, 2020, 2022, 2022, 2022, 2022, 2022, 2022, 2022, 2022, 2022, 2022, 2022, 2022, 2022, 2022, 2022, 2022, 2022, 2022, 2022, 2022, 2022, 2022, 2022, 2022, 2022]\n",
            "Percentil 90: 2023.0\n",
            "Cuartil 1: 2020\n",
            "Cuartil 2: 2022\n",
            "Cuartil 3: 2022\n"
          ]
        }
      ]
    },
    {
      "cell_type": "code",
      "source": [
        "#Para la columna mes de lanzamiento de una cancion\n",
        "released_month = df['released_month']  #obtengo la columna del csv\n",
        "\n",
        "# Para convertir la serie en una lista.\n",
        "lista_datos = released_month.tolist()\n",
        "\n",
        "print(lista_datos)\n",
        "#Percentil 90\n",
        "percentil_90 = calculoPercentil(lista_datos, 90)\n",
        "\n",
        "#Cuartiles 1,2,3 son los percentiles 25,50(mediana),75 respectivamente\n",
        "Q1 = calculoPercentil(lista_datos, 25)\n",
        "Q2 = calculoPercentil(lista_datos, 50)\n",
        "Q3 = calculoPercentil(lista_datos, 75)\n",
        "\n",
        "print(f\"Percentil 90: {percentil_90}\")\n",
        "\n",
        "print(f\"Cuartil 1: {Q1}\")\n",
        "print(f\"Cuartil 2: {Q2}\")\n",
        "print(f\"Cuartil 3: {Q3}\")\n"
      ],
      "metadata": {
        "colab": {
          "base_uri": "https://localhost:8080/"
        },
        "id": "z6qb8t6tD3YP",
        "outputId": "9a6decc7-1250-47f2-fd0c-821354eece66"
      },
      "execution_count": 7,
      "outputs": [
        {
          "output_type": "stream",
          "name": "stdout",
          "text": [
            "[7, 3, 6, 8, 5, 6, 3, 7, 5, 3, 4, 7, 1, 4, 3, 12, 2, 7, 3, 3, 6, 7, 1, 5, 6, 6, 3, 6, 1, 5, 7, 6, 12, 10, 2, 6, 4, 1, 1, 5, 2, 10, 8, 7, 6, 11, 5, 11, 9, 2, 6, 4, 2, 6, 10, 11, 2, 5, 7, 7, 5, 2, 6, 3, 10, 1, 10, 12, 7, 7, 6, 6, 7, 5, 7, 1, 7, 9, 12, 6, 1, 4, 6, 7, 7, 3, 11, 5, 6, 6, 3, 3, 3, 11, 6, 5, 3, 12, 1, 6, 1, 12, 4, 1, 7, 4, 11, 4, 3, 1, 1, 12, 6, 7, 2, 12, 2, 2, 5, 7, 6, 3, 7, 12, 6, 8, 8, 11, 8, 6, 5, 1, 1, 1, 4, 6, 12, 5, 1, 7, 1, 5, 6, 1, 7, 11, 5, 1, 5, 1, 6, 5, 1, 2, 12, 4, 6, 1, 3, 10, 1, 7, 4, 1, 3, 5, 1, 2, 1, 12, 5, 6, 1, 1, 4, 11, 1, 1, 3, 1, 11, 1, 9, 10, 3, 5, 8, 8, 1, 9, 12, 4, 5, 7, 2, 7, 7, 6, 12, 10, 6, 5, 5, 11, 5, 6, 5, 3, 6, 3, 5, 9, 6, 3, 6, 3, 10, 11, 5, 12, 4, 12, 12, 5, 11, 5, 5, 7, 6, 3, 6, 7, 6, 5, 4, 4, 5, 10, 6, 5, 1, 2, 10, 1, 9, 11, 10, 5, 6, 2, 1, 12, 12, 6, 5, 5, 5, 4, 4, 2, 4, 2, 4, 2, 4, 1, 3, 4, 4, 4, 8, 4, 4, 2, 9, 12, 4, 8, 7, 10, 2, 4, 11, 6, 11, 4, 12, 3, 3, 5, 9, 12, 3, 3, 2, 12, 1, 5, 3, 4, 3, 3, 3, 11, 3, 3, 12, 3, 5, 12, 3, 4, 3, 3, 10, 2, 5, 4, 10, 1, 7, 11, 11, 2, 9, 5, 5, 4, 12, 7, 12, 3, 2, 3, 12, 8, 3, 3, 2, 1, 2, 12, 1, 1, 11, 10, 12, 3, 3, 5, 12, 2, 8, 1, 10, 3, 1, 5, 10, 12, 7, 6, 5, 9, 12, 9, 8, 11, 6, 10, 1, 2, 7, 3, 5, 9, 10, 5, 9, 3, 1, 1, 1, 10, 11, 1, 10, 10, 9, 11, 4, 9, 2, 12, 11, 1, 11, 4, 1, 7, 1, 3, 12, 6, 1, 8, 4, 10, 8, 9, 7, 1, 4, 9, 9, 8, 12, 11, 7, 10, 1, 12, 6, 8, 9, 1, 8, 7, 9, 9, 10, 4, 12, 3, 6, 9, 3, 10, 7, 1, 1, 10, 1, 1, 1, 10, 12, 10, 11, 1, 10, 11, 10, 1, 11, 12, 12, 12, 12, 1, 11, 11, 11, 12, 12, 1, 1, 12, 12, 1, 1, 11, 12, 12, 12, 11, 1, 11, 11, 12, 12, 12, 10, 1, 12, 12, 10, 10, 9, 10, 5, 9, 6, 12, 5, 1, 1, 12, 12, 8, 8, 1, 1, 1, 1, 8, 11, 6, 1, 1, 6, 1, 8, 5, 1, 1, 4, 1, 6, 9, 7, 1, 11, 1, 9, 11, 12, 9, 10, 9, 11, 7, 10, 5, 9, 1, 11, 11, 1, 11, 1, 1, 11, 10, 12, 3, 10, 8, 11, 8, 11, 3, 1, 10, 3, 10, 12, 1, 9, 9, 7, 9, 5, 1, 6, 4, 8, 11, 1, 10, 7, 3, 9, 8, 1, 11, 11, 1, 11, 5, 9, 10, 1, 12, 7, 11, 11, 1, 5, 8, 6, 11, 12, 11, 7, 12, 5, 5, 1, 10, 3, 10, 10, 2, 11, 8, 4, 4, 3, 7, 1, 9, 8, 10, 4, 1, 8, 9, 6, 10, 5, 6, 1, 8, 9, 3, 9, 11, 1, 8, 9, 1, 6, 11, 9, 1, 4, 7, 1, 4, 5, 9, 8, 1, 12, 10, 4, 11, 2, 1, 2, 2, 2, 1, 1, 2, 2, 1, 1, 2, 8, 8, 8, 10, 6, 7, 12, 1, 12, 1, 11, 12, 3, 11, 1, 10, 2, 1, 1, 10, 2, 2, 1, 11, 7, 1, 10, 12, 1, 10, 2, 10, 2, 6, 5, 12, 2, 9, 3, 3, 1, 11, 3, 3, 2, 2, 5, 3, 4, 2, 2, 2, 2, 7, 2, 9, 2, 10, 3, 3, 1, 5, 9, 10, 2, 5, 2, 1, 6, 4, 3, 2, 3, 3, 4, 1, 4, 3, 4, 1, 4, 9, 1, 3, 4, 3, 4, 3, 3, 3, 12, 11, 3, 3, 9, 3, 12, 1, 6, 2, 4, 6, 11, 5, 4, 5, 5, 5, 5, 5, 5, 5, 5, 5, 5, 5, 5, 5, 5, 5, 5, 5, 5, 5, 5, 5, 5, 2, 5, 5, 5, 5, 5, 1, 5, 4, 4, 5, 5, 3, 4, 5, 5, 4, 5, 4, 4, 5, 2, 5, 4, 1, 5, 4, 4, 12, 5, 3, 2, 4, 3, 5, 11, 5, 10, 8, 6, 6, 5, 5, 6, 5, 5, 6, 5, 6, 5, 5, 5, 5, 1, 6, 5, 5, 6, 2, 5, 5, 5, 1, 5, 5, 6, 6, 11, 3, 9, 6, 5, 5, 5, 5, 3, 6, 6, 6, 6, 2, 6, 3, 7, 1, 5, 3, 6, 7, 6, 7, 6, 5, 6, 8, 8, 8, 12, 8, 7, 7, 9, 8, 3, 7, 7, 1, 7, 8, 2, 6, 5, 11, 9, 8, 1, 6, 8, 1, 6, 6, 9, 7, 8, 7, 9, 9, 6, 7, 9, 6, 10, 10, 8, 10, 5, 11, 7, 9, 9, 12, 10, 9, 7, 11, 11, 10, 10, 11, 10, 11, 10, 11, 10, 10, 11, 11, 10, 11, 11, 10, 11, 10, 11, 10, 11]\n",
            "Percentil 90: 11.0\n",
            "Cuartil 1: 3\n",
            "Cuartil 2: 6\n",
            "Cuartil 3: 9\n"
          ]
        }
      ]
    },
    {
      "cell_type": "code",
      "source": [
        "#Para la columna dia de lanzamiento de una cancion\n",
        "released_day = df['released_day']  #obtengo la columna del csv\n",
        "\n",
        "# Para convertir la serie en una lista.\n",
        "lista_datos = released_day.tolist()\n",
        "\n",
        "print(lista_datos)\n",
        "#Percentil 90\n",
        "percentil_90 = calculoPercentil(lista_datos, 90)\n",
        "\n",
        "#Cuartiles 1,2,3 son los percentiles 25,50(mediana),75 respectivamente\n",
        "Q1 = calculoPercentil(lista_datos, 25)\n",
        "Q2 = calculoPercentil(lista_datos, 50)\n",
        "Q3 = calculoPercentil(lista_datos, 75)\n",
        "\n",
        "print(f\"Percentil 90: {percentil_90}\")\n",
        "\n",
        "print(f\"Cuartil 1: {Q1}\")\n",
        "print(f\"Cuartil 2: {Q2}\")\n",
        "print(f\"Cuartil 3: {Q3}\")"
      ],
      "metadata": {
        "colab": {
          "base_uri": "https://localhost:8080/"
        },
        "id": "Mk_RAe2KESBg",
        "outputId": "e33daddc-4fc7-4a84-de25-0efa3141dce9"
      },
      "execution_count": 8,
      "outputs": [
        {
          "output_type": "stream",
          "name": "stdout",
          "text": [
            "[14, 23, 30, 23, 18, 1, 16, 7, 15, 17, 17, 7, 12, 14, 31, 8, 24, 13, 31, 24, 22, 7, 1, 31, 2, 22, 25, 29, 31, 25, 13, 28, 2, 21, 23, 1, 7, 1, 1, 19, 10, 9, 26, 21, 23, 27, 13, 24, 21, 24, 2, 6, 24, 15, 15, 29, 24, 26, 14, 24, 4, 3, 24, 24, 6, 1, 21, 2, 14, 7, 23, 28, 15, 14, 6, 1, 17, 22, 20, 22, 1, 22, 23, 7, 9, 3, 8, 6, 22, 20, 24, 17, 17, 8, 5, 12, 17, 9, 1, 9, 1, 2, 14, 1, 7, 20, 10, 28, 11, 1, 1, 2, 22, 7, 17, 9, 25, 8, 12, 24, 22, 10, 15, 9, 11, 19, 16, 17, 11, 21, 15, 2, 1, 11, 20, 2, 2, 22, 1, 20, 31, 19, 1, 1, 13, 24, 6, 1, 10, 27, 30, 26, 1, 2, 5, 4, 17, 1, 19, 4, 23, 13, 4, 1, 20, 25, 6, 2, 1, 5, 25, 2, 1, 1, 12, 25, 1, 1, 19, 6, 17, 13, 21, 18, 21, 19, 20, 30, 1, 13, 16, 9, 6, 7, 10, 1, 20, 8, 19, 19, 2, 1, 11, 24, 15, 2, 26, 30, 2, 17, 13, 29, 2, 31, 2, 23, 12, 30, 26, 2, 4, 2, 1, 26, 30, 22, 26, 8, 2, 1, 29, 29, 5, 18, 21, 7, 19, 21, 2, 6, 27, 14, 17, 21, 1, 4, 14, 11, 2, 14, 1, 16, 10, 10, 4, 5, 1, 21, 30, 24, 7, 2, 8, 24, 10, 1, 4, 24, 22, 21, 23, 21, 14, 3, 9, 30, 25, 16, 28, 21, 5, 28, 4, 5, 25, 27, 24, 17, 29, 4, 16, 22, 29, 24, 2, 3, 1, 26, 2, 7, 17, 22, 27, 1, 31, 25, 24, 24, 20, 9, 20, 22, 29, 14, 21, 10, 13, 1, 26, 21, 11, 13, 28, 20, 9, 27, 10, 7, 15, 25, 9, 24, 24, 3, 2, 5, 3, 3, 23, 31, 17, 15, 23, 31, 5, 31, 15, 3, 3, 31, 9, 23, 1, 1, 19, 3, 20, 6, 24, 8, 28, 3, 6, 8, 23, 3, 25, 3, 28, 20, 27, 19, 15, 3, 20, 29, 12, 6, 24, 3, 27, 27, 27, 17, 30, 13, 28, 28, 22, 4, 12, 27, 9, 22, 25, 1, 20, 21, 12, 21, 1, 20, 12, 2, 27, 19, 27, 31, 8, 16, 23, 10, 22, 22, 9, 5, 9, 4, 20, 3, 17, 2, 4, 12, 16, 5, 11, 30, 28, 3, 12, 8, 24, 27, 25, 14, 14, 21, 17, 1, 1, 28, 1, 1, 1, 14, 13, 14, 16, 1, 25, 1, 14, 1, 22, 9, 9, 1, 8, 1, 1, 16, 25, 9, 9, 1, 1, 9, 8, 1, 1, 22, 9, 9, 9, 10, 1, 7, 4, 2, 3, 2, 31, 1, 9, 9, 21, 21, 28, 21, 6, 20, 25, 8, 6, 1, 1, 9, 2, 25, 13, 7, 7, 5, 7, 20, 19, 24, 7, 7, 23, 7, 6, 14, 7, 7, 9, 7, 11, 18, 26, 7, 19, 7, 17, 5, 8, 21, 5, 10, 4, 30, 22, 21, 10, 8, 30, 12, 7, 19, 5, 7, 18, 27, 1, 9, 30, 3, 2, 30, 5, 13, 7, 22, 19, 30, 29, 9, 8, 24, 17, 16, 21, 7, 24, 1, 21, 5, 11, 21, 8, 5, 3, 1, 1, 11, 19, 7, 19, 10, 1, 30, 7, 1, 24, 19, 17, 7, 21, 29, 25, 1, 25, 29, 8, 23, 21, 7, 1, 23, 19, 22, 1, 21, 18, 13, 20, 14, 30, 28, 1, 2, 10, 4, 17, 1, 6, 3, 25, 27, 10, 15, 28, 1, 10, 7, 3, 11, 10, 27, 23, 10, 24, 7, 27, 10, 28, 9, 15, 9, 26, 20, 12, 7, 29, 14, 29, 18, 10, 1, 11, 11, 11, 1, 19, 11, 2, 1, 1, 4, 16, 4, 5, 4, 21, 24, 10, 14, 28, 1, 19, 17, 30, 21, 16, 4, 29, 28, 15, 22, 11, 11, 28, 19, 24, 1, 4, 24, 14, 4, 4, 4, 4, 19, 16, 6, 29, 24, 11, 4, 21, 11, 3, 3, 4, 1, 4, 3, 30, 18, 18, 15, 18, 16, 25, 3, 29, 31, 16, 27, 1, 21, 10, 8, 22, 31, 22, 1, 28, 8, 23, 17, 25, 31, 1, 11, 5, 18, 6, 1, 7, 9, 30, 31, 8, 30, 8, 25, 25, 17, 13, 24, 30, 18, 23, 18, 13, 1, 25, 25, 5, 20, 9, 13, 14, 13, 6, 6, 13, 13, 6, 13, 12, 6, 13, 6, 13, 6, 6, 13, 13, 6, 6, 13, 6, 13, 6, 14, 6, 6, 31, 6, 6, 15, 13, 29, 29, 13, 13, 10, 22, 13, 13, 29, 13, 22, 25, 13, 6, 13, 1, 26, 6, 29, 13, 24, 2, 23, 22, 24, 31, 8, 7, 6, 20, 9, 10, 10, 20, 20, 10, 20, 6, 10, 27, 10, 20, 20, 27, 20, 1, 8, 20, 20, 9, 18, 20, 20, 25, 1, 3, 20, 10, 2, 10, 18, 12, 2, 20, 15, 13, 13, 3, 21, 16, 17, 10, 6, 24, 24, 1, 1, 12, 19, 17, 1, 3, 6, 24, 2, 10, 4, 5, 5, 18, 5, 20, 29, 13, 1, 11, 12, 22, 1, 15, 15, 18, 16, 20, 10, 9, 22, 1, 15, 26, 20, 3, 10, 13, 15, 5, 10, 2, 13, 23, 22, 13, 23, 7, 14, 18, 17, 16, 21, 14, 29, 16, 18, 14, 22, 1, 4, 4, 21, 21, 4, 21, 4, 21, 4, 21, 21, 4, 4, 28, 4, 4, 21, 3, 21, 3, 20, 4]\n",
            "Percentil 90: 27.0\n",
            "Cuartil 1: 6\n",
            "Cuartil 2: 13\n",
            "Cuartil 3: 22\n"
          ]
        }
      ]
    },
    {
      "cell_type": "code",
      "source": [
        "#Para la columna en cuantas listas de musica esta una cancion\n",
        "in_spotify_playlists = df['in_spotify_playlists']  #obtengo la columna del csv\n",
        "\n",
        "# Para convertir la serie en una lista.\n",
        "lista_datos = in_spotify_playlists.tolist()\n",
        "\n",
        "print(lista_datos)\n",
        "#Percentil 90\n",
        "percentil_90 = calculoPercentil(lista_datos, 90)\n",
        "\n",
        "#Cuartiles 1,2,3 son los percentiles 25,50(mediana),75 respectivamente\n",
        "Q1 = calculoPercentil(lista_datos, 25)\n",
        "Q2 = calculoPercentil(lista_datos, 50)\n",
        "Q3 = calculoPercentil(lista_datos, 75)\n",
        "\n",
        "print(f\"Percentil 90: {percentil_90}\")\n",
        "\n",
        "print(f\"Cuartil 1: {Q1}\")\n",
        "print(f\"Cuartil 2: {Q2}\")\n",
        "print(f\"Cuartil 3: {Q3}\")"
      ],
      "metadata": {
        "colab": {
          "base_uri": "https://localhost:8080/"
        },
        "id": "_-3WBt_FEcdB",
        "outputId": "a99c6020-0f43-4715-e50e-fa8c1401e110"
      },
      "execution_count": 9,
      "outputs": [
        {
          "output_type": "stream",
          "name": "stdout",
          "text": [
            "[553, 1474, 1397, 7858, 3133, 2186, 3090, 714, 1096, 2953, 2876, 422, 12211, 3528, 23575, 8109, 2942, 873, 2610, 596, 332, 516, 12859, 1313, 1945, 250, 7112, 859, 2420, 2988, 864, 266, 6036, 9082, 4284, 1150, 672, 11434, 7830, 584, 692, 24094, 12482, 13387, 1117, 3372, 8431, 2483, 29536, 3408, 1298, 4277, 1133, 2259, 18371, 43899, 2649, 6804, 525, 7923, 731, 5184, 3107, 4053, 4637, 31358, 3818, 3506, 410, 148, 1004, 22543, 4511, 16413, 8506, 33898, 3246, 8576, 3618, 370, 31123, 2790, 267, 139, 17050, 2114, 17836, 8870, 6060, 641, 1446, 804, 1962, 4875, 31, 2175, 2000, 2839, 20333, 674, 8448, 2110, 2528, 12985, 77, 266, 21097, 3423, 4198, 14739, 26792, 213, 58, 99, 41751, 21164, 2988, 893, 1094, 7324, 201, 5120, 2346, 763, 457, 3430, 6074, 21915, 15032, 871, 451, 1783, 9389, 5724, 13985, 1051, 1682, 182, 16596, 2335, 18986, 283, 293, 21081, 437, 1275, 6135, 20015, 1507, 539, 86, 324, 17138, 894, 1622, 561, 5871, 29215, 5866, 3859, 961, 6457, 43257, 4564, 12688, 13801, 22439, 18515, 36843, 2420, 5897, 727, 33783, 26694, 356, 6518, 21335, 23389, 3202, 32181, 7124, 592, 36724, 794, 13091, 67, 21574, 19664, 21106, 23804, 849, 2619, 9037, 86, 1788, 15890, 492, 773, 1154, 44927, 551, 577, 955, 995, 178, 290, 547, 681, 332, 1197, 262, 161, 185, 839, 259, 2915, 5129, 3794, 588, 2959, 291, 2321, 536, 359, 4096, 349, 381, 2461, 277, 967, 8186, 7842, 215, 1134, 1305, 2066, 896, 3763, 197, 4004, 984, 1240, 3995, 7681, 4427, 4657, 10195, 269, 214, 845, 20763, 1267, 2585, 6330, 675, 715, 327, 244, 385, 1020, 1730, 2127, 3242, 526, 366, 472, 432, 271, 816, 1169, 1282, 6587, 1444, 356, 10147, 265, 351, 158, 7613, 3956, 1638, 924, 1985, 6339, 1561, 875, 406, 340, 4188, 105, 1524, 2651, 11087, 373, 200, 3741, 32502, 7615, 1208, 209, 1235, 654, 1479, 4942, 709, 660, 489, 407, 7461, 993, 9161, 3282, 596, 320, 2612, 2040, 2128, 2598, 542, 2459, 10624, 2418, 7536, 10431, 15722, 25744, 1640, 34, 1845, 3301, 1911, 20111, 1529, 615, 811, 5730, 356, 604, 1190, 579, 1553, 2301, 134, 430, 86, 629, 1701, 329, 1168, 162, 2536, 387, 892, 3909, 3645, 282, 888, 968, 25065, 531, 242, 5281, 2590, 1769, 454, 6180, 3600, 1254, 6398, 660, 1283, 8084, 2332, 203, 685, 2460, 288, 4572, 6127, 166, 1838, 1890, 2098, 761, 1225, 415, 3469, 3311, 2616, 3006, 4260, 482, 4013, 138, 1368, 17852, 889, 4796, 658, 3009, 17492, 6170, 130, 27705, 359, 1963, 5491, 27119, 1776, 1473, 13315, 4057, 3045, 3006, 852, 2163, 1484, 1703, 4169, 1054, 2849, 1602, 9644, 4827, 21811, 168, 688, 10565, 1612, 12755, 574, 2499, 10426, 15894, 9424, 713, 7758, 2537, 292, 323, 14143, 25653, 22153, 14994, 10326, 12353, 9408, 8879, 6512, 5140, 6596, 3788, 7655, 9577, 10114, 1007, 1127, 10829, 1042, 7930, 11500, 1685, 14169, 1634, 906, 1087, 10585, 827, 1420, 11940, 888, 9122, 892, 989, 819, 2209, 6290, 6952, 313, 353, 4094, 880, 573, 3299, 811, 899, 2415, 2304, 1003, 2699, 2482, 2577, 6821, 714, 3185, 8612, 4326, 680, 398, 3328, 7215, 4440, 2881, 2235, 3711, 12403, 2785, 14114, 1915, 2297, 4375, 2800, 2597, 15563, 1420, 1292, 15867, 1178, 6672, 12329, 5669, 811, 1756, 1014, 7963, 4771, 8559, 3221, 3423, 2566, 9151, 8476, 7495, 5257, 1795, 12685, 648, 4635, 1184, 4431, 759, 733, 2795, 2780, 1950, 3947, 2551, 5375, 11975, 2696, 4963, 6734, 715, 3047, 14140, 11215, 1678, 2035, 2780, 4091, 2868, 3643, 4779, 3517, 5073, 7545, 8528, 2979, 7731, 1057, 3272, 14417, 5199, 6026, 2877, 4640, 1150, 768, 925, 3006, 3098, 9771, 807, 521, 12854, 802, 731, 788, 3069, 4651, 4999, 8327, 3297, 35684, 3506, 2999, 3681, 4846, 14311, 8207, 4873, 772, 1150, 5398, 7370, 6890, 1966, 2226, 4204, 1959, 7191, 2012, 1211, 7109, 6638, 17354, 6392, 5481, 2636, 824, 24529, 14749, 8087, 27221, 49991, 6646, 5403, 755, 254, 6308, 51979, 246, 6556, 5728, 16636, 461, 4893, 1801, 12043, 4731, 22923, 9974, 1560, 620, 3270, 580, 3406, 903, 6809, 33966, 590, 3766, 1430, 31762, 4049, 2096, 1175, 29499, 30427, 2711, 4310, 5342, 2393, 3444, 5443, 272, 975, 1034, 18773, 19067, 3541, 1492, 33206, 17115, 6955, 2742, 4214, 2026, 352, 1517, 847, 910, 601, 1800, 1930, 33032, 6332, 509, 971, 2578, 1064, 3618, 1040, 15010, 4708, 13454, 4890, 9514, 3501, 6111, 5415, 4673, 1856, 200, 1888, 911, 2954, 461, 2844, 2939, 695, 328, 866, 1550, 1729, 2005, 1188, 40112, 3659, 9833, 50887, 3257, 1473, 2226, 23375, 28032, 290, 42798, 2605, 8737, 1105, 2499, 2697, 2092, 1185, 11985, 753, 2995, 225, 9243, 918, 1959, 540, 859, 1116, 273, 686, 226, 1264, 870, 7556, 1370, 315, 651, 12382, 625, 8429, 52898, 3436, 918, 181, 18778, 22730, 5542, 9021, 4627, 2229, 1112, 2575, 3107, 1179, 3486, 2942, 1443, 3028, 1796, 2729, 1195, 892, 1635, 2291, 1029, 1681, 1480, 829, 2308, 1004, 1367, 1112, 1209, 9539, 1992, 897, 2948, 1860, 802, 2224, 1103, 2265, 555, 2050, 1493, 1545, 2350, 1929, 710, 928, 1194, 349, 1890, 1308, 4531, 1657, 1351, 608, 1211, 629, 1301, 1329, 343, 13101, 2939, 407, 1492, 2264, 801, 829, 736, 4449, 3218, 327, 2775, 4576, 2313, 3983, 279, 2302, 3559, 2129, 3291, 5328, 1401, 1933, 1986, 1057, 5115, 2094, 2171, 896, 5148, 2528, 1900, 3879, 896, 8775, 5290, 10211, 584, 1517, 246, 220, 514, 6080, 9724, 2341, 5263, 2402, 795, 571, 832, 565, 41231, 4526, 1818, 2814, 1601, 894, 945, 767, 5898, 685, 1452, 1456, 2107, 1494, 1379, 625, 2688, 2668, 799, 1189, 367, 527, 17504, 3113, 685, 782, 2442, 1112, 4967, 2520, 767, 19806, 5153, 615, 2537, 1647, 2019, 1473, 1613, 30992, 10826, 920, 308, 2468, 1097, 330, 1584, 1585, 766, 836, 430, 2020, 6858, 3682, 1639, 452, 668, 991, 869, 648, 1545, 1930, 1948, 1608, 1338, 1936, 1794, 1597, 1652, 1747, 1715, 486, 1007, 481, 1045, 1060, 1274, 953, 1180, 573, 1320, 782]\n",
            "Percentil 90: 14088.200000000008\n",
            "Cuartil 1: 875\n",
            "Cuartil 2: 2224\n",
            "Cuartil 3: 5542\n"
          ]
        }
      ]
    },
    {
      "cell_type": "code",
      "source": [
        "#Para la columna ranking de la cancion en Spotify\n",
        "in_spotify_charts = df['in_spotify_charts']  #obtengo la columna del csv\n",
        "\n",
        "# Para convertir la serie en una lista.\n",
        "lista_datos = in_spotify_charts.tolist()\n",
        "\n",
        "print(lista_datos)\n",
        "#Percentil 90\n",
        "percentil_90 = calculoPercentil(lista_datos, 90)\n",
        "\n",
        "#Cuartiles 1,2,3 son los percentiles 25,50(mediana),75 respectivamente\n",
        "Q1 = calculoPercentil(lista_datos, 25)\n",
        "Q2 = calculoPercentil(lista_datos, 50)\n",
        "Q3 = calculoPercentil(lista_datos, 75)\n",
        "\n",
        "print(f\"Percentil 90: {percentil_90}\")\n",
        "\n",
        "print(f\"Cuartil 1: {Q1}\")\n",
        "print(f\"Cuartil 2: {Q2}\")\n",
        "print(f\"Cuartil 3: {Q3}\")"
      ],
      "metadata": {
        "colab": {
          "base_uri": "https://localhost:8080/"
        },
        "id": "GNrKAq_HEtTZ",
        "outputId": "76835dcb-3d9a-481b-e1ae-e7b73ef8291e"
      },
      "execution_count": 10,
      "outputs": [
        {
          "output_type": "stream",
          "name": "stdout",
          "text": [
            "[147, 48, 113, 100, 50, 91, 50, 43, 83, 44, 40, 55, 115, 98, 130, 77, 77, 104, 40, 68, 26, 38, 110, 40, 87, 26, 77, 40, 19, 101, 78, 34, 88, 56, 49, 31, 34, 53, 42, 28, 25, 78, 80, 64, 80, 19, 76, 59, 79, 47, 38, 66, 39, 59, 83, 69, 42, 45, 41, 29, 15, 41, 39, 50, 38, 43, 23, 56, 36, 24, 35, 63, 36, 61, 45, 62, 23, 42, 38, 20, 55, 30, 9, 17, 36, 44, 53, 43, 53, 50, 12, 25, 38, 23, 39, 23, 46, 25, 52, 47, 23, 58, 39, 61, 35, 27, 52, 21, 44, 43, 32, 6, 18, 15, 25, 36, 59, 38, 34, 22, 11, 48, 27, 26, 24, 38, 52, 34, 30, 32, 33, 27, 46, 44, 25, 16, 46, 8, 13, 23, 23, 7, 8, 43, 31, 32, 38, 16, 14, 21, 8, 14, 37, 9, 9, 14, 27, 43, 24, 26, 26, 18, 24, 16, 13, 19, 19, 35, 21, 11, 19, 16, 26, 13, 16, 17, 13, 29, 18, 10, 18, 14, 7, 10, 17, 8, 30, 16, 13, 31, 22, 12, 42, 11, 14, 14, 36, 33, 22, 17, 4, 14, 29, 19, 6, 19, 0, 10, 5, 13, 5, 6, 3, 18, 0, 30, 25, 34, 0, 16, 8, 36, 10, 2, 6, 69, 5, 36, 1, 5, 12, 10, 6, 22, 34, 6, 0, 8, 0, 33, 5, 24, 13, 13, 4, 18, 20, 4, 0, 2, 27, 20, 32, 6, 1, 0, 13, 12, 4, 35, 3, 33, 9, 10, 15, 2, 12, 12, 4, 0, 6, 34, 4, 10, 30, 6, 9, 4, 33, 6, 10, 18, 35, 13, 24, 4, 5, 13, 15, 0, 17, 30, 6, 19, 4, 17, 21, 14, 34, 4, 9, 3, 0, 26, 0, 0, 17, 0, 8, 4, 5, 12, 0, 6, 4, 4, 9, 37, 2, 20, 17, 26, 7, 7, 16, 4, 0, 0, 16, 30, 0, 5, 0, 2, 4, 10, 4, 6, 0, 0, 2, 20, 4, 0, 0, 14, 15, 0, 0, 6, 6, 11, 17, 0, 15, 0, 22, 4, 6, 4, 0, 14, 30, 34, 4, 7, 11, 6, 31, 15, 0, 6, 2, 0, 14, 13, 6, 33, 13, 0, 0, 0, 16, 12, 0, 2, 0, 0, 0, 16, 0, 0, 10, 4, 0, 4, 20, 9, 6, 2, 3, 7, 4, 10, 0, 16, 14, 0, 14, 4, 0, 8, 6, 12, 0, 15, 0, 0, 44, 0, 0, 0, 28, 0, 0, 0, 0, 44, 0, 8, 4, 0, 2, 8, 0, 7, 28, 2, 6, 0, 4, 0, 0, 0, 0, 0, 0, 0, 0, 0, 0, 0, 0, 0, 0, 0, 0, 0, 0, 0, 0, 0, 0, 0, 0, 0, 0, 0, 4, 0, 0, 0, 0, 0, 0, 0, 0, 0, 2, 2, 0, 0, 0, 0, 0, 0, 0, 0, 0, 0, 20, 0, 34, 0, 4, 0, 0, 0, 0, 13, 0, 0, 6, 0, 0, 0, 0, 17, 0, 0, 0, 0, 0, 6, 0, 0, 0, 0, 0, 0, 2, 0, 0, 0, 0, 0, 0, 2, 26, 13, 6, 0, 17, 6, 0, 3, 1, 5, 0, 0, 3, 0, 0, 2, 0, 12, 0, 10, 8, 0, 0, 0, 0, 9, 0, 21, 12, 0, 2, 0, 0, 0, 6, 0, 0, 4, 5, 0, 2, 0, 19, 0, 0, 0, 0, 3, 0, 0, 0, 3, 0, 4, 0, 1, 0, 0, 0, 0, 4, 0, 0, 24, 3, 6, 10, 0, 0, 10, 0, 0, 0, 0, 0, 4, 0, 0, 0, 0, 0, 0, 0, 0, 2, 2, 0, 8, 0, 0, 3, 0, 0, 0, 0, 0, 9, 0, 6, 4, 0, 5, 15, 0, 0, 0, 12, 0, 4, 2, 0, 0, 0, 2, 0, 0, 0, 0, 16, 0, 28, 0, 5, 0, 0, 0, 0, 0, 0, 11, 7, 0, 0, 0, 0, 7, 0, 4, 0, 1, 0, 0, 2, 0, 1, 0, 0, 0, 11, 0, 0, 0, 0, 0, 0, 0, 0, 0, 0, 9, 2, 0, 0, 0, 0, 2, 0, 1, 20, 0, 0, 4, 32, 2, 3, 2, 0, 2, 2, 0, 2, 0, 11, 0, 16, 0, 0, 0, 0, 3, 0, 0, 34, 0, 0, 0, 21, 0, 0, 0, 0, 0, 0, 21, 1, 0, 0, 0, 8, 0, 0, 0, 0, 9, 4, 0, 0, 2, 2, 0, 0, 0, 0, 0, 2, 0, 0, 0, 1, 0, 0, 0, 0, 3, 5, 0, 0, 0, 0, 6, 0, 0, 0, 0, 0, 0, 0, 8, 0, 0, 3, 0, 0, 28, 7, 0, 0, 0, 1, 0, 3, 0, 15, 0, 0, 0, 0, 0, 8, 0, 0, 0, 0, 0, 0, 0, 0, 4, 0, 0, 6, 0, 2, 0, 0, 0, 0, 0, 0, 0, 0, 2, 9, 0, 1, 0, 0, 0, 0, 0, 1, 3, 0, 0, 0, 0, 0, 0, 0, 3, 0, 5, 0, 0, 0, 0, 0, 13, 1, 0, 0, 0, 0, 1, 2, 0, 0, 0, 0, 8, 0, 4, 4, 0, 0, 0, 0, 0, 0, 11, 0, 3, 0, 1, 12, 0, 0, 0, 4, 0, 0, 5, 2, 35, 0, 0, 2, 4, 4, 0, 2, 12, 6, 0, 4, 34, 0, 5, 9, 0, 4, 0, 4, 12, 7, 6, 0, 0, 30, 8, 12, 0, 6, 4, 0, 0, 0, 2, 0, 0, 5, 0, 0, 6, 0, 0, 6, 0, 10, 1, 0, 7, 4, 0, 0, 0, 0, 0, 0, 0, 0, 2, 0, 0, 0, 0, 9, 0, 0, 0, 0, 0, 0, 0, 2]\n",
            "Percentil 90: 36.80000000000007\n",
            "Cuartil 1: 0\n",
            "Cuartil 2: 3\n",
            "Cuartil 3: 16\n"
          ]
        }
      ]
    },
    {
      "cell_type": "code",
      "source": [
        "#Para la columna cantidad de reproducciones\n",
        "streams = df['streams']  #obtengo la columna del csv\n",
        "\n",
        "# Para convertir la serie en una lista.\n",
        "lista_datos = streams.tolist()\n",
        "\n",
        "print(lista_datos)\n",
        "#Percentil 90\n",
        "percentil_90 = calculoPercentil(lista_datos, 90)\n",
        "\n",
        "#Cuartiles 1,2,3 son los percentiles 25,50(mediana),75 respectivamente\n",
        "Q1 = calculoPercentil(lista_datos, 25)\n",
        "Q2 = calculoPercentil(lista_datos, 50)\n",
        "Q3 = calculoPercentil(lista_datos, 75)\n",
        "\n",
        "print(f\"Percentil 90: {percentil_90}\")\n",
        "\n",
        "print(f\"Cuartil 1: {Q1}\")\n",
        "print(f\"Cuartil 2: {Q2}\")\n",
        "print(f\"Cuartil 3: {Q3}\")"
      ],
      "metadata": {
        "colab": {
          "base_uri": "https://localhost:8080/"
        },
        "id": "_HeNC-ZOFgKY",
        "outputId": "f657481d-6aba-4ec4-b475-b269f05bf84a"
      },
      "execution_count": 16,
      "outputs": [
        {
          "output_type": "stream",
          "name": "stdout",
          "text": [
            "[141381703, 133716286, 140003974, 800840817, 303236322, 183706234, 725980112, 58149378, 95217315, 553634067, 505671438, 58255150, 1316855716, 387570742, 2513188493, 1163093654, 496795686, 30546883, 335222234, 363369738, 86444842, 52135248, 1297026226, 200647221, 115364561, 78300654, 899183384, 61245289, 429829812, 127408954, 22581161, 52294266, 843957510, 999748277, 618990393, 123122413, 188933502, 1355959075, 786181836, 176553476, 354495408, 2808096550, 1109433169, 1047101291, 65156199, 570515054, 1085685420, 1647990401, 2565529693, 518745108, 107753850, 177740666, 153372011, 57876440, 1813673666, 3703895074, 256483385, 1214083358, 16011326, 812019557, 111947664, 156338624, 720434240, 357925728, 674072710, 1755214421, 404562836, 373199958, 14780425, 39578178, 54266102, 2557975762, 751134527, 2282771485, 1356565093, 1592909789, 635412045, 1230675890, 585695368, 43857627, 2009094673, 600976848, 39709092, 39228929, 2665343922, 223633238, 2887241814, 1440757818, 165484133, 58054811, 157058870, 95131998, 250305248, 685032533, 38411956, 144565150, 127567540, 399686758, 983637508, 118482347, 882831184, 286400165, 172825906, 1241559043, 29562220, 77309611, 1605224506, 1116995633, 838079900, 1163620694, 1093605526, 179659294, 39058561, 36912123, 1205951614, 1791000570, 201660859, 248088961, 90839753, 607123776, 55842345, 211050784, 342897938, 2762, 330346424, 601863821, 1953533826, 2322580122, 2355719893, 66902503, 96273746, 430977451, 284819874, 721975598, 1217120710, 109276132, 276259178, 54225632, 2559529074, 681583126, 2594040133, 81102253, 11956641, 1687664027, 11599388, 611700552, 1133865788, 1089402494, 411747614, 255932395, 31873544, 95053634, 1279434863, 233801632, 1481349984, 142095275, 618885532, 2011464183, 1167330737, 929964809, 436027885, 657723613, 2713922350, 621660989, 1591223784, 950906471, 1593270737, 1410088830, 1235005533, 1661187319, 1374581173, 94186466, 1788326445, 1840364617, 143573775, 684675814, 1113838873, 1267333350, 726307468, 3562543890, 1131090940, 307370144, 1271293243, 265882712, 841749534, 47956378, 806397070, 2132335812, 1641426668, 2135158446, 367316268, 350381515, 1264310836, 30343206, 405136812, 1145727611, 540654286, 57312735, 397582059, 1479115056, 86773632, 133753727, 123124076, 463564958, 64533040, 65496046, 68616963, 161460990, 70106975, 113509496, 89933133, 71007139, 43522589, 232896922, 37126685, 195576623, 532336353, 538115192, 46142772, 401036314, 127026613, 345031710, 288101651, 60350538, 335074782, 76767396, 46065667, 459276435, 39666245, 138517666, 822633917, 595900742, 51985779, 57945987, 115010040, 175097833, 57089066, 488386797, 32761689, 1047480053, 153454328, 217672943, 457184829, 939844851, 726434358, 573633020, 1406111294, 71573339, 24975653, 145458418, 1424589568, 231332117, 415932686, 988515741, 50847624, 39893489, 92035115, 118810253, 77233241, 206399629, 117747907, 266624541, 293186992, 139681964, 123132751, 103762518, 162887075, 91221625, 190490915, 96180277, 185240616, 885093467, 104992946, 147290338, 1302184087, 158950978, 76910644, 137123880, 782369383, 502574952, 207033255, 404887295, 381161027, 466231982, 357580552, 61105704, 198275403, 168448603, 705469769, 34502215, 482175240, 304118600, 1449799467, 173627354, 90025258, 652704649, 1829992958, 655466831, 146409671, 95816024, 117206995, 100409613, 80758350, 325592432, 58473276, 52722996, 191945597, 77377503, 743693613, 267789608, 1221813483, 449701773, 67070410, 116334601, 433356509, 165584767, 367814306, 477033549, 156214700, 448843705, 1357608774, 294352144, 972164968, 920045682, 2420461338, 1947371785, 244658767, 68216992, 223582566, 471819764, 272377463, 1361425037, 149778242, 116599790, 148469433, 497225336, 88791109, 125917280, 105062254, 95623148, 144584800, 298063749, 166570053, 83021468, 139836056, 303216294, 221409663, 58890931, 81419389, 156777415, 284908316, 93438910, 363472647, 372476382, 380726517, 56533272, 175399345, 203221468, 1624165576, 134294498, 70069745, 609293408, 671365962, 362361576, 93587665, 1223481149, 1022258230, 263453310, 1435127549, 236857112, 147538971, 698086140, 723894473, 34450974, 403097450, 309483971, 319566866, 909001996, 1061966512, 32526947, 124988687, 103787664, 134255790, 301051721, 156338624, 152850295, 309653982, 297328960, 332506354, 480507035, 1065580332, 122763672, 445763624, 1365184, 184308753, 789753877, 323358833, 606361689, 120972253, 338564981, 1606986953, 1301799902, 140187018, 1897517891, 107642809, 551305895, 556585270, 2303033973, 646886885, 222612678, 1814349763, 872137015, 571386359, 304079786, 174006928, 284785823, 163284000, 246390068, 482257456, 168684524, 78489819, 195516622, 1260594497, 428685680, 1024858327, 838586769, 199386237, 972509632, 213438580, 1555511105, 210038833, 227918678, 826623384, 1802514301, 1329090101, 181831132, 462791599, 348647203, 366599607, 90598517, 1479264469, 1449779435, 1159176109, 769213520, 741301563, 807561936, 834129063, 663832097, 446390129, 690104769, 485285717, 520034544, 476244795, 629173063, 404664135, 98709329, 110849052, 460492795, 94005786, 395591396, 389771964, 403939487, 481697415, 110073250, 88092256, 351636786, 473248298, 73981293, 155653938, 395591396, 429504768, 242767149, 65362788, 67540165, 62019074, 135723538, 295998468, 261116938, 136689549, 135611421, 356709897, 110649992, 301869854, 127027715, 57144458, 56870689, 323437194, 317726339, 116144341, 328207708, 608228647, 180577478, 809306935, 49262961, 614555082, 245350949, 178660459, 51641685, 78139948, 322336177, 1007612429, 326792833, 391251368, 349585590, 339659802, 674772936, 432719968, 1309887447, 119238316, 116903579, 888046992, 200660871, 130655803, 1887039593, 88103848, 101114984, 1575467011, 91656026, 1042568408, 1735441776, 726837877, 53933526, 267758538, 74601456, 920797189, 539595276, 1367810478, 578207856, 775542072, 863625566, 656013912, 1056760045, 611994237, 1230855859, 582981380, 1858144199, 240684449, 583687007, 63803529, 466214729, 236940480, 41924466, 225259194, 393230256, 287201015, 599770206, 342779426, 673801126, 1168642797, 540539717, 383550148, 530511203, 37307967, 510876816, 1445941661, 1763363713, 374191487, 108809090, 436695353, 421040617, 501541661, 354065229, 1143647827, 311395144, 672656250, 1256880657, 1692897992, 245095641, 686734357, 261414174, 610045621, 1115880852, 594482982, 566954746, 767523, 374706940, 184937148, 31959571, 167076418, 824420218, 363467642, 1127468248, 60680939, 247737946, 1699402402, 154797871, 198883004, 124407432, 850608354, 376333030, 516784627, 1608045237, 506778838, 1472799873, 513643924, 261286503, 783706581, 422691058, 1062345656, 1252563873, 851070493, 263894529, 345903614, 951637566, 956865266, 427486004, 156658366, 624515457, 777765388, 412795151, 1138474110, 355219175, 290228626, 1062956628, 1180094974, 1456081449, 432702334, 489945871, 465959382, 1223481149, 2864791672, 2288695111, 720825549, 2086124197, 1690192927, 991336132, 593917618, 200972675, 71014967, 560222750, 1806617704, 77337771, 528544703, 865640097, 2159346687, 211372494, 651732901, 608334048, 863756573, 797402345, 1695712020, 1759567999, 223319934, 54937991, 226897599, 258316038, 596152090, 177129919, 716591492, 1210599487, 246376690, 496311364, 146789379, 843309044, 500340342, 107255472, 135079152, 822239726, 1202722675, 343197054, 240769997, 426204830, 421135627, 554875730, 467727006, 327498031, 185408548, 245400167, 579395142, 675039469, 252871192, 231996128, 1929770265, 918915401, 1180896317, 498960285, 685071800, 258714692, 143139338, 209768491, 64714573, 50746620, 154119539, 181328253, 370068639, 2280566092, 563902868, 317622165, 291709698, 203680270, 81350745, 282883169, 64787943, 2484812918, 461437791, 1439191367, 759208783, 368646862, 299634472, 756907987, 682475162, 546191065, 229473310, 202677468, 121913181, 208166039, 527033089, 94616487, 394030335, 193443895, 299648208, 182978249, 319757142, 109091573, 153240879, 346127840, 312622938, 2197010679, 1200808494, 797196073, 1970673297, 665765558, 263779030, 339473453, 2204080728, 2591224264, 135444283, 1457139296, 236872197, 694525298, 240661097, 421365166, 349746291, 255120451, 190981339, 924193303, 305771063, 273005485, 89566512, 677389855, 75476209, 408843328, 187772591, 178512385, 101780047, 118381354, 146363130, 126443991, 157990698, 176290831, 1023187129, 106933107, 139193812, 212234990, 1714490998, 197643795, 807015863, 933815613, 499710590, 120847157, 53909146, 2236667932, 2123309722, 301242089, 723894473, 237351106, 461558540, 417230415, 156898322, 127309180, 313113297, 173702135, 271666301, 305650299, 123216717, 479655659, 126191104, 344055883, 338422004, 68895644, 86176890, 403231558, 319546754, 61739839, 283359161, 76831876, 283332261, 307752576, 279737940, 212351890, 1304313953, 150500965, 246127838, 582863434, 58687425, 212109195, 382199619, 41210087, 231657891, 53729194, 244741137, 42485571, 37778188, 254218729, 53603447, 160035717, 164163229, 37091576, 284249832, 33381454, 184622518, 300983101, 121077868, 106919680, 136996305, 65719930, 229497852, 185550869, 54682594, 240580042, 1284942608, 71423324, 244891912, 132171975, 184706613, 184826429, 302006641, 330881149, 334733572, 366214458, 114546317, 290833204, 448500832, 136676504, 190625045, 79095270, 273194684, 333146475, 194902696, 311482393, 195918494, 248511839, 233671263, 199587884, 91781263, 383835984, 236060709, 189236868, 160845341, 588955257, 238350348, 187703102, 295307001, 138334433, 445590495, 286739476, 1122364376, 157136970, 137070925, 183273246, 184807630, 164856284, 704171068, 354614964, 279717388, 195628667, 221752937, 263280370, 213505179, 130419412, 155795783, 1553497987, 293466523, 711366595, 191448892, 85924992, 176103902, 121189256, 131746175, 244790012, 129314708, 331511413, 219196651, 170732845, 273914335, 179061440, 185236961, 171788484, 387080183, 264717480, 244928911, 97610446, 287278853, 887906111, 123473120, 295152154, 323455692, 240918092, 191873381, 284216603, 239411309, 265548837, 703301727, 244585109, 189476119, 277132266, 278920007, 222410722, 185392587, 202452860, 1608164312, 624101957, 148461629, 47093942, 380319238, 209106362, 53987404, 115331792, 225093344, 84697729, 159240673, 170709584, 154356956, 723043854, 247689123, 176474912, 235549288, 140430339, 85559365, 146223492, 187701588, 154863153, 191333656, 253650850, 223064273, 170413877, 218320587, 141720999, 187339835, 198365537, 186104310, 177503916, 71095708, 112436403, 203436468, 93367537, 106249219, 181382590, 91473363, 121871870, 73513683, 133895612, 96007391]\n",
            "Percentil 90: 1302107250.0\n",
            "Cuartil 1: 141381703\n",
            "Cuartil 2: 290228626\n",
            "Cuartil 3: 673801126\n"
          ]
        }
      ]
    },
    {
      "cell_type": "code",
      "source": [
        "#Para la columna cantidad de veces que esta en una lista en Apple Music\n",
        "in_apple_playlists = df['in_apple_playlists']  #obtengo la columna del csv\n",
        "\n",
        "# Para convertir la serie en una lista.\n",
        "lista_datos = in_apple_playlists.tolist()\n",
        "\n",
        "print(lista_datos)\n",
        "#Percentil 90\n",
        "percentil_90 = calculoPercentil(lista_datos, 90)\n",
        "\n",
        "#Cuartiles 1,2,3 son los percentiles 25,50(mediana),75 respectivamente\n",
        "Q1 = calculoPercentil(lista_datos, 25)\n",
        "Q2 = calculoPercentil(lista_datos, 50)\n",
        "Q3 = calculoPercentil(lista_datos, 75)\n",
        "\n",
        "print(f\"Percentil 90: {percentil_90}\")\n",
        "\n",
        "print(f\"Cuartil 1: {Q1}\")\n",
        "print(f\"Cuartil 2: {Q2}\")\n",
        "print(f\"Cuartil 3: {Q3}\")"
      ],
      "metadata": {
        "colab": {
          "base_uri": "https://localhost:8080/"
        },
        "id": "eLHg1q2DE8g2",
        "outputId": "7d15069c-2acd-4340-a052-041f2767667f"
      },
      "execution_count": 11,
      "outputs": [
        {
          "output_type": "stream",
          "name": "stdout",
          "text": [
            "[43, 48, 94, 116, 84, 67, 34, 25, 60, 49, 41, 37, 300, 80, 403, 183, 91, 80, 43, 8, 11, 73, 24, 17, 74, 16, 202, 35, 52, 0, 71, 20, 113, 242, 115, 22, 19, 154, 94, 16, 10, 372, 291, 77, 82, 65, 241, 68, 281, 87, 44, 145, 14, 0, 250, 672, 67, 139, 34, 106, 27, 154, 38, 82, 63, 196, 37, 105, 36, 32, 42, 386, 70, 166, 94, 233, 94, 216, 47, 12, 300, 60, 9, 16, 492, 80, 440, 104, 150, 1, 57, 29, 28, 19, 2, 69, 49, 58, 89, 20, 160, 17, 56, 49, 8, 6, 384, 41, 98, 88, 69, 7, 2, 21, 101, 80, 74, 19, 40, 25, 19, 161, 69, 21, 8, 45, 201, 437, 221, 25, 10, 26, 24, 119, 30, 31, 24, 3, 7, 82, 250, 6, 5, 98, 17, 13, 71, 107, 24, 7, 7, 13, 119, 14, 0, 4, 81, 179, 107, 133, 19, 98, 433, 24, 197, 137, 211, 70, 321, 0, 0, 17, 133, 65, 35, 45, 328, 54, 148, 33, 60, 11, 146, 38, 61, 7, 112, 391, 82, 187, 27, 47, 124, 3, 1, 71, 4, 20, 28, 34, 13, 22, 37, 12, 6, 9, 15, 15, 18, 44, 8, 10, 5, 20, 5, 116, 116, 47, 23, 41, 8, 29, 10, 1, 118, 8, 23, 47, 1, 7, 155, 215, 6, 39, 29, 58, 34, 51, 3, 34, 8, 51, 72, 119, 69, 84, 258, 7, 3, 12, 81, 41, 3, 109, 9, 37, 14, 6, 17, 15, 46, 45, 67, 15, 16, 0, 8, 16, 21, 36, 26, 114, 0, 4, 234, 8, 16, 5, 180, 142, 0, 17, 34, 3, 18, 17, 3, 4, 30, 5, 53, 21, 151, 4, 8, 156, 247, 18, 10, 4, 20, 11, 23, 190, 8, 22, 4, 16, 166, 30, 240, 67, 29, 5, 19, 81, 37, 28, 23, 20, 21, 52, 44, 71, 231, 122, 27, 0, 20, 72, 23, 39, 32, 22, 11, 108, 4, 22, 29, 11, 61, 49, 4, 15, 11, 32, 30, 14, 45, 1, 59, 11, 20, 66, 118, 6, 11, 16, 63, 20, 12, 94, 20, 16, 6, 122, 7, 26, 177, 19, 57, 45, 0, 5, 24, 53, 11, 74, 0, 2, 105, 86, 88, 23, 27, 15, 71, 129, 113, 47, 113, 9, 107, 13, 12, 69, 11, 124, 33, 68, 136, 82, 21, 537, 12, 57, 128, 532, 1, 27, 300, 78, 43, 54, 14, 72, 22, 38, 57, 9, 39, 12, 120, 104, 117, 0, 14, 238, 34, 344, 38, 70, 133, 198, 202, 2, 173, 8, 26, 4, 56, 387, 274, 191, 165, 35, 231, 182, 88, 85, 144, 21, 5, 195, 114, 5, 16, 130, 7, 108, 140, 1, 209, 16, 6, 90, 126, 6, 13, 73, 50, 121, 3, 5, 14, 72, 89, 115, 10, 2, 66, 3, 1, 65, 6, 2, 33, 12, 21, 39, 27, 108, 83, 0, 38, 120, 32, 2, 2, 39, 170, 81, 13, 65, 49, 183, 95, 252, 7, 11, 24, 18, 17, 259, 7, 3, 382, 9, 125, 275, 74, 1, 38, 1, 173, 68, 183, 67, 61, 44, 240, 138, 114, 85, 34, 185, 14, 50, 1, 105, 32, 0, 45, 54, 56, 33, 52, 138, 188, 42, 63, 47, 0, 77, 231, 189, 20, 41, 86, 105, 43, 69, 180, 54, 83, 117, 239, 44, 110, 17, 101, 237, 45, 171, 16, 81, 20, 1, 24, 23, 111, 42, 3, 17, 237, 13, 14, 13, 25, 24, 43, 205, 25, 195, 103, 60, 20, 54, 255, 175, 65, 7, 20, 111, 92, 122, 4, 29, 39, 19, 146, 101, 30, 5, 167, 92, 174, 144, 36, 8, 533, 188, 92, 308, 265, 107, 118, 22, 0, 114, 306, 2, 93, 85, 368, 10, 143, 77, 209, 141, 78, 272, 72, 17, 89, 24, 61, 30, 151, 141, 4, 76, 46, 142, 119, 34, 34, 124, 235, 105, 13, 33, 22, 24, 45, 7, 11, 19, 128, 78, 57, 44, 284, 83, 65, 5, 21, 47, 10, 42, 25, 20, 28, 43, 3, 363, 47, 8, 35, 8, 42, 21, 8, 453, 13, 246, 52, 45, 69, 185, 46, 123, 29, 12, 26, 45, 18, 7, 29, 42, 16, 10, 27, 0, 26, 16, 13, 321, 11, 233, 315, 10, 2, 36, 336, 315, 9, 217, 15, 163, 32, 68, 55, 75, 21, 79, 28, 49, 11, 155, 24, 52, 26, 14, 31, 12, 11, 5, 20, 32, 124, 46, 27, 6, 229, 10, 85, 203, 32, 34, 16, 228, 289, 52, 242, 38, 27, 7, 4, 4, 7, 20, 42, 9, 22, 8, 3, 8, 10, 4, 9, 5, 10, 1, 4, 7, 8, 48, 7, 9, 162, 35, 6, 10, 1, 16, 48, 0, 93, 10, 52, 2, 1, 28, 2, 16, 19, 0, 10, 3, 23, 135, 15, 26, 5, 31, 18, 23, 42, 4, 137, 29, 5, 26, 11, 42, 32, 5, 80, 29, 5, 21, 79, 34, 73, 0, 20, 36, 23, 43, 54, 26, 13, 7, 51, 109, 8, 18, 19, 90, 63, 15, 107, 0, 33, 139, 38, 12, 26, 4, 16, 5, 112, 222, 37, 66, 45, 26, 19, 18, 6, 228, 156, 3, 38, 11, 28, 49, 25, 129, 17, 16, 53, 51, 17, 23, 13, 39, 38, 14, 17, 28, 10, 63, 54, 15, 15, 81, 22, 165, 93, 20, 33, 102, 14, 49, 20, 117, 25, 21, 124, 24, 10, 6, 15, 18, 3, 38, 78, 16, 14, 14, 77, 31, 41, 86, 2, 0, 36, 14, 0, 22, 24, 12, 10, 9, 7, 26, 6, 26, 9, 4, 8, 6, 10, 8, 3, 1, 61, 4, 2, 29, 27]\n",
            "Percentil 90: 180.0\n",
            "Cuartil 1: 13\n",
            "Cuartil 2: 34\n",
            "Cuartil 3: 88\n"
          ]
        }
      ]
    },
    {
      "cell_type": "code",
      "source": [
        "#Para la columna ranking de la cancion en Apple Music\n",
        "in_apple_charts = df['in_apple_charts']  #obtengo la columna del csv\n",
        "\n",
        "# Para convertir la serie en una lista.\n",
        "lista_datos = in_apple_charts.tolist()\n",
        "\n",
        "print(lista_datos)\n",
        "#Percentil 90\n",
        "percentil_90 = calculoPercentil(lista_datos, 90)\n",
        "\n",
        "#Cuartiles 1,2,3 son los percentiles 25,50(mediana),75 respectivamente\n",
        "Q1 = calculoPercentil(lista_datos, 25)\n",
        "Q2 = calculoPercentil(lista_datos, 50)\n",
        "Q3 = calculoPercentil(lista_datos, 75)\n",
        "\n",
        "print(f\"Percentil 90: {percentil_90}\")\n",
        "\n",
        "print(f\"Cuartil 1: {Q1}\")\n",
        "print(f\"Cuartil 2: {Q2}\")\n",
        "print(f\"Cuartil 3: {Q3}\")"
      ],
      "metadata": {
        "colab": {
          "base_uri": "https://localhost:8080/"
        },
        "id": "33SAEXbGFGG1",
        "outputId": "98ddc135-b6f8-45ff-a877-0b9fb5ac9410"
      },
      "execution_count": 17,
      "outputs": [
        {
          "output_type": "stream",
          "name": "stdout",
          "text": [
            "[263, 126, 207, 207, 133, 213, 222, 89, 210, 110, 205, 202, 215, 156, 198, 162, 212, 227, 100, 104, 163, 119, 98, 152, 182, 149, 119, 109, 107, 0, 135, 185, 149, 142, 123, 33, 108, 123, 111, 159, 107, 117, 184, 58, 145, 48, 127, 21, 137, 86, 64, 111, 71, 0, 122, 199, 79, 111, 115, 112, 17, 84, 0, 121, 79, 2, 55, 64, 32, 93, 80, 144, 58, 87, 65, 0, 85, 108, 74, 16, 65, 96, 6, 72, 99, 75, 125, 120, 148, 52, 97, 76, 89, 45, 107, 145, 105, 156, 143, 106, 110, 119, 91, 98, 166, 40, 135, 100, 108, 112, 113, 6, 106, 52, 32, 65, 102, 23, 58, 81, 117, 115, 12, 110, 116, 69, 44, 115, 96, 59, 126, 124, 122, 108, 80, 37, 90, 88, 0, 55, 121, 9, 2, 76, 29, 8, 113, 69, 71, 71, 76, 110, 81, 88, 0, 14, 121, 97, 38, 181, 143, 95, 107, 101, 115, 125, 74, 82, 91, 0, 0, 60, 92, 82, 102, 85, 70, 70, 80, 0, 20, 84, 72, 25, 96, 10, 68, 73, 0, 99, 129, 90, 133, 33, 50, 37, 3, 46, 125, 0, 46, 18, 50, 117, 71, 101, 15, 92, 41, 34, 60, 79, 6, 110, 17, 69, 84, 77, 21, 69, 78, 65, 72, 0, 48, 96, 82, 66, 20, 29, 72, 88, 14, 14, 26, 70, 2, 43, 10, 65, 57, 29, 27, 66, 100, 84, 87, 2, 3, 57, 53, 22, 79, 42, 13, 3, 110, 84, 7, 26, 5, 80, 55, 93, 102, 0, 14, 103, 4, 65, 6, 104, 0, 64, 71, 84, 90, 6, 90, 23, 0, 80, 26, 1, 78, 13, 31, 71, 70, 9, 120, 55, 107, 72, 77, 35, 54, 51, 41, 45, 8, 3, 0, 104, 1, 7, 11, 15, 42, 84, 98, 84, 9, 48, 29, 27, 88, 57, 2, 68, 0, 66, 19, 53, 37, 94, 27, 0, 8, 64, 71, 0, 18, 82, 58, 16, 20, 101, 3, 54, 6, 23, 6, 17, 101, 3, 15, 35, 11, 10, 100, 15, 119, 26, 34, 15, 24, 53, 0, 1, 2, 21, 64, 19, 1, 88, 0, 69, 109, 59, 4, 115, 0, 9, 94, 7, 80, 113, 0, 10, 41, 1, 24, 95, 0, 40, 95, 31, 17, 60, 92, 1, 44, 78, 1, 76, 78, 66, 7, 89, 24, 1, 79, 122, 56, 119, 84, 77, 9, 64, 47, 21, 53, 32, 1, 97, 51, 45, 44, 0, 45, 22, 86, 17, 1, 0, 1, 122, 54, 97, 101, 0, 109, 13, 50, 4, 79, 18, 98, 0, 38, 132, 111, 168, 99, 0, 106, 107, 1, 110, 99, 3, 0, 111, 74, 31, 63, 1, 29, 120, 72, 0, 30, 20, 21, 35, 108, 18, 87, 79, 0, 58, 17, 9, 22, 90, 39, 53, 6, 74, 96, 7, 0, 39, 11, 14, 57, 16, 0, 35, 77, 56, 58, 9, 64, 30, 3, 15, 2, 50, 12, 77, 89, 7, 88, 63, 89, 109, 47, 29, 0, 77, 80, 55, 18, 18, 65, 10, 36, 19, 0, 8, 48, 17, 7, 18, 64, 13, 65, 109, 107, 133, 172, 43, 23, 61, 3, 49, 5, 7, 0, 2, 0, 21, 8, 102, 15, 24, 75, 2, 40, 14, 1, 31, 52, 166, 4, 122, 76, 2, 15, 3, 135, 28, 9, 39, 163, 0, 145, 5, 34, 123, 43, 51, 0, 93, 38, 1, 47, 21, 5, 70, 0, 89, 27, 27, 14, 0, 46, 6, 19, 130, 3, 125, 76, 17, 21, 16, 32, 55, 88, 3, 99, 127, 127, 11, 2, 0, 45, 0, 18, 12, 2, 0, 19, 122, 73, 30, 82, 8, 167, 34, 34, 118, 121, 47, 116, 3, 4, 15, 99, 12, 5, 87, 155, 56, 24, 134, 54, 12, 46, 67, 0, 3, 21, 92, 23, 26, 102, 78, 113, 0, 1, 40, 6, 3, 1, 27, 106, 12, 0, 123, 13, 85, 1, 21, 0, 5, 17, 15, 13, 63, 114, 63, 45, 1, 20, 3, 0, 7, 0, 3, 73, 36, 0, 129, 116, 106, 104, 67, 1, 86, 0, 50, 7, 71, 42, 27, 2, 40, 16, 113, 40, 4, 1, 0, 82, 11, 2, 0, 41, 21, 84, 0, 1, 5, 1, 162, 10, 82, 160, 0, 0, 2, 188, 159, 66, 136, 48, 32, 0, 24, 3, 11, 0, 80, 124, 17, 0, 5, 0, 25, 3, 0, 9, 2, 6, 0, 4, 0, 24, 8, 2, 188, 57, 2, 24, 1, 6, 39, 14, 105, 87, 16, 49, 13, 44, 30, 5, 0, 21, 10, 28, 11, 0, 25, 7, 30, 24, 1, 0, 28, 30, 0, 15, 0, 12, 4, 25, 7, 116, 0, 20, 2, 0, 81, 40, 0, 12, 4, 9, 0, 0, 42, 0, 11, 0, 0, 22, 0, 16, 74, 3, 1, 29, 0, 75, 1, 51, 35, 5, 0, 0, 2, 6, 9, 110, 132, 11, 10, 40, 11, 13, 0, 45, 18, 3, 1, 1, 28, 76, 16, 2, 1, 14, 38, 1, 1, 0, 22, 8, 1, 76, 0, 60, 73, 79, 1, 2, 106, 5, 36, 198, 61, 2, 89, 2, 18, 21, 124, 52, 151, 275, 0, 105, 0, 0, 3, 0, 55, 0, 15, 2, 1, 12, 10, 18, 47, 266, 141, 10, 67, 43, 39, 6, 79, 33, 4, 2, 10, 95, 129, 11, 53, 77, 1, 49, 72, 36, 15, 25, 0, 1, 1, 0, 10, 0, 0, 65, 0, 1, 116, 10, 21, 0, 14, 129, 0, 38, 12, 0, 7, 8, 9, 3, 20, 5, 9, 3, 52, 6, 5, 1, 5, 100, 5, 8, 6, 13, 0, 0, 26, 18]\n",
            "Percentil 90: 119.0\n",
            "Cuartil 1: 7\n",
            "Cuartil 2: 38\n",
            "Cuartil 3: 87\n"
          ]
        }
      ]
    },
    {
      "cell_type": "code",
      "source": [
        "#Para la columna cantidad de veces que una lista dezzer\n",
        "in_deezer_playlists = df['in_deezer_playlists']  #obtengo la columna del csv\n",
        "\n",
        "# Para convertir la serie en una lista.\n",
        "lista_datos = in_deezer_playlists.tolist()\n",
        "\n",
        "print(lista_datos)\n",
        "#Percentil 90\n",
        "percentil_90 = calculoPercentil(lista_datos, 90)\n",
        "\n",
        "#Cuartiles 1,2,3 son los percentiles 25,50(mediana),75 respectivamente\n",
        "Q1 = calculoPercentil(lista_datos, 25)\n",
        "Q2 = calculoPercentil(lista_datos, 50)\n",
        "Q3 = calculoPercentil(lista_datos, 75)\n",
        "\n",
        "print(f\"Percentil 90: {percentil_90}\")\n",
        "\n",
        "print(f\"Cuartil 1: {Q1}\")\n",
        "print(f\"Cuartil 2: {Q2}\")\n",
        "print(f\"Cuartil 3: {Q3}\")"
      ],
      "metadata": {
        "colab": {
          "base_uri": "https://localhost:8080/"
        },
        "id": "f1GQy4ZvFdC7",
        "outputId": "f547418b-60e4-49ea-881a-11e55b855f86"
      },
      "execution_count": 18,
      "outputs": [
        {
          "output_type": "stream",
          "name": "stdout",
          "text": [
            "[45, 58, 91, 125, 87, 88, 43, 30, 48, 66, 54, 21, 745, 182, 863, 161, 78, 95, 54, 23, 10, 42, 582, 32, 87, 10, 318, 41, 15, 143, 50, 13, 245, 165, 184, 34, 24, 410, 151, 15, 6, 843, 537, 247, 65, 138, 458, 24, 2445, 74, 57, 213, 23, 109, 3394, 3421, 57, 161, 39, 142, 73, 102, 4, 182, 89, 4053, 32, 169, 31, 8, 58, 707, 109, 1056, 164, 4095, 68, 331, 80, 18, 1003, 71, 25, 5, 798, 110, 1800, 141, 2703, 8, 35, 24, 29, 0, 8, 69, 63, 42, 1632, 25, 163, 19, 59, 2394, 4, 6, 1034, 59, 327, 2163, 695, 0, 4, 6, 2655, 476, 145, 24, 47, 61, 8, 246, 38, 21, 4, 52, 6551, 1212, 1078, 32, 7, 15, 282, 254, 588, 31, 30, 1, 2094, 50, 2969, 26, 30, 3889, 26, 5, 99, 5239, 44, 4, 3, 8, 974, 66, 356, 12, 58, 3394, 95, 3, 10, 453, 3631, 113, 112, 435, 929, 939, 4607, 806, 885, 28, 2733, 3425, 8, 238, 1378, 1089, 226, 6808, 2, 6, 6807, 61, 790, 0, 266, 633, 2946, 4623, 21, 1, 139, 3, 19, 653, 19, 21, 11, 5108, 20, 15, 79, 9, 1, 5, 6, 21, 5, 25, 4, 2, 4, 20, 5, 107, 114, 53, 31, 38, 4, 34, 8, 9, 143, 5, 6, 45, 5, 51, 131, 330, 8, 48, 43, 43, 33, 38, 3, 43, 76, 63, 47, 1145, 154, 42, 657, 30, 6, 47, 3271, 56, 21, 158, 11, 27, 9, 10, 41, 30, 51, 53, 48, 30, 7, 6, 12, 9, 13, 28, 19, 147, 0, 4, 543, 5, 10, 1, 422, 127, 21, 22, 37, 36, 24, 27, 2, 16, 142, 5, 62, 32, 801, 5, 2, 110, 5567, 1005, 20, 11, 15, 18, 18, 147, 13, 11, 5, 5, 199, 88, 468, 46, 12, 2, 21, 66, 9, 43, 21, 50, 386, 55, 135, 181, 1509, 1992, 29, 0, 30, 64, 14, 7341, 39, 8, 5, 197, 0, 0, 18, 0, 48, 110, 0, 0, 0, 9, 34, 1, 20, 1, 58, 14, 12, 277, 150, 0, 7, 1, 6808, 71, 13, 80, 35, 21, 21, 580, 203, 73, 305, 18, 48, 218, 25, 0, 9, 56, 1, 85, 0, 0, 114, 49, 101, 11, 28, 21, 31, 212, 208, 87, 259, 12, 750, 2, 11, 335, 35, 212, 53, 65, 1959, 231, 2, 2726, 13, 77, 75, 1535, 3, 66, 690, 240, 134, 66, 50, 58, 12, 36, 183, 15, 27, 12, 164, 76, 676, 5, 17, 557, 34, 945, 26, 49, 182, 544, 463, 6, 175, 20, 4, 14, 1891, 2094, 1302, 206, 104, 549, 439, 160, 277, 500, 251, 10, 291, 310, 262, 1, 8, 390, 3, 73, 251, 29, 449, 4, 3, 5, 406, 1, 17, 123, 6, 212, 2, 1, 0, 141, 158, 286, 7, 14, 43, 10, 18, 41, 3, 2, 30, 14, 44, 22, 22, 30, 128, 2, 37, 52, 65, 1, 6, 57, 575, 133, 34, 70, 62, 465, 44, 965, 15, 14, 396, 61, 38, 461, 7, 14, 497, 9, 150, 738, 262, 6, 20, 11, 298, 75, 964, 139, 53, 131, 268, 283, 284, 134, 118, 485, 81, 30, 6, 199, 12, 2, 107, 57, 104, 93, 35, 133, 268, 57, 76, 90, 2, 85, 612, 525, 15, 394, 59, 73, 116, 70, 223, 43, 100, 141, 583, 159, 447, 21, 70, 569, 45, 187, 54, 507, 12, 3, 74, 121, 182, 384, 5, 11, 636, 8, 24, 32, 105, 105, 73, 625, 52, 6280, 100, 154, 99, 259, 582, 95, 434, 89, 44, 210, 1219, 201, 50, 44, 250, 38, 478, 38, 5, 862, 318, 1282, 344, 86, 39, 8, 3595, 710, 131, 4534, 12367, 584, 96, 0, 23, 63, 5063, 10, 67, 179, 2854, 17, 110, 74, 710, 78, 2515, 1066, 0, 3, 65, 93, 70, 15, 175, 6591, 20, 102, 34, 5451, 85, 30, 31, 587, 5221, 51, 113, 7, 65, 102, 80, 2, 10, 12, 1663, 1674, 50, 91, 1481, 4180, 398, 62, 40, 42, 39, 15, 14, 24, 64, 46, 28, 3895, 266, 6, 93, 66, 26, 138, 29, 1785, 55, 519, 100, 1197, 51, 492, 53, 180, 31, 0, 58, 99, 0, 13, 35, 24, 13, 7, 32, 14, 19, 43, 15, 5691, 267, 531, 6284, 70, 12, 11, 2692, 2179, 10, 6508, 50, 137, 19, 43, 32, 44, 31, 250, 13, 30, 7, 577, 52, 32, 39, 11, 15, 4, 12, 4, 52, 49, 254, 60, 31, 20, 1370, 13, 200, 8215, 46, 30, 7, 2453, 2430, 65, 272, 32, 24, 13, 12, 22, 11, 33, 43, 22, 23, 18, 13, 13, 11, 6, 8, 9, 13, 5, 10, 7, 9, 34, 12, 14, 355, 3, 8, 150, 3, 23, 87, 0, 173, 4, 46, 10, 4, 23, 4, 18, 7, 3, 3, 2, 9, 119, 3, 17, 14, 19, 9, 15, 32, 11, 582, 30, 5, 15, 25, 24, 26, 17, 66, 79, 12, 40, 93, 29, 119, 6, 39, 31, 44, 79, 900, 17, 31, 15, 19, 301, 18, 28, 15, 365, 270, 23, 86, 2, 107, 142, 65, 8, 30, 0, 0, 1, 406, 259, 38, 61, 26, 15, 14, 24, 11, 6720, 150, 63, 25, 2, 54, 57, 22, 128, 24, 20, 33, 50, 15, 18, 12, 36, 78, 9, 16, 195, 3, 1315, 124, 4, 6, 248, 65, 177, 84, 11, 274, 113, 15, 67, 23, 107, 25, 13, 7827, 805, 8, 6, 0, 13, 2, 24, 328, 9, 13, 9, 119, 15, 158, 80, 13, 31, 13, 12, 30, 15, 17, 16, 12, 7, 13, 17, 15, 10, 13, 8, 7, 3, 15, 2, 5, 11, 37, 8, 7, 17, 32]\n",
            "Percentil 90: 749.0000000000003\n",
            "Cuartil 1: 13\n",
            "Cuartil 2: 44\n",
            "Cuartil 3: 164\n"
          ]
        }
      ]
    },
    {
      "cell_type": "code",
      "source": [
        "#Para la columna ranking den deezer\n",
        "in_deezer_charts = df['in_deezer_charts']  #obtengo la columna del csv\n",
        "\n",
        "# Para convertir la serie en una lista.\n",
        "lista_datos = in_deezer_charts.tolist()\n",
        "\n",
        "print(lista_datos)\n",
        "#Percentil 90\n",
        "percentil_90 = calculoPercentil(lista_datos, 90)\n",
        "\n",
        "#Cuartiles 1,2,3 son los percentiles 25,50(mediana),75 respectivamente\n",
        "Q1 = calculoPercentil(lista_datos, 25)\n",
        "Q2 = calculoPercentil(lista_datos, 50)\n",
        "Q3 = calculoPercentil(lista_datos, 75)\n",
        "\n",
        "print(f\"Percentil 90: {percentil_90}\")\n",
        "\n",
        "print(f\"Cuartil 1: {Q1}\")\n",
        "print(f\"Cuartil 2: {Q2}\")\n",
        "print(f\"Cuartil 3: {Q3}\")"
      ],
      "metadata": {
        "colab": {
          "base_uri": "https://localhost:8080/"
        },
        "id": "mGhrPMJ-Gyn4",
        "outputId": "104beba0-0fe2-488f-87da-6d0651fab5f2"
      },
      "execution_count": 19,
      "outputs": [
        {
          "output_type": "stream",
          "name": "stdout",
          "text": [
            "[10, 14, 14, 12, 15, 17, 13, 13, 11, 13, 12, 5, 58, 24, 46, 12, 6, 24, 14, 2, 4, 1, 2, 11, 14, 5, 38, 14, 1, 38, 1, 8, 23, 9, 18, 7, 9, 2, 4, 6, 3, 4, 45, 1, 16, 1, 37, 0, 1, 1, 10, 11, 10, 17, 19, 20, 1, 15, 6, 4, 4, 14, 0, 12, 11, 5, 0, 8, 1, 2, 3, 28, 18, 1, 14, 9, 1, 26, 14, 4, 1, 0, 2, 0, 31, 11, 0, 26, 22, 0, 0, 0, 5, 0, 0, 2, 1, 1, 3, 4, 0, 2, 3, 5, 4, 6, 37, 1, 17, 5, 0, 0, 2, 1, 0, 0, 18, 3, 8, 1, 1, 9, 8, 9, 3, 4, 2, 12, 2, 5, 0, 1, 3, 29, 1, 0, 1, 0, 0, 0, 10, 1, 2, 5, 3, 0, 13, 0, 1, 2, 1, 2, 1, 3, 0, 5, 1, 11, 0, 0, 6, 0, 0, 0, 0, 6, 0, 1, 1, 0, 0, 1, 1, 4, 1, 1, 9, 2, 24, 7, 0, 1, 5, 0, 2, 0, 1, 3, 0, 1, 7, 0, 14, 0, 0, 0, 0, 8, 1, 6, 1, 1, 11, 5, 0, 0, 0, 2, 0, 1, 1, 0, 1, 0, 0, 3, 18, 10, 0, 0, 1, 5, 3, 0, 0, 0, 0, 5, 0, 1, 16, 26, 2, 2, 5, 0, 0, 10, 0, 6, 2, 4, 0, 2, 20, 0, 22, 1, 0, 1, 1, 4, 1, 3, 0, 0, 0, 2, 1, 6, 0, 8, 0, 0, 0, 0, 2, 0, 0, 0, 0, 11, 0, 2, 18, 1, 0, 1, 15, 3, 0, 9, 5, 1, 0, 0, 1, 1, 0, 0, 0, 3, 1, 0, 1, 19, 1, 0, 0, 2, 0, 1, 0, 18, 0, 0, 1, 0, 16, 1, 3, 16, 0, 1, 0, 9, 0, 8, 0, 0, 0, 1, 0, 0, 0, 0, 1, 0, 2, 6, 0, 0, 2, 0, 0, 3, 0, 0, 0, 0, 0, 0, 0, 0, 0, 0, 2, 0, 0, 0, 13, 3, 2, 3, 4, 0, 1, 0, 2, 2, 0, 15, 6, 3, 0, 21, 0, 2, 3, 5, 0, 1, 0, 0, 0, 3, 0, 9, 0, 0, 1, 0, 7, 0, 13, 1, 0, 1, 0, 12, 0, 4, 22, 0, 0, 0, 0, 13, 2, 0, 0, 0, 0, 6, 0, 1, 0, 3, 0, 1, 0, 1, 1, 2, 0, 0, 0, 16, 1, 0, 0, 0, 4, 9, 3, 0, 0, 17, 0, 15, 0, 0, 1, 0, 4, 0, 0, 0, 0, 0, 1, 0, 0, 0, 0, 0, 0, 0, 0, 0, 0, 0, 0, 0, 0, 0, 0, 0, 0, 0, 0, 0, 0, 0, 0, 0, 0, 0, 0, 0, 0, 0, 0, 0, 0, 0, 0, 0, 1, 0, 0, 0, 0, 0, 0, 0, 0, 0, 0, 2, 2, 0, 7, 0, 3, 0, 0, 0, 0, 3, 18, 0, 0, 16, 0, 0, 0, 20, 0, 0, 0, 0, 0, 1, 0, 0, 0, 0, 0, 0, 14, 0, 0, 0, 0, 0, 9, 0, 6, 0, 0, 0, 2, 0, 0, 0, 0, 1, 0, 0, 0, 0, 0, 1, 0, 0, 0, 0, 6, 0, 0, 0, 0, 5, 6, 9, 1, 0, 0, 13, 0, 0, 0, 0, 0, 0, 0, 0, 0, 0, 1, 0, 0, 1, 0, 6, 0, 0, 0, 0, 1, 0, 0, 0, 0, 0, 0, 1, 0, 0, 12, 0, 0, 2, 1, 0, 0, 0, 0, 0, 3, 0, 0, 0, 0, 0, 0, 0, 0, 0, 0, 0, 0, 0, 0, 0, 0, 0, 0, 2, 6, 0, 0, 2, 4, 1, 0, 0, 0, 0, 2, 0, 1, 0, 6, 0, 0, 0, 0, 0, 1, 1, 0, 0, 0, 0, 1, 0, 5, 1, 0, 0, 0, 1, 1, 0, 0, 0, 1, 0, 1, 0, 0, 0, 0, 0, 0, 0, 0, 0, 1, 0, 0, 0, 0, 0, 0, 12, 0, 0, 0, 0, 0, 13, 0, 0, 0, 0, 1, 0, 0, 0, 0, 1, 0, 2, 0, 0, 11, 9, 1, 1, 1, 0, 0, 1, 0, 0, 1, 0, 1, 0, 7, 0, 0, 0, 0, 8, 0, 1, 1, 0, 0, 0, 3, 0, 0, 1, 0, 15, 0, 1, 0, 0, 0, 3, 0, 0, 0, 0, 0, 0, 0, 0, 0, 0, 0, 0, 0, 0, 0, 0, 0, 0, 2, 0, 0, 0, 0, 0, 0, 0, 0, 0, 21, 0, 0, 1, 0, 0, 0, 0, 0, 1, 0, 1, 0, 1, 0, 0, 0, 0, 0, 0, 0, 0, 0, 1, 0, 0, 7, 0, 0, 0, 0, 0, 1, 0, 11, 0, 0, 0, 0, 0, 0, 0, 0, 0, 0, 0, 0, 1, 0, 0, 0, 0, 0, 0, 0, 1, 0, 0, 0, 0, 0, 1, 0, 0, 0, 0, 0, 0, 0, 0, 0, 0, 0, 0, 1, 0, 0, 0, 0, 0, 0, 1, 0, 0, 0, 0, 2, 0, 1, 0, 1, 0, 0, 0, 0, 0, 0, 0, 1, 14, 2, 0, 0, 1, 0, 1, 0, 3, 3, 0, 0, 0, 0, 0, 0, 0, 0, 0, 0, 0, 0, 0, 0, 0, 0, 0, 0, 0, 1, 0, 1, 2, 1, 1, 1, 4, 9, 0, 0, 12, 1, 11, 2, 1, 1, 0, 1, 0, 0, 0, 0, 1, 0, 0, 1, 0, 0, 0, 0, 0, 2, 0, 0, 0, 0, 2, 0, 0, 0, 0, 0, 0, 0, 0, 0, 0, 0, 0, 0, 0, 1, 0, 0, 0, 1, 0, 0, 0, 1]\n",
            "Percentil 90: 9.800000000000068\n",
            "Cuartil 1: 0\n",
            "Cuartil 2: 0\n",
            "Cuartil 3: 2\n"
          ]
        }
      ]
    },
    {
      "cell_type": "code",
      "source": [
        "#Para la columna ranking en shazam\n",
        "in_shazam_charts = df['in_shazam_charts']  #obtengo la columna del csv\n",
        "\n",
        "# Para convertir la serie en una lista.\n",
        "lista_datos = in_shazam_charts.tolist()\n",
        "\n",
        "print(lista_datos)\n",
        "#Percentil 90\n",
        "percentil_90 = calculoPercentil(lista_datos, 90)\n",
        "\n",
        "#Cuartiles 1,2,3 son los percentiles 25,50(mediana),75 respectivamente\n",
        "Q1 = calculoPercentil(lista_datos, 25)\n",
        "Q2 = calculoPercentil(lista_datos, 50)\n",
        "Q3 = calculoPercentil(lista_datos, 75)\n",
        "\n",
        "print(f\"Percentil 90: {percentil_90}\")\n",
        "\n",
        "print(f\"Cuartil 1: {Q1}\")\n",
        "print(f\"Cuartil 2: {Q2}\")\n",
        "print(f\"Cuartil 3: {Q3}\")"
      ],
      "metadata": {
        "colab": {
          "base_uri": "https://localhost:8080/"
        },
        "id": "kdc6rFA-G-Wk",
        "outputId": "aeb46626-d248-48d0-d977-73dff2f4b249"
      },
      "execution_count": 20,
      "outputs": [
        {
          "output_type": "stream",
          "name": "stdout",
          "text": [
            "[826, 382, 949, 548, 425, 946, 418, 194, 953, 339, 251, 168, 1021, 1281, 0, 187, 0, 1173, 187, 29, 0, 150, 73, 139, 1093, 168, 96, 211, 325, 0, 294, 197, 27, 310, 354, 184, 212, 81, 82, 100, 62, 69, 727, 311, 1133, 102, 332, 259, 140, 16, 110, 810, 176, 0, 0, 0, 615, 210, 216, 215, 167, 37, 0, 171, 16, 0, 272, 529, 26, 5, 169, 0, 230, 0, 176, 0, 84, 154, 194, 93, 0, 115, 72, 8, 0, 323, 0, 49, 1451, 1170, 429, 162, 82, 10, 0, 478, 0, 236, 200, 78, 5, 266, 486, 204, 34, 202, 312, 32, 153, 519, 458, 48, 184, 0, 666, 14, 925, 88, 203, 44, 74, 638, 64, 71, 2, 3, 0, 0, 136, 88, 148, 22, 368, 22, 1, 189, 176, 52, 0, 9, 31, 66, 66, 0, 208, 1, 28, 558, 195, 13, 93, 60, 503, 72, 0, 56, 34, 153, 0, 0, 15, 454, 26, 40, 200, 285, 129, 162, 58, 0, 0, 44, 26, 13, 117, 47, 20, 1, 0, 0, 0, 30, 80, 263, 116, 57, 39, 37, 0, 0, 111, 7, 166, 1, 19, 167, 0, 99, 51, 0, 10, 0, 31, 3, 31, 73, 0, 26, 19, 171, 109, 42, 33, 69, 0, 675, 348, 8, 0, 36, 1, 3, 14, 0, 240, 56, 113, 6, 1, 29, 29, 23, 4, 3, 44, 182, 1, 1, 0, 2, 49, 54, 0, 0, 438, 23, 9, 11, 0, 33, 17, 84, 54, 31, 1, 50, 49, 9, 29, 0, 20, 4, 6, 320, 55, 0, 33, 55, 4, 0, 5, 20, 0, 37, 0, 4, 64, 18, 55, 16, 0, 38, 1, 37, 30, 43, 0, 9, 27, 0, 2, 0, 105, 5, 1, 0, 51, 0, 1, 24, 6, 1, 33, 63, 0, 78, 2, 1, 58, 28, 10, 117, 52, 9, 0, 444, 14, 85, 0, 22, 0, 16, 6, 10, 13, 18, 1, 0, 0, 3, 9, 0, 0, 9, 21, 165, 0, 66, 19, 103, 150, 8, 23, 0, 48, 0, 47, 0, 21, 1, 2, 1, 7, 734, 19, 0, 7, 61, 0, 0, 4, 38, 0, 4, 1, 10, 2, 6, 5, 52, 0, 221, 0, 0, 23, 1, 8, 2, 0, 0, 59, 9, 451, 3, 0, 15, 2, 41, 192, 124, 1, 3, 0, 0, 8, 0, 21, 1, 0, 25, 30, 2, 0, 0, 13, 13, 35, 8, 0, 4, 0, 52, 32, 0, 0, 154, 0, 0, 11, 1, 1, 2, 0, 2, 0, 0, 2, 58, 2, 0, 0, 0, 10, 60, 0, 0, 168, 1, 0, 0, 0, 0, 0, 0, 0, 0, 0, 1, 0, 0, 0, 0, 0, 0, 0, 0, 0, 0, 0, 0, 0, 0, 0, 0, 0, 0, 0, 0, 46, 0, 0, 0, 0, 0, 0, 0, 0, 0, 9, 2, 0, 0, 24, 0, 0, 0, 11, 0, 0, 0, 0, 0, 0, 0, 36, 1, 0, 0, 2, 1, 0, 0, 3, 6, 0, 11, 0, 0, 0, 0, 0, 1, 0, 0, 0, 0, 12, 0, 0, 0, 0, 0, 0, 0, 4, 1, 75, 40, 0, 0, 5, 0, 0, 0, 0, 0, 0, 2, 0, 0, 0, 0, 0, 0, 10, 30, 1, 1, 16, 0, 0, 1, 0, 28, 0, 25, 3, 2, 16, 1, 0, 3, 5, 0, 4, 46, 0, 0, 46, 0, 2, 10, 3, 21, 0, 4, 0, 0, 0, 13, 0, 3, 0, 0, 0, 0, 4, 0, 45, 0, 0, 25, 1, 78, 1, 22, 7, 13, 14, 2, 13, 0, 2, 37, 62, 1, 0, 0, 0, 0, 7, 0, 6, 0, 1, 55, 0, 0, 5, 0, 0, 5, 0, 77, 160, 0, 3, 0, 0, 2, 120, 0, 0, 12, 121, 0, 70, 2, 18, 0, 0, 19, 0, 0, 0, 0, 0, 0, 29, 0, 1, 2, 0, 953, 1, 0, 0, 4, 35, 12, 3, 4, 6, 1, 12, 0, 0, 0, 0, 3, 7, 24, 5, 0, 1, 0, 0, 6, 0, 4, 0, 0, 0, 4, 1, 28, 0, 8, 0, 0, 0, 2, 0, 8, 1, 5, 0, 43, 0, 35, 2, 4, 1, 0, 0, 1, 5, 0, 0, 0, 1, 9, 11, 0, 0, 7, 1, 17, 7, 1, 46, 0, 10, 14, 30, 44, 0, 0, 3, 12, 0, 0, 0, 14, 0, 10, 1, 0, 0, 6, 0, 10, 0, 0, 1, 0, 15, 1, 1, 0, 8, 0, 0, 0, 71, 1, 2, 0, 1, 0, 0, 84, 36, 206, 24, 0, 5, 1, 51, 0, 0, 0, 0, 0, 0, 0, 1, 1, 0, 0, 0, 0, 33, 0, 0, 0, 0, 0, 0, 1, 0, 0, 0, 0, 0, 0, 210, 0, 3, 0, 1, 0, 0, 0, 0, 0, 0, 0, 0, 0, 5, 18, 0, 0, 0, 2, 0, 0, 0, 1, 0, 0, 0, 2, 1, 1, 0, 3, 1, 0, 0, 0, 17, 0, 0, 0, 0, 1, 0, 208, 0, 1, 0, 0, 0, 33, 0, 0, 0, 114, 105, 0, 9, 0, 0, 5, 1, 1, 0, 7, 6, 0, 0, 2, 0, 11, 1, 4, 2, 0, 0, 99, 128, 353, 2, 0, 0, 0, 0, 101, 30, 0, 0, 0, 0, 0, 0, 0, 141, 1, 4, 0, 0, 2, 0, 0, 0, 6, 3, 73, 202, 12, 0, 0, 2, 1, 2, 7, 0, 0, 0, 0, 0, 0, 0, 1, 0, 0, 198, 0, 0, 11, 40, 4, 68, 37, 1, 0, 3, 28, 0, 0, 1, 0, 0, 0, 0, 3, 0, 95, 2, 0, 0, 0, 27, 0, 0, 0, 0, 0, 0, 0, 0]\n",
            "Percentil 90: 167.0\n",
            "Cuartil 1: 0\n",
            "Cuartil 2: 2\n",
            "Cuartil 3: 33\n"
          ]
        }
      ]
    },
    {
      "cell_type": "code",
      "source": [
        "#Para la columna BPM beats por minuto\n",
        "bpm = df['bpm']  #obtengo la columna del csv\n",
        "\n",
        "# Para convertir la serie en una lista.\n",
        "lista_datos = bpm.tolist()\n",
        "\n",
        "print(lista_datos)\n",
        "#Percentil 90\n",
        "percentil_90 = calculoPercentil(lista_datos, 90)\n",
        "\n",
        "#Cuartiles 1,2,3 son los percentiles 25,50(mediana),75 respectivamente\n",
        "Q1 = calculoPercentil(lista_datos, 25)\n",
        "Q2 = calculoPercentil(lista_datos, 50)\n",
        "Q3 = calculoPercentil(lista_datos, 75)\n",
        "\n",
        "print(f\"Percentil 90: {percentil_90}\")\n",
        "\n",
        "print(f\"Cuartil 1: {Q1}\")\n",
        "print(f\"Cuartil 2: {Q2}\")\n",
        "print(f\"Cuartil 3: {Q3}\")"
      ],
      "metadata": {
        "colab": {
          "base_uri": "https://localhost:8080/"
        },
        "id": "2MRgTpYnHIDy",
        "outputId": "f87fb5e6-7d79-4f9d-bdbe-f020ec25a3b4"
      },
      "execution_count": 21,
      "outputs": [
        {
          "output_type": "stream",
          "name": "stdout",
          "text": [
            "[125, 92, 138, 170, 144, 141, 148, 100, 130, 170, 83, 150, 118, 130, 174, 89, 120, 78, 100, 120, 140, 123, 135, 133, 99, 130, 107, 122, 204, 110, 126, 168, 98, 97, 180, 120, 150, 96, 95, 125, 144, 90, 128, 79, 144, 122, 140, 134, 186, 67, 106, 128, 107, 130, 123, 171, 137, 125, 128, 130, 130, 133, 101, 95, 98, 173, 90, 198, 140, 82, 130, 81, 94, 124, 128, 138, 132, 131, 168, 98, 102, 101, 130, 142, 170, 124, 110, 92, 116, 129, 98, 172, 150, 136, 88, 143, 100, 143, 112, 93, 206, 88, 170, 84, 134, 158, 116, 117, 114, 108, 144, 130, 116, 121, 112, 100, 150, 120, 127, 90, 128, 143, 139, 162, 92, 95, 146, 95, 115, 128, 130, 127, 150, 122, 140, 140, 119, 110, 95, 132, 125, 124, 133, 112, 97, 90, 80, 172, 120, 140, 128, 122, 130, 160, 144, 192, 163, 122, 154, 117, 138, 96, 104, 164, 118, 81, 117, 174, 128, 145, 150, 90, 85, 180, 166, 160, 160, 92, 170, 96, 120, 98, 92, 150, 94, 90, 160, 120, 109, 129, 157, 130, 107, 146, 139, 116, 95, 170, 134, 84, 146, 74, 144, 136, 100, 105, 106, 132, 120, 155, 129, 135, 98, 124, 135, 107, 96, 123, 90, 117, 133, 96, 149, 110, 105, 105, 134, 170, 81, 154, 169, 115, 84, 93, 91, 142, 126, 97, 101, 98, 154, 120, 150, 174, 202, 153, 142, 108, 143, 108, 104, 93, 105, 170, 178, 176, 104, 85, 117, 80, 98, 178, 148, 120, 122, 144, 96, 137, 121, 119, 96, 111, 148, 182, 141, 145, 110, 134, 130, 145, 130, 173, 92, 105, 175, 120, 139, 132, 114, 145, 110, 94, 134, 120, 123, 131, 171, 130, 94, 89, 87, 124, 78, 120, 96, 106, 170, 134, 115, 130, 118, 110, 100, 142, 140, 116, 120, 92, 110, 120, 80, 115, 76, 172, 99, 136, 150, 92, 95, 102, 145, 110, 95, 94, 142, 145, 121, 140, 137, 104, 92, 146, 120, 144, 94, 94, 113, 148, 98, 140, 100, 140, 100, 100, 132, 142, 176, 140, 105, 135, 128, 101, 122, 105, 83, 77, 140, 158, 176, 98, 107, 109, 109, 148, 158, 94, 96, 100, 105, 125, 170, 115, 122, 105, 133, 100, 120, 177, 142, 144, 120, 135, 107, 105, 108, 147, 115, 174, 90, 141, 82, 92, 116, 124, 125, 90, 83, 124, 140, 154, 150, 186, 166, 107, 87, 82, 114, 148, 140, 101, 140, 88, 180, 133, 108, 80, 75, 121, 140, 126, 102, 82, 121, 103, 108, 85, 125, 120, 94, 130, 110, 150, 107, 140, 119, 93, 133, 202, 134, 105, 160, 148, 151, 162, 92, 152, 65, 147, 150, 140, 139, 95, 115, 125, 76, 101, 143, 119, 78, 96, 180, 126, 150, 90, 160, 114, 113, 147, 100, 155, 107, 112, 166, 107, 81, 150, 110, 108, 130, 164, 114, 93, 90, 128, 97, 152, 175, 116, 80, 93, 122, 122, 135, 109, 93, 125, 206, 130, 121, 123, 122, 143, 121, 166, 135, 87, 111, 110, 130, 179, 93, 78, 180, 86, 88, 97, 134, 116, 170, 140, 118, 65, 120, 176, 180, 144, 133, 93, 122, 88, 170, 94, 170, 90, 78, 94, 73, 176, 128, 120, 82, 95, 118, 123, 90, 110, 96, 88, 98, 110, 80, 110, 110, 78, 129, 181, 114, 144, 101, 84, 154, 148, 146, 120, 110, 136, 141, 108, 94, 180, 122, 85, 148, 120, 91, 120, 106, 110, 169, 118, 92, 112, 140, 105, 178, 108, 173, 101, 120, 144, 133, 158, 120, 129, 102, 124, 90, 161, 120, 81, 150, 105, 79, 146, 124, 126, 121, 136, 102, 77, 98, 84, 102, 120, 117, 72, 168, 94, 145, 134, 148, 127, 172, 90, 96, 138, 120, 125, 123, 81, 171, 91, 84, 115, 125, 122, 92, 90, 94, 93, 130, 180, 134, 95, 184, 147, 123, 123, 90, 160, 115, 141, 160, 145, 89, 95, 160, 174, 92, 134, 172, 80, 150, 80, 166, 120, 92, 85, 154, 92, 140, 89, 135, 140, 82, 79, 88, 139, 124, 80, 120, 80, 117, 117, 140, 99, 93, 106, 124, 95, 96, 92, 124, 72, 71, 135, 95, 71, 180, 150, 189, 85, 140, 81, 104, 129, 94, 71, 146, 103, 124, 164, 138, 126, 103, 95, 200, 129, 98, 107, 174, 92, 90, 147, 143, 101, 118, 98, 138, 114, 180, 145, 115, 82, 166, 92, 108, 84, 95, 135, 110, 88, 119, 120, 122, 98, 140, 116, 124, 105, 118, 108, 100, 140, 109, 101, 78, 93, 87, 153, 142, 96, 125, 85, 140, 196, 134, 103, 130, 108, 123, 152, 108, 72, 121, 138, 188, 110, 105, 118, 176, 158, 115, 110, 174, 130, 78, 104, 121, 105, 81, 170, 78, 125, 92, 140, 96, 118, 92, 140, 174, 127, 96, 150, 100, 105, 104, 154, 80, 150, 156, 98, 92, 144, 150, 138, 172, 77, 107, 114, 117, 146, 160, 120, 100, 158, 142, 170, 84, 139, 151, 128, 118, 183, 83, 122, 165, 106, 77, 91, 148, 114, 120, 92, 118, 123, 89, 110, 118, 90, 130, 154, 105, 115, 110, 125, 102, 120, 97, 140, 97, 125, 88, 170, 137, 157, 130, 90, 183, 128, 130, 126, 120, 130, 122, 172, 103, 122, 130, 105, 120, 145, 99, 88, 126, 136, 113, 132, 135, 126, 102, 125, 149, 137, 120, 100, 164, 93, 180, 79, 146, 103, 140, 92, 102, 118, 93, 150, 130, 83, 102, 136, 145, 130, 156, 123, 132, 125, 162, 138, 161, 131, 122, 80, 109, 158, 126, 104, 110, 130, 177, 158, 114, 144, 125, 142, 120, 96, 144, 166, 92, 97, 90]\n",
            "Percentil 90: 164.0\n",
            "Cuartil 1: 100\n",
            "Cuartil 2: 121\n",
            "Cuartil 3: 140\n"
          ]
        }
      ]
    },
    {
      "cell_type": "code",
      "source": [
        "#Para la columna que tan bailable es una cancion\n",
        "danceability = df['danceability_%']  #obtengo la columna del csv\n",
        "\n",
        "# Para convertir la serie en una lista.\n",
        "lista_datos = danceability.tolist()\n",
        "\n",
        "print(lista_datos)\n",
        "#Percentil 90\n",
        "percentil_90 = calculoPercentil(lista_datos, 90)\n",
        "\n",
        "#Cuartiles 1,2,3 son los percentiles 25,50(mediana),75 respectivamente\n",
        "Q1 = calculoPercentil(lista_datos, 25)\n",
        "Q2 = calculoPercentil(lista_datos, 50)\n",
        "Q3 = calculoPercentil(lista_datos, 75)\n",
        "\n",
        "print(f\"Percentil 90: {percentil_90}\")\n",
        "\n",
        "print(f\"Cuartil 1: {Q1}\")\n",
        "print(f\"Cuartil 2: {Q2}\")\n",
        "print(f\"Cuartil 3: {Q3}\")"
      ],
      "metadata": {
        "colab": {
          "base_uri": "https://localhost:8080/"
        },
        "id": "azXfqXgmHPui",
        "outputId": "e49064f7-d6d5-47f2-d5ce-30c91ba397b5"
      },
      "execution_count": 23,
      "outputs": [
        {
          "output_type": "stream",
          "name": "stdout",
          "text": [
            "[80, 71, 51, 55, 65, 92, 67, 67, 85, 81, 57, 78, 71, 51, 52, 64, 78, 44, 86, 63, 65, 69, 48, 85, 85, 79, 80, 81, 52, 67, 74, 56, 71, 64, 72, 81, 61, 75, 60, 79, 56, 76, 56, 56, 77, 67, 71, 59, 68, 53, 72, 60, 92, 67, 45, 50, 64, 84, 86, 61, 86, 70, 88, 77, 90, 43, 64, 59, 56, 51, 77, 76, 51, 61, 62, 49, 58, 71, 78, 68, 48, 34, 63, 50, 59, 78, 50, 91, 82, 63, 71, 74, 68, 62, 53, 83, 49, 56, 56, 62, 43, 68, 50, 62, 81, 54, 80, 61, 77, 61, 74, 51, 77, 65, 64, 70, 55, 84, 82, 51, 75, 64, 74, 49, 81, 87, 63, 55, 35, 78, 82, 80, 42, 78, 52, 63, 75, 76, 60, 56, 77, 84, 93, 92, 79, 59, 65, 45, 60, 74, 81, 78, 47, 69, 73, 50, 54, 66, 61, 73, 78, 86, 77, 45, 68, 68, 82, 45, 73, 60, 65, 60, 55, 33, 57, 71, 65, 70, 56, 83, 67, 70, 53, 34, 37, 74, 54, 70, 63, 57, 54, 63, 65, 50, 48, 74, 84, 62, 81, 57, 61, 53, 75, 77, 56, 89, 67, 85, 78, 82, 70, 80, 73, 84, 77, 78, 54, 71, 62, 72, 78, 74, 66, 66, 95, 80, 76, 71, 59, 63, 69, 78, 43, 79, 82, 82, 78, 73, 92, 80, 59, 91, 49, 47, 34, 56, 60, 84, 83, 67, 95, 84, 65, 44, 62, 50, 80, 70, 77, 52, 44, 79, 51, 77, 68, 74, 93, 77, 94, 60, 72, 87, 90, 57, 79, 76, 76, 70, 92, 84, 69, 59, 75, 56, 59, 80, 70, 59, 32, 54, 82, 89, 45, 62, 70, 77, 70, 80, 82, 73, 65, 72, 71, 70, 48, 73, 78, 67, 71, 74, 65, 59, 72, 70, 64, 90, 73, 76, 81, 71, 63, 95, 58, 60, 40, 36, 90, 71, 77, 83, 70, 50, 64, 68, 61, 59, 64, 66, 84, 56, 57, 74, 56, 68, 59, 73, 79, 50, 70, 58, 36, 86, 59, 59, 87, 49, 72, 53, 55, 81, 82, 74, 88, 76, 53, 72, 75, 65, 75, 73, 66, 66, 84, 53, 60, 74, 70, 80, 58, 53, 56, 70, 64, 88, 66, 79, 82, 25, 64, 57, 65, 92, 81, 82, 44, 51, 71, 70, 68, 41, 68, 47, 77, 79, 71, 80, 46, 79, 58, 64, 74, 41, 40, 87, 87, 40, 46, 47, 91, 90, 81, 49, 64, 95, 63, 39, 80, 67, 58, 81, 58, 70, 46, 70, 82, 65, 84, 69, 58, 65, 74, 34, 74, 70, 74, 35, 46, 24, 45, 72, 51, 50, 65, 67, 53, 65, 71, 33, 73, 67, 36, 75, 60, 62, 60, 72, 60, 51, 67, 23, 51, 34, 43, 53, 72, 59, 73, 67, 70, 49, 54, 80, 70, 69, 47, 79, 66, 64, 89, 70, 80, 63, 87, 45, 83, 69, 51, 61, 33, 63, 70, 70, 70, 60, 65, 85, 58, 76, 80, 74, 67, 53, 70, 56, 41, 49, 77, 75, 66, 61, 74, 27, 65, 28, 74, 68, 71, 75, 64, 83, 75, 31, 56, 29, 59, 59, 82, 63, 77, 53, 70, 46, 65, 79, 40, 57, 83, 73, 81, 58, 63, 77, 44, 75, 63, 73, 66, 56, 73, 72, 70, 86, 79, 77, 83, 44, 75, 74, 66, 67, 66, 59, 85, 77, 53, 77, 59, 46, 42, 35, 77, 59, 68, 83, 70, 72, 86, 63, 39, 80, 91, 45, 79, 73, 76, 96, 40, 67, 80, 73, 75, 46, 81, 61, 74, 79, 73, 78, 60, 45, 78, 76, 63, 52, 64, 53, 75, 80, 77, 73, 82, 44, 89, 42, 52, 45, 67, 52, 41, 71, 35, 60, 74, 75, 57, 74, 72, 70, 82, 79, 55, 77, 56, 90, 69, 80, 85, 63, 84, 81, 51, 35, 53, 92, 69, 47, 52, 91, 90, 61, 60, 37, 31, 57, 46, 84, 60, 67, 77, 93, 31, 76, 91, 78, 81, 67, 86, 74, 79, 73, 89, 65, 89, 51, 47, 78, 31, 44, 73, 39, 84, 56, 92, 76, 62, 68, 74, 44, 81, 76, 87, 81, 95, 64, 28, 78, 81, 59, 80, 65, 55, 72, 59, 77, 80, 42, 76, 41, 59, 69, 53, 70, 69, 67, 61, 75, 39, 86, 68, 91, 58, 45, 81, 60, 68, 76, 70, 83, 72, 59, 63, 56, 78, 79, 70, 86, 71, 71, 69, 93, 57, 89, 87, 58, 86, 78, 45, 79, 86, 91, 68, 61, 61, 81, 84, 78, 56, 79, 52, 55, 87, 85, 50, 71, 92, 66, 78, 80, 82, 65, 61, 84, 78, 56, 86, 57, 50, 80, 81, 63, 61, 83, 85, 51, 73, 91, 36, 44, 64, 83, 38, 37, 43, 88, 66, 84, 61, 66, 71, 49, 68, 77, 71, 82, 87, 73, 86, 54, 47, 53, 32, 76, 58, 47, 37, 70, 56, 72, 72, 51, 63, 69, 80, 88, 82, 60, 56, 80, 71, 58, 73, 82, 56, 65, 63, 85, 72, 83, 81, 57, 51, 71, 91, 83, 56, 60, 52, 81, 42, 68, 49, 70, 54, 70, 91, 51, 73, 81, 80, 44, 78, 45, 80, 56, 88, 88, 95, 85, 44, 58, 71, 63, 77, 72, 70, 74, 61, 55, 47, 81, 90, 56, 79, 79, 81, 77, 70, 82, 77, 67, 67, 68, 37, 74, 77, 90, 70, 65, 65, 34, 56, 37, 70, 81, 64, 82, 78, 70, 52, 65, 84, 73, 66, 57, 72, 57, 92, 49, 74, 80, 59, 91, 75, 80, 75, 84, 66, 73, 48, 77, 34, 48, 62, 93, 54, 85, 64, 57, 60, 42, 80, 82, 61]\n",
            "Percentil 90: 84.0\n",
            "Cuartil 1: 57\n",
            "Cuartil 2: 69\n",
            "Cuartil 3: 78\n"
          ]
        }
      ]
    },
    {
      "cell_type": "code",
      "source": [
        "#Para la columna el valance de una cancion\n",
        "valence = df['valence_%']  #obtengo la columna del csv\n",
        "\n",
        "# Para convertir la serie en una lista.\n",
        "lista_datos = valence.tolist()\n",
        "\n",
        "print(lista_datos)\n",
        "#Percentil 90\n",
        "percentil_90 = calculoPercentil(lista_datos, 90)\n",
        "\n",
        "#Cuartiles 1,2,3 son los percentiles 25,50(mediana),75 respectivamente\n",
        "Q1 = calculoPercentil(lista_datos, 25)\n",
        "Q2 = calculoPercentil(lista_datos, 50)\n",
        "Q3 = calculoPercentil(lista_datos, 75)\n",
        "\n",
        "print(f\"Percentil 90: {percentil_90}\")\n",
        "\n",
        "print(f\"Cuartil 1: {Q1}\")\n",
        "print(f\"Cuartil 2: {Q2}\")\n",
        "print(f\"Cuartil 3: {Q3}\")"
      ],
      "metadata": {
        "colab": {
          "base_uri": "https://localhost:8080/"
        },
        "id": "SfibsAHQHiBK",
        "outputId": "d5503342-f519-40a5-f566-0fd757c01d65"
      },
      "execution_count": 24,
      "outputs": [
        {
          "output_type": "stream",
          "name": "stdout",
          "text": [
            "[89, 61, 32, 58, 23, 66, 83, 26, 22, 56, 56, 52, 65, 32, 66, 43, 76, 14, 67, 36, 87, 82, 44, 81, 83, 96, 82, 74, 52, 78, 35, 63, 17, 51, 61, 63, 39, 57, 48, 96, 84, 91, 38, 58, 75, 49, 82, 51, 49, 50, 17, 23, 55, 96, 13, 38, 88, 85, 42, 53, 59, 86, 72, 53, 40, 28, 10, 71, 48, 22, 84, 53, 14, 41, 55, 42, 27, 24, 58, 40, 50, 32, 36, 20, 48, 70, 45, 43, 40, 84, 67, 76, 14, 19, 34, 69, 17, 39, 24, 57, 50, 17, 37, 24, 53, 50, 92, 45, 65, 47, 37, 18, 79, 49, 54, 47, 30, 96, 89, 42, 79, 31, 68, 78, 39, 57, 88, 56, 12, 59, 69, 74, 20, 50, 20, 22, 48, 96, 17, 20, 74, 65, 68, 67, 92, 52, 27, 33, 24, 96, 90, 70, 86, 61, 87, 85, 40, 48, 41, 31, 89, 74, 36, 24, 61, 51, 73, 10, 60, 43, 51, 13, 42, 38, 84, 40, 95, 81, 53, 93, 40, 37, 12, 24, 17, 36, 54, 59, 46, 41, 75, 49, 19, 67, 37, 76, 52, 55, 18, 86, 20, 24, 35, 79, 53, 67, 24, 53, 5, 51, 42, 85, 45, 64, 28, 39, 25, 58, 7, 45, 90, 61, 85, 32, 62, 69, 61, 59, 26, 75, 69, 64, 14, 58, 47, 54, 20, 10, 59, 23, 63, 63, 4, 27, 25, 42, 13, 55, 25, 55, 78, 96, 46, 27, 56, 44, 38, 83, 69, 57, 36, 58, 27, 94, 38, 75, 47, 35, 71, 10, 40, 53, 74, 80, 82, 80, 26, 35, 78, 88, 36, 69, 55, 57, 15, 33, 77, 56, 17, 19, 67, 61, 17, 32, 86, 84, 6, 64, 53, 44, 71, 79, 80, 70, 50, 22, 75, 11, 90, 79, 63, 22, 42, 76, 18, 96, 64, 46, 64, 57, 40, 43, 46, 77, 45, 12, 64, 41, 72, 58, 34, 24, 30, 81, 92, 20, 67, 43, 44, 72, 68, 51, 20, 83, 44, 65, 66, 49, 29, 26, 28, 68, 78, 49, 82, 48, 96, 51, 40, 97, 61, 43, 43, 49, 40, 59, 18, 72, 43, 88, 47, 16, 72, 61, 52, 64, 40, 29, 42, 32, 56, 84, 25, 82, 74, 60, 55, 17, 31, 47, 80, 73, 82, 62, 38, 62, 34, 57, 83, 9, 50, 25, 65, 59, 83, 71, 34, 68, 4, 61, 89, 9, 23, 20, 52, 39, 60, 15, 97, 76, 6, 24, 44, 91, 20, 24, 46, 26, 17, 59, 29, 31, 53, 92, 88, 36, 70, 40, 44, 49, 51, 33, 88, 85, 78, 38, 53, 76, 72, 33, 69, 96, 70, 88, 84, 35, 55, 39, 71, 81, 22, 74, 23, 59, 19, 91, 86, 51, 22, 19, 87, 35, 42, 47, 78, 60, 72, 69, 92, 42, 41, 15, 57, 96, 33, 77, 19, 4, 48, 39, 42, 93, 51, 35, 47, 94, 94, 48, 51, 34, 42, 91, 60, 45, 82, 64, 83, 44, 62, 35, 50, 50, 35, 68, 27, 49, 74, 85, 19, 76, 53, 10, 37, 13, 55, 72, 59, 36, 14, 40, 46, 31, 16, 12, 69, 21, 52, 21, 25, 55, 61, 55, 46, 79, 7, 36, 11, 79, 57, 44, 85, 40, 52, 93, 49, 14, 76, 58, 60, 67, 57, 31, 70, 49, 44, 22, 74, 39, 18, 78, 63, 72, 22, 51, 75, 82, 56, 23, 47, 41, 51, 33, 29, 59, 76, 54, 86, 31, 36, 21, 79, 19, 56, 52, 63, 71, 19, 40, 24, 66, 96, 62, 92, 59, 45, 79, 31, 65, 11, 12, 47, 58, 76, 7, 8, 66, 53, 33, 26, 54, 54, 22, 77, 33, 73, 27, 29, 68, 65, 14, 24, 40, 79, 19, 30, 65, 67, 65, 80, 44, 10, 60, 61, 74, 70, 62, 92, 75, 90, 53, 50, 23, 31, 31, 91, 50, 44, 49, 79, 65, 37, 17, 30, 23, 43, 49, 47, 74, 76, 61, 4, 92, 42, 53, 83, 8, 89, 61, 86, 37, 75, 60, 89, 66, 44, 58, 31, 18, 68, 45, 54, 19, 62, 77, 46, 57, 59, 8, 68, 96, 82, 40, 36, 76, 26, 55, 56, 70, 71, 11, 86, 55, 73, 68, 24, 33, 81, 23, 23, 90, 66, 71, 35, 37, 47, 64, 28, 75, 33, 32, 56, 27, 59, 58, 41, 63, 54, 63, 22, 30, 45, 41, 63, 48, 22, 91, 55, 63, 90, 77, 6, 59, 28, 71, 97, 83, 25, 87, 62, 73, 24, 20, 53, 39, 72, 40, 61, 22, 32, 50, 93, 41, 39, 43, 78, 58, 51, 45, 50, 52, 66, 74, 55, 56, 67, 71, 41, 26, 77, 60, 24, 41, 72, 48, 26, 91, 30, 74, 80, 32, 20, 14, 60, 28, 29, 61, 32, 83, 67, 50, 45, 53, 37, 82, 46, 59, 43, 45, 33, 14, 49, 79, 27, 7, 27, 31, 68, 70, 36, 39, 29, 63, 74, 15, 76, 68, 40, 77, 39, 30, 88, 42, 20, 88, 29, 42, 90, 90, 68, 30, 21, 90, 63, 56, 25, 46, 28, 61, 32, 54, 14, 97, 59, 87, 59, 5, 62, 72, 36, 41, 31, 67, 55, 52, 8, 52, 83, 80, 44, 68, 78, 56, 94, 18, 46, 46, 38, 46, 56, 70, 73, 43, 64, 66, 90, 71, 97, 49, 74, 49, 72, 80, 28, 71, 78, 75, 58, 79, 52, 22, 21, 17, 26, 48, 4, 75, 75, 26, 24, 24, 43, 65, 24, 24, 92, 50, 53, 13, 22, 82, 62, 23, 45, 16, 11, 33, 12, 25, 15, 20, 39, 55, 25, 62, 22, 40, 11, 55, 24, 7, 81, 67, 32]\n",
            "Percentil 90: 83.0\n",
            "Cuartil 1: 32\n",
            "Cuartil 2: 51\n",
            "Cuartil 3: 70\n"
          ]
        }
      ]
    },
    {
      "cell_type": "code",
      "source": [
        "#Para la columna la energia que transmite una cancion\n",
        "energy = df['energy_%']  #obtengo la columna del csv\n",
        "\n",
        "# Para convertir la serie en una lista.\n",
        "lista_datos = energy.tolist()\n",
        "\n",
        "print(lista_datos)\n",
        "#Percentil 90\n",
        "percentil_90 = calculoPercentil(lista_datos, 90)\n",
        "\n",
        "#Cuartiles 1,2,3 son los percentiles 25,50(mediana),75 respectivamente\n",
        "Q1 = calculoPercentil(lista_datos, 25)\n",
        "Q2 = calculoPercentil(lista_datos, 50)\n",
        "Q3 = calculoPercentil(lista_datos, 75)\n",
        "\n",
        "print(f\"Percentil 90: {percentil_90}\")\n",
        "\n",
        "print(f\"Cuartil 1: {Q1}\")\n",
        "print(f\"Cuartil 2: {Q2}\")\n",
        "print(f\"Cuartil 3: {Q3}\")"
      ],
      "metadata": {
        "colab": {
          "base_uri": "https://localhost:8080/"
        },
        "id": "iOQbNTUrHrwh",
        "outputId": "8cd65b42-b862-4584-84b1-41675dca385b"
      },
      "execution_count": 25,
      "outputs": [
        {
          "output_type": "stream",
          "name": "stdout",
          "text": [
            "[83, 74, 53, 72, 80, 58, 76, 71, 62, 48, 72, 82, 68, 43, 73, 73, 59, 9, 66, 73, 74, 76, 42, 67, 68, 86, 80, 71, 68, 85, 84, 87, 61, 63, 63, 68, 73, 68, 79, 85, 65, 50, 97, 56, 58, 64, 81, 52, 59, 53, 64, 91, 70, 88, 54, 80, 72, 68, 72, 58, 96, 81, 59, 64, 59, 66, 62, 42, 73, 53, 89, 53, 59, 81, 78, 62, 48, 47, 73, 79, 73, 57, 34, 64, 76, 68, 41, 71, 66, 82, 60, 76, 76, 53, 47, 44, 35, 55, 66, 59, 55, 71, 90, 67, 72, 40, 80, 69, 72, 68, 53, 44, 62, 78, 81, 52, 78, 71, 85, 61, 63, 87, 68, 64, 60, 55, 93, 82, 30, 65, 83, 77, 86, 63, 85, 54, 53, 72, 45, 55, 78, 50, 65, 66, 89, 48, 69, 59, 35, 80, 77, 81, 92, 71, 70, 52, 67, 71, 74, 69, 83, 80, 63, 62, 82, 60, 45, 37, 77, 27, 55, 53, 53, 71, 94, 50, 80, 63, 64, 65, 52, 54, 34, 56, 47, 63, 55, 75, 85, 66, 60, 73, 72, 89, 41, 70, 77, 80, 64, 90, 48, 67, 48, 73, 55, 78, 78, 68, 30, 39, 43, 74, 62, 39, 55, 53, 74, 70, 62, 59, 84, 83, 60, 40, 52, 78, 58, 56, 60, 92, 51, 69, 74, 62, 62, 44, 70, 44, 51, 48, 89, 58, 55, 78, 51, 52, 37, 47, 69, 67, 66, 79, 53, 32, 66, 76, 88, 84, 58, 48, 41, 78, 33, 66, 88, 73, 47, 88, 61, 57, 47, 52, 68, 59, 86, 81, 70, 41, 62, 53, 90, 53, 76, 87, 64, 70, 48, 82, 74, 48, 69, 66, 60, 76, 68, 71, 73, 76, 67, 57, 56, 78, 65, 79, 80, 86, 46, 76, 73, 87, 79, 38, 66, 79, 37, 73, 85, 79, 79, 97, 61, 69, 67, 78, 56, 57, 14, 31, 87, 83, 55, 86, 77, 82, 91, 74, 80, 76, 67, 85, 76, 45, 43, 81, 56, 79, 74, 76, 73, 38, 28, 79, 94, 65, 70, 67, 63, 70, 90, 77, 59, 69, 50, 56, 36, 76, 25, 95, 65, 57, 40, 57, 74, 81, 76, 73, 51, 67, 68, 66, 63, 90, 89, 80, 84, 68, 45, 30, 72, 84, 86, 51, 78, 74, 77, 79, 88, 64, 71, 25, 49, 43, 80, 86, 89, 69, 64, 79, 60, 91, 70, 61, 48, 83, 52, 64, 28, 52, 57, 81, 84, 66, 65, 89, 55, 43, 62, 64, 62, 90, 94, 34, 78, 83, 76, 47, 69, 39, 57, 80, 74, 63, 65, 41, 37, 23, 63, 60, 24, 51, 81, 82, 47, 54, 77, 65, 26, 61, 69, 36, 15, 58, 57, 43, 20, 87, 32, 66, 59, 25, 58, 76, 44, 74, 68, 94, 32, 72, 59, 77, 39, 54, 57, 36, 68, 46, 32, 40, 74, 56, 68, 88, 69, 68, 80, 71, 34, 55, 59, 86, 54, 79, 58, 47, 74, 81, 45, 77, 51, 73, 67, 79, 77, 66, 64, 59, 66, 84, 61, 51, 73, 49, 58, 41, 85, 78, 80, 76, 70, 55, 76, 24, 67, 33, 61, 43, 61, 52, 62, 73, 44, 50, 47, 70, 29, 58, 41, 86, 63, 60, 62, 47, 94, 86, 68, 57, 82, 55, 85, 68, 49, 53, 36, 42, 62, 60, 77, 65, 68, 63, 69, 62, 37, 79, 69, 30, 63, 48, 36, 94, 79, 52, 73, 73, 72, 71, 79, 35, 45, 55, 66, 60, 91, 76, 77, 42, 29, 90, 62, 80, 61, 83, 90, 46, 89, 84, 45, 52, 33, 57, 70, 84, 67, 61, 37, 85, 74, 60, 63, 74, 59, 48, 82, 26, 91, 33, 47, 69, 88, 61, 93, 89, 66, 46, 40, 67, 72, 74, 86, 54, 85, 32, 76, 54, 89, 69, 54, 75, 70, 78, 76, 61, 31, 89, 63, 80, 60, 61, 71, 64, 71, 67, 88, 66, 43, 72, 62, 75, 84, 74, 86, 62, 60, 74, 75, 54, 79, 52, 52, 74, 70, 60, 86, 53, 76, 45, 63, 38, 83, 55, 51, 46, 86, 52, 73, 77, 87, 20, 63, 70, 53, 73, 37, 44, 20, 57, 70, 74, 68, 58, 44, 64, 45, 70, 65, 44, 80, 40, 46, 88, 78, 58, 57, 46, 65, 52, 77, 52, 43, 56, 83, 67, 83, 69, 55, 71, 71, 74, 46, 62, 64, 57, 64, 84, 61, 79, 44, 45, 91, 45, 27, 64, 50, 80, 80, 75, 84, 81, 49, 72, 58, 38, 38, 66, 74, 74, 90, 55, 83, 78, 59, 43, 78, 65, 57, 79, 43, 62, 67, 69, 71, 69, 60, 47, 65, 82, 50, 85, 79, 70, 62, 65, 58, 82, 54, 96, 54, 42, 88, 82, 66, 24, 38, 66, 65, 42, 90, 43, 60, 37, 71, 78, 52, 66, 60, 81, 62, 79, 83, 43, 72, 81, 36, 50, 56, 44, 89, 82, 72, 29, 51, 45, 60, 56, 70, 84, 54, 85, 86, 46, 67, 75, 54, 72, 62, 80, 48, 64, 58, 89, 63, 81, 77, 82, 45, 71, 48, 93, 20, 76, 40, 62, 83, 88, 82, 68, 75, 65, 86, 92, 72, 90, 56, 64, 49, 69, 57, 83, 67, 91, 40, 43, 87, 46, 76, 58, 62, 64, 90, 65, 51, 53, 59, 65, 73, 75, 59, 88, 74, 77, 74, 92, 66, 89, 91, 50, 57, 66, 80, 31, 44, 27, 76, 70, 60, 85, 62, 56, 60, 53, 75, 91, 58, 37, 77, 85, 62, 74, 67, 81, 60, 55, 63, 28, 50, 36, 35, 61, 31, 70, 16, 84, 44, 61, 76, 43, 53, 74, 39, 24, 67, 77, 67]\n",
            "Percentil 90: 85.0\n",
            "Cuartil 1: 53\n",
            "Cuartil 2: 66\n",
            "Cuartil 3: 77\n"
          ]
        }
      ]
    },
    {
      "cell_type": "code",
      "source": [
        "#Para la columna la acustica en una cancion\n",
        "acousticness = df['acousticness_%']  #obtengo la columna del csv\n",
        "\n",
        "# Para convertir la serie en una lista.\n",
        "lista_datos = acousticness.tolist()\n",
        "\n",
        "print(lista_datos)\n",
        "#Percentil 90\n",
        "percentil_90 = calculoPercentil(lista_datos, 90)\n",
        "\n",
        "#Cuartiles 1,2,3 son los percentiles 25,50(mediana),75 respectivamente\n",
        "Q1 = calculoPercentil(lista_datos, 25)\n",
        "Q2 = calculoPercentil(lista_datos, 50)\n",
        "Q3 = calculoPercentil(lista_datos, 75)\n",
        "\n",
        "print(f\"Percentil 90: {percentil_90}\")\n",
        "\n",
        "print(f\"Cuartil 1: {Q1}\")\n",
        "print(f\"Cuartil 2: {Q2}\")\n",
        "print(f\"Cuartil 3: {Q3}\")"
      ],
      "metadata": {
        "colab": {
          "base_uri": "https://localhost:8080/"
        },
        "id": "zCrkceuaHx-E",
        "outputId": "9487454a-6ca4-4ca3-ed6e-a1771c9ad65b"
      },
      "execution_count": 26,
      "outputs": [
        {
          "output_type": "stream",
          "name": "stdout",
          "text": [
            "[31, 7, 17, 11, 14, 19, 48, 37, 12, 21, 23, 18, 6, 83, 34, 5, 43, 96, 14, 0, 22, 6, 12, 26, 7, 9, 43, 14, 46, 2, 0, 39, 36, 12, 67, 11, 37, 9, 0, 27, 23, 54, 4, 37, 52, 10, 11, 9, 16, 23, 7, 0, 18, 12, 70, 0, 51, 58, 59, 55, 50, 25, 62, 74, 0, 0, 7, 55, 0, 1, 17, 44, 65, 5, 1, 9, 50, 1, 5, 33, 43, 78, 76, 1, 4, 3, 75, 9, 39, 70, 19, 6, 4, 11, 9, 15, 71, 14, 7, 3, 50, 15, 0, 21, 51, 61, 4, 2, 2, 0, 7, 76, 33, 0, 36, 30, 24, 18, 4, 53, 33, 4, 3, 19, 31, 10, 3, 12, 93, 10, 3, 36, 21, 27, 0, 46, 18, 32, 16, 45, 4, 67, 42, 0, 5, 38, 8, 6, 73, 18, 1, 57, 8, 33, 6, 11, 0, 6, 21, 6, 10, 33, 1, 8, 2, 3, 54, 97, 3, 94, 73, 4, 17, 20, 11, 16, 5, 4, 11, 58, 86, 6, 1, 4, 2, 26, 67, 24, 1, 63, 30, 5, 10, 0, 32, 7, 12, 15, 3, 2, 21, 11, 84, 15, 53, 9, 15, 40, 21, 2, 78, 62, 28, 3, 18, 30, 14, 30, 6, 14, 31, 11, 40, 81, 3, 28, 6, 4, 46, 31, 63, 4, 1, 11, 10, 6, 1, 26, 41, 14, 18, 52, 7, 11, 69, 5, 58, 26, 4, 60, 3, 43, 16, 89, 18, 10, 11, 31, 39, 86, 50, 34, 48, 65, 1, 42, 33, 16, 12, 1, 71, 66, 14, 8, 28, 19, 1, 41, 18, 35, 1, 12, 25, 0, 43, 22, 37, 12, 14, 36, 0, 17, 21, 0, 24, 35, 1, 2, 34, 39, 4, 55, 51, 7, 40, 31, 62, 8, 30, 45, 3, 42, 18, 26, 72, 62, 25, 31, 5, 1, 9, 47, 65, 45, 69, 9, 67, 79, 17, 21, 43, 0, 46, 53, 0, 1, 0, 49, 8, 0, 7, 86, 89, 9, 80, 5, 8, 12, 12, 91, 81, 39, 27, 2, 42, 10, 25, 49, 1, 75, 30, 12, 7, 80, 73, 24, 78, 31, 15, 56, 72, 10, 10, 5, 17, 6, 35, 29, 1, 38, 13, 17, 0, 8, 25, 7, 15, 90, 15, 1, 9, 55, 38, 10, 9, 22, 16, 23, 3, 84, 56, 62, 6, 4, 1, 2, 31, 1, 7, 15, 2, 2, 5, 0, 31, 21, 91, 38, 38, 15, 5, 19, 28, 6, 72, 39, 3, 52, 18, 5, 0, 60, 23, 1, 9, 31, 1, 41, 57, 22, 2, 16, 28, 71, 84, 91, 5, 77, 91, 48, 0, 47, 87, 51, 40, 44, 85, 32, 53, 64, 84, 36, 0, 84, 78, 14, 88, 67, 76, 91, 36, 39, 57, 9, 28, 24, 77, 17, 3, 3, 51, 9, 9, 81, 24, 5, 69, 6, 30, 6, 2, 1, 36, 78, 2, 79, 73, 67, 76, 26, 30, 3, 4, 62, 27, 2, 36, 1, 2, 0, 15, 0, 1, 28, 36, 44, 30, 10, 30, 30, 61, 62, 2, 50, 1, 4, 13, 12, 9, 16, 3, 76, 0, 68, 84, 76, 38, 28, 34, 9, 40, 71, 12, 57, 62, 5, 0, 42, 40, 44, 6, 2, 11, 8, 38, 40, 47, 35, 17, 0, 19, 43, 0, 1, 2, 61, 1, 5, 9, 29, 21, 18, 13, 20, 7, 95, 12, 75, 76, 0, 5, 7, 0, 6, 22, 26, 11, 93, 81, 1, 32, 63, 26, 13, 14, 57, 86, 3, 41, 44, 0, 53, 9, 56, 5, 2, 85, 46, 90, 7, 18, 10, 38, 51, 79, 2, 2, 0, 58, 23, 69, 38, 3, 92, 0, 82, 5, 13, 0, 1, 0, 9, 11, 21, 38, 46, 0, 1, 1, 41, 7, 84, 10, 16, 4, 28, 16, 17, 9, 18, 30, 23, 92, 3, 11, 10, 40, 3, 26, 1, 8, 2, 7, 4, 23, 8, 3, 44, 3, 9, 1, 6, 0, 4, 14, 27, 17, 30, 66, 28, 6, 11, 16, 60, 8, 47, 47, 70, 55, 73, 47, 92, 11, 4, 10, 2, 3, 74, 17, 18, 10, 15, 35, 70, 19, 4, 4, 56, 6, 0, 40, 49, 44, 6, 2, 62, 20, 27, 66, 5, 0, 24, 12, 13, 3, 41, 4, 54, 38, 3, 5, 32, 9, 2, 16, 3, 0, 14, 24, 1, 34, 1, 1, 13, 2, 29, 74, 45, 6, 25, 84, 5, 12, 15, 36, 41, 21, 4, 51, 13, 44, 61, 84, 38, 10, 36, 36, 31, 24, 19, 28, 39, 4, 23, 46, 23, 69, 76, 12, 31, 53, 21, 59, 76, 42, 19, 69, 23, 19, 5, 60, 0, 9, 0, 30, 3, 34, 88, 0, 14, 9, 80, 76, 6, 23, 31, 25, 84, 7, 87, 18, 19, 62, 13, 1, 13, 5, 1, 18, 64, 0, 18, 86, 32, 8, 84, 4, 2, 26, 90, 43, 48, 8, 1, 16, 4, 72, 11, 2, 14, 20, 6, 67, 36, 4, 6, 32, 35, 83, 10, 5, 31, 12, 10, 1, 3, 54, 49, 94, 21, 82, 47, 0, 4, 8, 12, 0, 4, 4, 0, 1, 9, 13, 11, 9, 0, 54, 10, 7, 2, 46, 24, 2, 7, 30, 15, 14, 0, 0, 24, 39, 24, 28, 5, 28, 33, 55, 20, 47, 11, 30, 10, 14, 24, 14, 11, 25, 31, 5, 43, 73, 75, 8, 13, 11, 33, 6, 14, 0, 6, 5, 4, 17, 11, 9, 5, 7, 0, 0, 14, 12, 1, 6, 17, 20, 2, 55, 1, 80, 1, 97, 43, 51, 0, 0, 4, 1, 22, 57, 83, 4, 8, 15]\n",
            "Percentil 90: 71.0\n",
            "Cuartil 1: 6\n",
            "Cuartil 2: 18\n",
            "Cuartil 3: 43\n"
          ]
        }
      ]
    },
    {
      "cell_type": "code",
      "source": [
        "#Para la columna que tan instrumental es una cacion\n",
        "instrumentalness = df['instrumentalness_%']  #obtengo la columna del csv\n",
        "\n",
        "# Para convertir la serie en una lista.\n",
        "lista_datos = instrumentalness.tolist()\n",
        "\n",
        "print(lista_datos)\n",
        "#Percentil 90\n",
        "percentil_99 = calculoPercentil(lista_datos, 99)\n",
        "\n",
        "#Cuartiles 1,2,3 son los percentiles 25,50(mediana),75 respectivamente\n",
        "Q1 = calculoPercentil(lista_datos, 25)\n",
        "Q2 = calculoPercentil(lista_datos, 50)\n",
        "Q3 = calculoPercentil(lista_datos, 75)\n",
        "\n",
        "print(f\"Percentil 99: {percentil_99}\")\n",
        "\n",
        "print(f\"Cuartil 1: {Q1}\")\n",
        "print(f\"Cuartil 2: {Q2}\")\n",
        "print(f\"Cuartil 3: {Q3}\")"
      ],
      "metadata": {
        "colab": {
          "base_uri": "https://localhost:8080/"
        },
        "id": "uL50XpNLH5q1",
        "outputId": "7cff6df0-e869-475d-b9bb-a0f5ac0df134"
      },
      "execution_count": 31,
      "outputs": [
        {
          "output_type": "stream",
          "name": "stdout",
          "text": [
            "[0, 0, 0, 0, 63, 0, 0, 0, 0, 0, 0, 0, 0, 0, 0, 17, 0, 0, 0, 0, 0, 0, 2, 0, 0, 0, 0, 0, 0, 0, 0, 0, 0, 0, 0, 0, 0, 0, 0, 0, 0, 0, 0, 0, 0, 0, 0, 0, 0, 0, 0, 0, 0, 19, 0, 0, 0, 0, 0, 0, 1, 0, 0, 0, 0, 0, 0, 0, 0, 0, 0, 0, 18, 2, 3, 0, 0, 0, 0, 0, 0, 0, 0, 0, 0, 1, 0, 0, 51, 8, 0, 0, 0, 0, 0, 0, 9, 0, 0, 0, 0, 0, 0, 0, 0, 0, 0, 0, 0, 0, 0, 0, 1, 0, 0, 0, 0, 0, 0, 0, 0, 4, 0, 0, 0, 0, 0, 0, 0, 0, 0, 0, 0, 0, 0, 0, 0, 0, 0, 1, 0, 0, 0, 0, 0, 5, 0, 0, 0, 0, 0, 0, 0, 0, 0, 0, 0, 0, 0, 0, 0, 0, 0, 0, 0, 0, 0, 25, 0, 0, 0, 0, 0, 0, 0, 0, 0, 0, 0, 0, 0, 0, 0, 0, 46, 0, 0, 0, 0, 0, 0, 0, 0, 0, 0, 0, 0, 0, 0, 0, 0, 0, 0, 0, 0, 0, 0, 0, 0, 0, 0, 0, 0, 0, 0, 0, 0, 0, 0, 0, 0, 0, 0, 0, 0, 0, 0, 0, 1, 0, 0, 0, 0, 0, 0, 0, 0, 0, 51, 0, 0, 0, 0, 0, 0, 0, 0, 0, 0, 0, 0, 0, 0, 0, 0, 0, 0, 0, 0, 0, 0, 0, 0, 0, 0, 0, 0, 0, 0, 0, 0, 1, 0, 0, 0, 0, 0, 0, 0, 0, 10, 0, 0, 1, 90, 0, 0, 0, 0, 0, 0, 0, 0, 0, 0, 0, 0, 0, 0, 0, 0, 0, 0, 0, 0, 0, 0, 47, 0, 0, 0, 0, 4, 0, 0, 0, 0, 0, 0, 0, 0, 0, 0, 0, 0, 0, 35, 0, 0, 0, 0, 0, 0, 0, 0, 0, 0, 0, 0, 0, 0, 0, 0, 0, 0, 2, 0, 0, 0, 0, 0, 0, 0, 0, 0, 0, 0, 0, 0, 0, 0, 0, 0, 12, 0, 0, 0, 0, 0, 0, 0, 1, 0, 0, 0, 0, 0, 0, 0, 0, 0, 0, 0, 0, 0, 0, 3, 0, 0, 1, 0, 0, 0, 0, 0, 13, 0, 0, 0, 1, 0, 0, 0, 0, 0, 0, 0, 0, 41, 0, 0, 0, 0, 4, 0, 0, 0, 13, 0, 24, 23, 0, 0, 0, 0, 0, 6, 0, 0, 0, 0, 1, 0, 0, 0, 0, 0, 0, 0, 4, 0, 0, 0, 0, 0, 0, 0, 0, 0, 0, 0, 0, 0, 0, 0, 18, 0, 0, 0, 0, 0, 0, 2, 3, 0, 0, 0, 0, 1, 0, 0, 0, 0, 0, 0, 0, 0, 0, 0, 0, 0, 0, 20, 0, 0, 0, 0, 0, 0, 0, 0, 0, 0, 0, 0, 0, 0, 0, 0, 0, 0, 0, 0, 0, 0, 5, 0, 0, 0, 0, 0, 0, 0, 0, 0, 0, 0, 0, 0, 0, 0, 0, 0, 0, 0, 0, 0, 0, 0, 0, 0, 0, 0, 0, 0, 0, 0, 0, 0, 0, 0, 0, 0, 0, 0, 0, 0, 0, 1, 9, 0, 0, 0, 0, 0, 0, 0, 0, 0, 0, 0, 0, 0, 1, 0, 0, 0, 1, 0, 0, 0, 0, 0, 0, 0, 0, 0, 30, 0, 63, 0, 15, 0, 0, 0, 0, 0, 0, 0, 0, 0, 0, 0, 0, 0, 0, 0, 0, 2, 0, 0, 0, 0, 0, 0, 0, 24, 0, 0, 0, 0, 0, 0, 0, 0, 0, 0, 0, 0, 0, 0, 0, 0, 0, 0, 0, 0, 0, 0, 0, 0, 0, 0, 4, 0, 0, 0, 0, 0, 0, 0, 0, 0, 0, 0, 0, 0, 0, 0, 0, 0, 0, 0, 0, 0, 0, 0, 0, 0, 0, 0, 0, 0, 6, 8, 0, 0, 0, 0, 0, 0, 0, 0, 0, 0, 0, 0, 0, 0, 0, 0, 0, 0, 0, 91, 0, 27, 0, 0, 0, 0, 72, 0, 0, 0, 0, 0, 42, 0, 0, 0, 0, 0, 9, 0, 0, 0, 0, 0, 0, 0, 0, 0, 0, 0, 0, 0, 0, 0, 0, 0, 0, 0, 0, 0, 0, 0, 0, 0, 0, 0, 0, 0, 0, 0, 0, 0, 0, 0, 0, 0, 0, 0, 0, 0, 0, 0, 0, 0, 0, 0, 0, 0, 0, 0, 0, 0, 0, 0, 0, 0, 0, 0, 0, 0, 0, 0, 0, 0, 0, 0, 0, 0, 0, 0, 0, 0, 0, 0, 0, 0, 0, 0, 0, 0, 0, 0, 0, 0, 0, 0, 10, 0, 0, 0, 0, 0, 0, 0, 0, 0, 0, 1, 0, 0, 0, 0, 0, 0, 0, 0, 0, 0, 0, 0, 0, 0, 0, 0, 0, 0, 0, 0, 0, 0, 0, 0, 0, 6, 0, 0, 0, 0, 0, 0, 0, 0, 0, 0, 0, 0, 0, 0, 14, 0, 0, 0, 5, 0, 0, 0, 2, 1, 0, 3, 0, 1, 0, 0, 0, 0, 0, 44, 0, 0, 2, 0, 0, 0, 0, 0, 11, 0, 0, 0, 0, 0, 0, 0, 0, 0, 0, 0, 0, 0, 0, 0, 0, 0, 0, 0, 0, 0, 0, 0, 1, 0, 0, 0, 0, 0, 0, 0, 61, 0, 0, 0, 0, 0, 63, 0, 5, 0, 0, 0, 1, 0, 83, 0, 0, 0, 0, 0, 18, 0, 0, 0, 0, 0, 0, 0, 0, 0, 0, 0, 0, 0, 0, 22, 0, 0, 0, 33, 0, 0, 0, 0, 0, 0, 1, 0, 0, 0]\n",
            "Percentil 90: 48.92000000000007\n",
            "Cuartil 1: 0\n",
            "Cuartil 2: 0\n",
            "Cuartil 3: 0\n"
          ]
        }
      ]
    },
    {
      "cell_type": "code",
      "source": [
        "#Para la columna que tan viva es una cancion\n",
        "liveness = df['liveness_%']  #obtengo la columna del csv\n",
        "\n",
        "# Para convertir la serie en una lista.\n",
        "lista_datos = liveness.tolist()\n",
        "\n",
        "print(lista_datos)\n",
        "#Percentil 90\n",
        "percentil_99 = calculoPercentil(lista_datos, 99)\n",
        "\n",
        "#Cuartiles 1,2,3 son los percentiles 25,50(mediana),75 respectivamente\n",
        "Q1 = calculoPercentil(lista_datos, 25)\n",
        "Q2 = calculoPercentil(lista_datos, 50)\n",
        "Q3 = calculoPercentil(lista_datos, 75)\n",
        "\n",
        "print(f\"Percentil 99: {percentil_99}\")\n",
        "\n",
        "print(f\"Cuartil 1: {Q1}\")\n",
        "print(f\"Cuartil 2: {Q2}\")\n",
        "print(f\"Cuartil 3: {Q3}\")"
      ],
      "metadata": {
        "colab": {
          "base_uri": "https://localhost:8080/"
        },
        "id": "yXtZ9cjOIQch",
        "outputId": "6bc9c9f3-552c-4ab6-e7ca-ad739b6e624e"
      },
      "execution_count": 32,
      "outputs": [
        {
          "output_type": "stream",
          "name": "stdout",
          "text": [
            "[8, 10, 31, 11, 11, 8, 8, 11, 28, 8, 27, 15, 3, 9, 31, 16, 34, 10, 12, 36, 42, 6, 11, 12, 36, 9, 14, 56, 15, 33, 11, 11, 8, 19, 9, 11, 11, 13, 12, 11, 10, 7, 35, 11, 23, 10, 6, 15, 13, 44, 10, 12, 15, 8, 9, 9, 17, 22, 9, 27, 9, 25, 9, 17, 10, 23, 48, 10, 35, 15, 43, 9, 25, 10, 23, 11, 12, 27, 10, 30, 15, 20, 35, 12, 10, 11, 11, 9, 25, 9, 12, 10, 10, 6, 83, 10, 11, 11, 12, 38, 15, 11, 12, 13, 12, 10, 10, 9, 7, 13, 21, 11, 15, 17, 11, 6, 12, 34, 23, 9, 15, 8, 26, 11, 7, 29, 10, 34, 10, 26, 27, 11, 9, 9, 7, 12, 18, 9, 11, 32, 23, 13, 12, 36, 6, 10, 53, 8, 31, 5, 9, 10, 5, 31, 28, 28, 9, 12, 40, 11, 12, 8, 36, 16, 50, 19, 7, 64, 11, 14, 14, 21, 22, 28, 37, 16, 41, 8, 45, 9, 12, 9, 12, 11, 11, 27, 42, 9, 9, 12, 7, 9, 13, 19, 10, 13, 7, 37, 10, 9, 12, 10, 10, 27, 12, 7, 30, 9, 13, 9, 11, 8, 13, 11, 22, 11, 9, 32, 58, 20, 7, 35, 14, 11, 5, 11, 16, 27, 25, 91, 38, 7, 19, 11, 10, 33, 16, 16, 26, 6, 80, 31, 6, 10, 18, 36, 13, 20, 23, 80, 4, 18, 9, 14, 12, 32, 11, 47, 26, 15, 38, 11, 22, 38, 8, 9, 10, 17, 53, 50, 13, 11, 10, 6, 4, 6, 41, 10, 6, 8, 15, 23, 10, 10, 12, 9, 12, 12, 17, 37, 18, 36, 33, 39, 11, 15, 36, 20, 9, 32, 15, 15, 22, 18, 37, 12, 12, 30, 11, 30, 10, 12, 19, 11, 12, 9, 61, 7, 31, 13, 56, 9, 13, 12, 9, 14, 11, 10, 7, 10, 16, 64, 38, 9, 26, 15, 36, 12, 11, 15, 33, 21, 12, 8, 6, 11, 11, 12, 11, 10, 18, 11, 29, 13, 21, 26, 21, 14, 32, 35, 12, 12, 14, 10, 11, 42, 11, 92, 11, 5, 11, 12, 34, 36, 19, 10, 10, 12, 14, 9, 19, 41, 15, 11, 21, 26, 9, 13, 9, 52, 19, 15, 12, 33, 9, 14, 44, 8, 31, 14, 8, 32, 15, 8, 17, 27, 7, 10, 8, 72, 5, 12, 12, 31, 28, 7, 21, 29, 40, 33, 6, 18, 14, 31, 6, 23, 11, 17, 20, 36, 9, 11, 72, 7, 12, 12, 5, 13, 10, 7, 29, 7, 46, 45, 6, 29, 30, 12, 18, 9, 21, 34, 9, 9, 32, 21, 13, 77, 32, 15, 11, 9, 27, 11, 11, 13, 34, 9, 15, 40, 18, 8, 15, 34, 11, 10, 15, 19, 10, 12, 11, 38, 11, 8, 22, 11, 12, 10, 7, 9, 66, 12, 9, 39, 24, 7, 10, 16, 44, 21, 37, 7, 16, 31, 32, 7, 11, 13, 9, 21, 30, 8, 26, 11, 60, 35, 13, 31, 9, 38, 13, 49, 4, 19, 5, 7, 36, 10, 9, 14, 9, 14, 11, 12, 46, 10, 14, 9, 23, 3, 37, 10, 13, 66, 9, 15, 36, 7, 10, 5, 35, 9, 4, 14, 42, 11, 10, 23, 24, 14, 12, 11, 6, 13, 8, 42, 9, 11, 12, 12, 11, 9, 7, 26, 17, 13, 6, 14, 9, 5, 16, 12, 7, 5, 27, 10, 8, 29, 8, 26, 9, 9, 13, 5, 15, 8, 34, 34, 11, 9, 18, 97, 8, 13, 26, 5, 11, 12, 8, 23, 15, 13, 6, 11, 9, 24, 11, 32, 11, 41, 18, 33, 17, 13, 11, 14, 22, 33, 26, 23, 10, 60, 8, 34, 26, 36, 13, 34, 30, 13, 8, 8, 14, 13, 49, 13, 29, 11, 14, 6, 10, 19, 28, 8, 9, 32, 26, 17, 7, 12, 48, 34, 8, 15, 8, 15, 38, 7, 38, 17, 28, 8, 9, 45, 29, 8, 11, 26, 9, 14, 13, 10, 8, 11, 9, 18, 21, 12, 90, 9, 12, 11, 24, 8, 67, 10, 8, 11, 10, 33, 5, 9, 10, 12, 30, 10, 5, 11, 10, 12, 7, 7, 34, 17, 9, 8, 25, 30, 15, 29, 16, 7, 10, 10, 17, 11, 6, 10, 36, 11, 7, 13, 11, 58, 10, 10, 33, 16, 9, 8, 9, 13, 7, 21, 10, 60, 11, 11, 35, 13, 9, 19, 10, 7, 9, 27, 13, 10, 35, 9, 6, 10, 28, 12, 34, 17, 18, 12, 17, 11, 17, 12, 11, 9, 14, 22, 14, 10, 13, 8, 32, 18, 7, 8, 35, 15, 12, 11, 47, 9, 24, 11, 49, 5, 34, 3, 14, 9, 12, 12, 9, 11, 48, 13, 8, 9, 10, 19, 6, 11, 11, 29, 11, 11, 13, 9, 13, 17, 10, 13, 9, 6, 9, 7, 13, 9, 33, 4, 11, 10, 25, 18, 14, 8, 8, 24, 10, 17, 51, 9, 32, 63, 6, 20, 18, 17, 18, 9, 11, 33, 41, 13, 10, 9, 7, 16, 19, 12, 11, 11, 11, 10, 20, 26, 6, 15, 34, 14, 3, 44, 11, 10, 8, 45, 9, 8, 10, 8, 12, 27, 7, 12, 23, 28, 9, 13, 23, 17, 10, 8, 9, 12, 11, 25, 29, 13, 27, 21, 34, 19, 36, 9, 9, 15, 33, 9, 15, 22, 6, 10, 11, 10, 54, 15, 19, 11, 15, 11, 8, 51, 6, 48, 19, 16, 8, 16, 63, 9, 11, 13, 5, 7, 35, 12, 30, 39, 9, 32, 12, 16, 12, 15, 14, 12, 14, 39, 25, 8, 8, 12, 8, 12, 11]\n",
            "Percentil 99: 69.40000000000009\n",
            "Cuartil 1: 10\n",
            "Cuartil 2: 12\n",
            "Cuartil 3: 24\n"
          ]
        }
      ]
    },
    {
      "cell_type": "code",
      "source": [
        "#Para la columna cantidad de palabras en una cancion\n",
        "speechiness = df['speechiness_%']  #obtengo la columna del csv\n",
        "\n",
        "# Para convertir la serie en una lista.\n",
        "lista_datos = speechiness.tolist()\n",
        "\n",
        "print(lista_datos)\n",
        "#Percentil 90\n",
        "percentil_99 = calculoPercentil(lista_datos, 99)\n",
        "\n",
        "#Cuartiles 1,2,3 son los percentiles 25,50(mediana),75 respectivamente\n",
        "Q1 = calculoPercentil(lista_datos, 25)\n",
        "Q2 = calculoPercentil(lista_datos, 50)\n",
        "Q3 = calculoPercentil(lista_datos, 75)\n",
        "\n",
        "print(f\"Percentil 99: {percentil_99}\")\n",
        "\n",
        "print(f\"Cuartil 1: {Q1}\")\n",
        "print(f\"Cuartil 2: {Q2}\")\n",
        "print(f\"Cuartil 3: {Q3}\")"
      ],
      "metadata": {
        "colab": {
          "base_uri": "https://localhost:8080/"
        },
        "id": "rZsEx5OPIb05",
        "outputId": "31de23e3-71d2-49a8-ace5-f26feef21136"
      },
      "execution_count": 33,
      "outputs": [
        {
          "output_type": "stream",
          "name": "stdout",
          "text": [
            "[4, 4, 6, 15, 6, 24, 3, 4, 9, 33, 5, 7, 7, 3, 6, 4, 3, 3, 16, 4, 4, 3, 3, 5, 20, 9, 4, 4, 4, 5, 6, 5, 5, 5, 28, 4, 3, 6, 4, 6, 6, 5, 4, 10, 25, 3, 5, 7, 28, 7, 5, 3, 7, 4, 4, 7, 5, 4, 19, 4, 5, 5, 3, 14, 29, 3, 7, 7, 4, 3, 5, 9, 3, 3, 4, 3, 3, 9, 7, 6, 4, 3, 9, 3, 5, 4, 3, 8, 7, 7, 3, 9, 4, 4, 4, 33, 3, 13, 3, 3, 10, 5, 5, 28, 5, 6, 3, 3, 5, 3, 10, 3, 3, 4, 6, 33, 8, 17, 6, 3, 4, 4, 4, 4, 3, 7, 8, 5, 3, 5, 5, 4, 9, 5, 5, 8, 34, 4, 2, 3, 11, 6, 25, 9, 5, 11, 4, 3, 3, 5, 5, 5, 24, 20, 5, 6, 17, 4, 6, 4, 5, 6, 5, 3, 3, 10, 3, 4, 4, 4, 3, 4, 3, 5, 9, 22, 16, 4, 6, 8, 4, 8, 4, 3, 3, 5, 11, 4, 5, 5, 5, 3, 25, 8, 10, 3, 4, 7, 11, 5, 6, 28, 12, 10, 4, 33, 4, 4, 5, 49, 3, 9, 13, 4, 15, 6, 11, 19, 6, 21, 4, 6, 13, 3, 16, 14, 3, 12, 13, 5, 4, 14, 8, 23, 15, 7, 4, 8, 8, 5, 9, 22, 3, 8, 4, 24, 3, 64, 12, 5, 6, 11, 5, 5, 5, 5, 5, 30, 5, 39, 5, 25, 3, 3, 5, 4, 36, 9, 42, 3, 4, 5, 19, 5, 9, 9, 6, 3, 10, 7, 4, 3, 15, 4, 10, 4, 5, 6, 3, 5, 4, 16, 4, 4, 4, 4, 26, 6, 8, 6, 20, 30, 32, 10, 20, 4, 35, 7, 5, 3, 3, 3, 4, 7, 7, 4, 3, 6, 3, 11, 6, 31, 4, 6, 5, 8, 10, 5, 5, 5, 6, 4, 6, 13, 3, 5, 3, 3, 6, 3, 3, 38, 4, 4, 3, 6, 5, 3, 26, 4, 3, 29, 23, 3, 5, 3, 7, 3, 6, 3, 4, 7, 5, 13, 33, 28, 26, 5, 32, 2, 3, 3, 7, 4, 5, 6, 4, 3, 4, 3, 27, 6, 9, 8, 4, 4, 10, 3, 5, 4, 10, 6, 4, 7, 20, 3, 4, 32, 8, 4, 4, 3, 4, 11, 9, 10, 34, 8, 3, 4, 6, 5, 3, 9, 24, 7, 4, 5, 29, 6, 6, 29, 12, 24, 6, 3, 46, 10, 8, 3, 11, 4, 6, 6, 9, 10, 5, 6, 3, 5, 4, 4, 3, 5, 3, 3, 18, 4, 4, 3, 5, 4, 4, 4, 3, 7, 8, 3, 9, 3, 4, 3, 3, 5, 5, 3, 6, 23, 16, 3, 4, 5, 6, 4, 12, 4, 5, 3, 3, 9, 16, 5, 7, 4, 38, 7, 4, 6, 36, 7, 4, 4, 8, 8, 9, 8, 5, 8, 6, 39, 5, 10, 3, 5, 5, 9, 8, 3, 8, 5, 4, 3, 4, 18, 3, 21, 3, 19, 7, 15, 4, 5, 31, 3, 22, 5, 5, 10, 8, 23, 4, 4, 4, 5, 36, 7, 27, 3, 3, 5, 4, 11, 16, 8, 3, 3, 14, 18, 4, 6, 4, 3, 29, 3, 18, 5, 32, 11, 5, 4, 8, 6, 11, 19, 6, 9, 10, 35, 4, 5, 7, 3, 30, 6, 3, 5, 36, 4, 5, 5, 5, 3, 7, 11, 4, 4, 9, 3, 13, 17, 16, 6, 21, 3, 22, 9, 4, 6, 23, 12, 4, 28, 7, 5, 13, 5, 3, 31, 5, 3, 9, 10, 4, 3, 5, 4, 5, 14, 5, 23, 10, 24, 11, 3, 7, 4, 26, 8, 5, 33, 8, 6, 16, 8, 3, 4, 4, 4, 13, 24, 20, 5, 11, 28, 3, 7, 7, 8, 8, 24, 7, 6, 3, 25, 31, 38, 3, 22, 37, 4, 4, 9, 8, 4, 22, 8, 4, 30, 4, 8, 17, 13, 12, 21, 34, 4, 6, 9, 7, 6, 5, 40, 5, 18, 3, 3, 12, 4, 7, 21, 40, 3, 24, 3, 11, 5, 5, 3, 22, 4, 8, 8, 28, 4, 3, 8, 24, 40, 37, 9, 4, 4, 3, 20, 4, 6, 4, 5, 6, 8, 5, 13, 9, 39, 4, 3, 29, 4, 14, 10, 4, 14, 5, 4, 12, 3, 4, 6, 6, 4, 8, 3, 4, 23, 34, 16, 6, 3, 4, 27, 3, 7, 10, 41, 6, 8, 6, 4, 21, 15, 3, 5, 44, 14, 7, 27, 31, 5, 43, 35, 5, 21, 33, 5, 9, 20, 9, 38, 5, 36, 46, 6, 4, 36, 7, 29, 6, 21, 8, 31, 31, 8, 12, 3, 32, 9, 5, 9, 6, 4, 8, 4, 38, 31, 7, 9, 9, 19, 4, 35, 25, 4, 36, 6, 16, 6, 14, 5, 5, 3, 4, 34, 3, 4, 3, 39, 19, 17, 4, 4, 4, 4, 26, 6, 5, 11, 4, 14, 25, 3, 5, 6, 5, 3, 4, 14, 23, 4, 34, 8, 3, 3, 5, 5, 3, 4, 3, 11, 4, 20, 3, 4, 4, 8, 8, 6, 8, 4, 5, 7, 4, 5, 9, 7, 14, 23, 25, 11, 13, 11, 45, 23, 12, 8, 45, 8, 40, 10, 4, 4, 6, 4, 14, 14, 4, 4, 12, 3, 8, 11, 4, 12, 5, 5, 12, 26, 7, 7, 25, 7, 2, 3, 23, 7, 4, 4, 6, 5, 3, 4, 8, 18, 5, 3, 11, 4, 10, 4, 46, 36, 44, 32, 12, 39, 17, 59, 14, 7, 4, 5, 5, 12, 3, 20, 3, 32, 27, 4, 3, 6, 6, 5, 5]\n",
            "Percentil 99: 43.48000000000002\n",
            "Cuartil 1: 4\n",
            "Cuartil 2: 6\n",
            "Cuartil 3: 11\n"
          ]
        }
      ]
    },
    {
      "cell_type": "code",
      "source": [
        "#Grafica de BPM\n",
        "import matplotlib.pyplot as plt\n",
        "import numpy as np\n",
        "\n",
        "# Generar datos aleatorios\n",
        "bpm = df['bpm']  #obtengo la columna del csv\n",
        "\n",
        "# Para convertir la serie en una lista.\n",
        "lista_datos = bpm.tolist()\n",
        "\n",
        "#data = np.random.randn(1000)\n",
        "\n",
        "# Crear el histograma\n",
        "plt.hist(lista_datos, bins=30, color='Green', edgecolor='black')\n",
        "\n",
        "# Añadir título y etiquetas\n",
        "plt.title('Histograma de datos')\n",
        "plt.xlabel('BPM(beats por minuto)')\n",
        "plt.ylabel('Frecuencia')\n",
        "\n",
        "# Mostrar el histograma\n",
        "plt.show()\n",
        "print(\"Se parece a la distribucion Normal o campana de Gauss\")\n"
      ],
      "metadata": {
        "colab": {
          "base_uri": "https://localhost:8080/",
          "height": 489
        },
        "id": "P_athOHZIm53",
        "outputId": "1ed76afb-0b4c-4978-c7ef-352b47e8733c"
      },
      "execution_count": 36,
      "outputs": [
        {
          "output_type": "display_data",
          "data": {
            "text/plain": [
              "<Figure size 640x480 with 1 Axes>"
            ],
            "image/png": "[encoded data removed]"
          },
          "metadata": {}
        },
        {
          "output_type": "stream",
          "name": "stdout",
          "text": [
            "Se parece a la distribucion Normal o campana de Gauss\n"
          ]
        }
      ]
    },
    {
      "cell_type": "code",
      "source": [
        "#Grafica de que tan acustica es una cancion\n",
        "import matplotlib.pyplot as plt\n",
        "import numpy as np\n",
        "\n",
        "# Generar datos aleatorios\n",
        "acousticness = df['acousticness_%']  #obtengo la columna del csv\n",
        "\n",
        "# Para convertir la serie en una lista.\n",
        "lista_datos = acousticness.tolist()\n",
        "\n",
        "#data = np.random.randn(1000)\n",
        "\n",
        "# Crear el histograma\n",
        "plt.hist(lista_datos, bins=30, color='orange', edgecolor='black')\n",
        "\n",
        "# Añadir título y etiquetas\n",
        "plt.title('Histograma de datos')\n",
        "plt.xlabel('acustica')\n",
        "plt.ylabel('Frecuencia')\n",
        "\n",
        "# Mostrar el histograma\n",
        "plt.show()\n",
        "print(\"Parece una distirbucion exponencial\")"
      ],
      "metadata": {
        "colab": {
          "base_uri": "https://localhost:8080/",
          "height": 489
        },
        "id": "Ftq3MGvrJvMd",
        "outputId": "b6627dca-fe8b-455e-fa29-1ef205b084f5"
      },
      "execution_count": 38,
      "outputs": [
        {
          "output_type": "display_data",
          "data": {
            "text/plain": [
              "<Figure size 640x480 with 1 Axes>"
            ],
            "image/png": "[encoded data removed]"
          },
          "metadata": {}
        },
        {
          "output_type": "stream",
          "name": "stdout",
          "text": [
            "Parece una distirbucion de Poisson\n"
          ]
        }
      ]
    },
    {
      "cell_type": "code",
      "source": [
        "#Grafica de la energia que transmite una cancion\n",
        "import matplotlib.pyplot as plt\n",
        "import numpy as np\n",
        "\n",
        "# Generar datos aleatorios\n",
        "energy = df['energy_%']  #obtengo la columna del csv\n",
        "\n",
        "# Para convertir la serie en una lista.\n",
        "lista_datos = energy.tolist()\n",
        "\n",
        "#data = np.random.randn(1000)\n",
        "\n",
        "# Crear el histograma\n",
        "plt.hist(lista_datos, bins=30, color='yellow', edgecolor='black')\n",
        "\n",
        "# Añadir título y etiquetas\n",
        "plt.title('Histograma de datos')\n",
        "plt.xlabel('energia que transmite una cancion')\n",
        "plt.ylabel('Frecuencia')\n",
        "\n",
        "# Mostrar el histograma\n",
        "plt.show()\n",
        "print(\"Parece una distirbucion de Poisson\")"
      ],
      "metadata": {
        "colab": {
          "base_uri": "https://localhost:8080/",
          "height": 489
        },
        "id": "WaWl3wxOKU8J",
        "outputId": "ad12ac93-e1d4-436c-adfb-075c3474bbe5"
      },
      "execution_count": 41,
      "outputs": [
        {
          "output_type": "display_data",
          "data": {
            "text/plain": [
              "<Figure size 640x480 with 1 Axes>"
            ],
            "image/png": "[encoded data removed]"
          },
          "metadata": {}
        },
        {
          "output_type": "stream",
          "name": "stdout",
          "text": [
            "Parece una distirbucion de Poisson\n"
          ]
        }
      ]
    }
  ]
}